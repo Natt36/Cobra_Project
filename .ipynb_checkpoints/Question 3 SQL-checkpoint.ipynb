{
 "cells": [
  {
   "cell_type": "markdown",
   "id": "b245f0ec",
   "metadata": {},
   "source": [
    "# III. How do offered salaries compare to the prevailing wage?\n",
    "\n",
    "## Are there job sub-categories that tend to get over-paid or under-paid?\n",
    "## Are there companies that tend to over-pay or under-pay?\n"
   ]
  },
  {
   "cell_type": "code",
   "execution_count": null,
   "id": "c9976fc5",
   "metadata": {},
   "outputs": [],
   "source": [
    "SELECT employer_name,work_state, job_title_subgroup, paid_wage_per_year, prevailing_wage_per_year, paid_wage_per_year-prevailing_wage_per_year AS Diff\n",
    "FROM salary_data_states_corrected\n",
    "WHERE job_title_subgroup = \"attorney\"\n",
    "ORDER BY paid_wage_per_year-prevailing_wage_per_year ASC\n",
    "LIMIT 10\n",
    "##7"
   ]
  },
  {
   "cell_type": "code",
   "execution_count": null,
   "id": "16506237",
   "metadata": {},
   "outputs": [],
   "source": [
    "SELECT employer_name,work_state, job_title_subgroup, paid_wage_per_year, prevailing_wage_per_year, paid_wage_per_year-prevailing_wage_per_year AS Diff\n",
    "FROM salary_data_states_corrected\n",
    "WHERE job_title_subgroup = \"assistant professor\"\n",
    "ORDER BY paid_wage_per_year-prevailing_wage_per_year ASC\n",
    "LIMIT 560\n",
    "##547"
   ]
  },
  {
   "cell_type": "code",
   "execution_count": null,
   "id": "d0178304",
   "metadata": {},
   "outputs": [],
   "source": [
    "SELECT employer_name,work_state, job_title_subgroup, paid_wage_per_year, prevailing_wage_per_year, paid_wage_per_year-prevailing_wage_per_year AS Diff\n",
    "FROM salary_data_states_corrected\n",
    "WHERE job_title_subgroup = \"business analyst\"\n",
    "ORDER BY paid_wage_per_year-prevailing_wage_per_year ASC\n",
    "LIMIT 80\n",
    "##77"
   ]
  },
  {
   "cell_type": "code",
   "execution_count": null,
   "id": "b8e1e434",
   "metadata": {},
   "outputs": [],
   "source": [
    "SELECT employer_name,work_state, job_title_subgroup, paid_wage_per_year, prevailing_wage_per_year, paid_wage_per_year-prevailing_wage_per_year AS Diff\n",
    "FROM salary_data_states_corrected\n",
    "WHERE job_title_subgroup = \"data analyst\"\n",
    "ORDER BY paid_wage_per_year-prevailing_wage_per_year ASC\n",
    "LIMIT 10\n",
    "##10"
   ]
  },
  {
   "cell_type": "code",
   "execution_count": null,
   "id": "bb191734",
   "metadata": {},
   "outputs": [],
   "source": [
    "SELECT employer_name,work_state, job_title_subgroup, paid_wage_per_year, prevailing_wage_per_year, paid_wage_per_year-prevailing_wage_per_year AS Diff\n",
    "FROM salary_data_states_corrected\n",
    "WHERE job_title_subgroup = \"data scientist\"\n",
    "ORDER BY paid_wage_per_year-prevailing_wage_per_year ASC\n",
    "LIMIT 5\n",
    "##4"
   ]
  },
  {
   "cell_type": "code",
   "execution_count": null,
   "id": "6db49b1a",
   "metadata": {},
   "outputs": [],
   "source": [
    "SELECT employer_name,work_state, job_title_subgroup, paid_wage_per_year, prevailing_wage_per_year, paid_wage_per_year-prevailing_wage_per_year AS Diff\n",
    "FROM salary_data_states_corrected\n",
    "WHERE job_title_subgroup = \"management consultant\"\n",
    "ORDER BY paid_wage_per_year-prevailing_wage_per_year ASC\n",
    "LIMIT 5\n",
    "##2"
   ]
  },
  {
   "cell_type": "code",
   "execution_count": null,
   "id": "7b79da60",
   "metadata": {},
   "outputs": [],
   "source": [
    "SELECT employer_name,work_state, job_title_subgroup, paid_wage_per_year, prevailing_wage_per_year, paid_wage_per_year-prevailing_wage_per_year AS Diff\n",
    "FROM salary_data_states_corrected\n",
    "WHERE job_title_subgroup = \"software engineer\"\n",
    "ORDER BY paid_wage_per_year-prevailing_wage_per_year ASC\n",
    "LIMIT 310\n",
    "##307"
   ]
  },
  {
   "cell_type": "code",
   "execution_count": null,
   "id": "56450e18",
   "metadata": {},
   "outputs": [],
   "source": [
    "SELECT employer_name,work_state, job_title_subgroup, paid_wage_per_year, prevailing_wage_per_year, paid_wage_per_year-prevailing_wage_per_year AS Diff\n",
    "FROM salary_data_states_corrected\n",
    "WHERE job_title_subgroup = \"teacher\"\n",
    "ORDER BY paid_wage_per_year-prevailing_wage_per_year ASC\n",
    "LIMIT 105\n",
    "##101"
   ]
  }
 ],
 "metadata": {
  "kernelspec": {
   "display_name": "Python 3 (ipykernel)",
   "language": "python",
   "name": "python3"
  },
  "language_info": {
   "codemirror_mode": {
    "name": "ipython",
    "version": 3
   },
   "file_extension": ".py",
   "mimetype": "text/x-python",
   "name": "python",
   "nbconvert_exporter": "python",
   "pygments_lexer": "ipython3",
   "version": "3.9.7"
  }
 },
 "nbformat": 4,
 "nbformat_minor": 5
}
