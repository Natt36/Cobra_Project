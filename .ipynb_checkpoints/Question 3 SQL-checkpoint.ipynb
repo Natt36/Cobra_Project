{
 "cells": [
  {
   "cell_type": "markdown",
   "id": "37b439d5",
   "metadata": {},
   "source": [
    "# III. How do offered salaries compare to the prevailing wage?\n",
    "\n",
    "## Are there job sub-categories that tend to get over-paid or under-paid?\n",
    "## Are there companies that tend to over-pay or under-pay?\n"
   ]
  },
  {
   "cell_type": "code",
   "execution_count": 20,
   "id": "e6b8db0e",
   "metadata": {},
   "outputs": [
    {
     "data": {
      "text/plain": [
       "0.6306866413993472"
      ]
     },
     "execution_count": 20,
     "metadata": {},
     "output_type": "execute_result"
    }
   ],
   "source": [
    "((7+547+77+10+4+2+307+101)/167278)*100"
   ]
  },
  {
   "cell_type": "markdown",
   "id": "7738ea4b",
   "metadata": {},
   "source": [
    "### Attorney"
   ]
  },
  {
   "cell_type": "code",
   "execution_count": null,
   "id": "b8799e23",
   "metadata": {},
   "outputs": [],
   "source": [
    "SELECT employer_name,work_state, job_title_subgroup, paid_wage_per_year, prevailing_wage_per_year, paid_wage_per_year-prevailing_wage_per_year AS Diff\n",
    "FROM salary_data_states_corrected\n",
    "WHERE job_title_subgroup = \"attorney\"\n",
    "ORDER BY paid_wage_per_year-prevailing_wage_per_year ASC\n",
    "LIMIT 10\n",
    "##7"
   ]
  },
  {
   "cell_type": "code",
   "execution_count": 3,
   "id": "28d99573",
   "metadata": {},
   "outputs": [
    {
     "data": {
      "text/plain": [
       "0.004184650701227896"
      ]
     },
     "execution_count": 3,
     "metadata": {},
     "output_type": "execute_result"
    }
   ],
   "source": [
    "(7/167278)*100"
   ]
  },
  {
   "cell_type": "code",
   "execution_count": null,
   "id": "98e18fb7",
   "metadata": {},
   "outputs": [],
   "source": [
    "SELECT COUNT(job_title_subgroup)\n",
    "FROM salary_data_states_corrected\n",
    "WHERE job_title_subgroup = 'attorney'\n",
    "##1488"
   ]
  },
  {
   "cell_type": "code",
   "execution_count": 19,
   "id": "a114ee8b",
   "metadata": {},
   "outputs": [
    {
     "data": {
      "text/plain": [
       "0.47043010752688175"
      ]
     },
     "execution_count": 19,
     "metadata": {},
     "output_type": "execute_result"
    }
   ],
   "source": [
    "(7/1488)*100"
   ]
  },
  {
   "cell_type": "markdown",
   "id": "c21cfe55",
   "metadata": {},
   "source": [
    "### Assistant Professor"
   ]
  },
  {
   "cell_type": "code",
   "execution_count": null,
   "id": "d9c4e200",
   "metadata": {},
   "outputs": [],
   "source": [
    "SELECT employer_name,work_state, job_title_subgroup, paid_wage_per_year, prevailing_wage_per_year, paid_wage_per_year-prevailing_wage_per_year AS Diff\n",
    "FROM salary_data_states_corrected\n",
    "WHERE job_title_subgroup = \"assistant professor\"\n",
    "ORDER BY paid_wage_per_year-prevailing_wage_per_year ASC\n",
    "LIMIT 560\n",
    "##547"
   ]
  },
  {
   "cell_type": "code",
   "execution_count": 4,
   "id": "4b10b6b1",
   "metadata": {},
   "outputs": [
    {
     "data": {
      "text/plain": [
       "0.32700056193880844"
      ]
     },
     "execution_count": 4,
     "metadata": {},
     "output_type": "execute_result"
    }
   ],
   "source": [
    "(547/167278)*100"
   ]
  },
  {
   "cell_type": "code",
   "execution_count": null,
   "id": "2e729869",
   "metadata": {},
   "outputs": [],
   "source": [
    "SELECT COUNT(job_title_subgroup)\n",
    "FROM salary_data_states_corrected\n",
    "WHERE job_title_subgroup = 'assistant professor'\n",
    "##18866"
   ]
  },
  {
   "cell_type": "code",
   "execution_count": 18,
   "id": "d0a0c6f7",
   "metadata": {},
   "outputs": [
    {
     "data": {
      "text/plain": [
       "2.8993957383653135"
      ]
     },
     "execution_count": 18,
     "metadata": {},
     "output_type": "execute_result"
    }
   ],
   "source": [
    "(547/18866)*100"
   ]
  },
  {
   "cell_type": "markdown",
   "id": "3a93cc3f",
   "metadata": {},
   "source": [
    "### Business Analyst"
   ]
  },
  {
   "cell_type": "code",
   "execution_count": null,
   "id": "5806dd12",
   "metadata": {},
   "outputs": [],
   "source": [
    "SELECT employer_name,work_state, job_title_subgroup, paid_wage_per_year, prevailing_wage_per_year, paid_wage_per_year-prevailing_wage_per_year AS Diff\n",
    "FROM salary_data_states_corrected\n",
    "WHERE job_title_subgroup = \"business analyst\"\n",
    "ORDER BY paid_wage_per_year-prevailing_wage_per_year ASC\n",
    "LIMIT 80\n",
    "##77"
   ]
  },
  {
   "cell_type": "code",
   "execution_count": 5,
   "id": "00a300dd",
   "metadata": {},
   "outputs": [
    {
     "data": {
      "text/plain": [
       "0.046031157713506854"
      ]
     },
     "execution_count": 5,
     "metadata": {},
     "output_type": "execute_result"
    }
   ],
   "source": [
    "(77/167278)*100"
   ]
  },
  {
   "cell_type": "code",
   "execution_count": null,
   "id": "4f6e1dc7",
   "metadata": {},
   "outputs": [],
   "source": [
    "SELECT COUNT(job_title_subgroup)\n",
    "FROM salary_data_states_corrected\n",
    "WHERE job_title_subgroup = 'business analyst'\n",
    "##27811"
   ]
  },
  {
   "cell_type": "code",
   "execution_count": 17,
   "id": "03b850d3",
   "metadata": {},
   "outputs": [
    {
     "data": {
      "text/plain": [
       "0.27686886483765416"
      ]
     },
     "execution_count": 17,
     "metadata": {},
     "output_type": "execute_result"
    }
   ],
   "source": [
    "(77/27811)*100"
   ]
  },
  {
   "cell_type": "markdown",
   "id": "7c32aeb3",
   "metadata": {},
   "source": [
    "### Data Analyst"
   ]
  },
  {
   "cell_type": "code",
   "execution_count": null,
   "id": "25684bff",
   "metadata": {},
   "outputs": [],
   "source": [
    "SELECT employer_name,work_state, job_title_subgroup, paid_wage_per_year, prevailing_wage_per_year, paid_wage_per_year-prevailing_wage_per_year AS Diff\n",
    "FROM salary_data_states_corrected\n",
    "WHERE job_title_subgroup = \"data analyst\"\n",
    "ORDER BY paid_wage_per_year-prevailing_wage_per_year ASC\n",
    "LIMIT 10\n",
    "##10"
   ]
  },
  {
   "cell_type": "code",
   "execution_count": 6,
   "id": "e42d87f6",
   "metadata": {},
   "outputs": [
    {
     "data": {
      "text/plain": [
       "0.005978072430325566"
      ]
     },
     "execution_count": 6,
     "metadata": {},
     "output_type": "execute_result"
    }
   ],
   "source": [
    "(10/167278)*100"
   ]
  },
  {
   "cell_type": "code",
   "execution_count": null,
   "id": "29c45735",
   "metadata": {},
   "outputs": [],
   "source": [
    "SELECT COUNT(job_title_subgroup)\n",
    "FROM salary_data_states_corrected\n",
    "WHERE job_title_subgroup = 'data analyst'\n",
    "##3840"
   ]
  },
  {
   "cell_type": "code",
   "execution_count": 16,
   "id": "5dd45e66",
   "metadata": {},
   "outputs": [
    {
     "data": {
      "text/plain": [
       "0.26041666666666663"
      ]
     },
     "execution_count": 16,
     "metadata": {},
     "output_type": "execute_result"
    }
   ],
   "source": [
    "(10/3840)*100"
   ]
  },
  {
   "cell_type": "markdown",
   "id": "2bc916fa",
   "metadata": {},
   "source": [
    "### Data Scientist"
   ]
  },
  {
   "cell_type": "code",
   "execution_count": null,
   "id": "5c733136",
   "metadata": {},
   "outputs": [],
   "source": [
    "SELECT employer_name,work_state, job_title_subgroup, paid_wage_per_year, prevailing_wage_per_year, paid_wage_per_year-prevailing_wage_per_year AS Diff\n",
    "FROM salary_data_states_corrected\n",
    "WHERE job_title_subgroup = \"data scientist\"\n",
    "ORDER BY paid_wage_per_year-prevailing_wage_per_year ASC\n",
    "LIMIT 5\n",
    "##4"
   ]
  },
  {
   "cell_type": "code",
   "execution_count": 8,
   "id": "e85b66c7",
   "metadata": {},
   "outputs": [
    {
     "data": {
      "text/plain": [
       "0.0023912289721302266"
      ]
     },
     "execution_count": 8,
     "metadata": {},
     "output_type": "execute_result"
    }
   ],
   "source": [
    "(4/167278)*100"
   ]
  },
  {
   "cell_type": "code",
   "execution_count": null,
   "id": "8bad1d6e",
   "metadata": {},
   "outputs": [],
   "source": [
    "SELECT COUNT(job_title_subgroup)\n",
    "FROM salary_data_states_corrected\n",
    "WHERE job_title_subgroup = 'data scientist'\n",
    "##1227"
   ]
  },
  {
   "cell_type": "code",
   "execution_count": 15,
   "id": "8c697da2",
   "metadata": {},
   "outputs": [
    {
     "data": {
      "text/plain": [
       "0.32599837000814996"
      ]
     },
     "execution_count": 15,
     "metadata": {},
     "output_type": "execute_result"
    }
   ],
   "source": [
    "(4/1227)*100"
   ]
  },
  {
   "cell_type": "markdown",
   "id": "ce2c31f1",
   "metadata": {},
   "source": [
    "### Management Consultant"
   ]
  },
  {
   "cell_type": "code",
   "execution_count": null,
   "id": "2650693a",
   "metadata": {},
   "outputs": [],
   "source": [
    "SELECT employer_name,work_state, job_title_subgroup, paid_wage_per_year, prevailing_wage_per_year, paid_wage_per_year-prevailing_wage_per_year AS Diff\n",
    "FROM salary_data_states_corrected\n",
    "WHERE job_title_subgroup = \"management consultant\"\n",
    "ORDER BY paid_wage_per_year-prevailing_wage_per_year ASC\n",
    "LIMIT 5\n",
    "##2"
   ]
  },
  {
   "cell_type": "code",
   "execution_count": 9,
   "id": "544ebc9c",
   "metadata": {},
   "outputs": [
    {
     "data": {
      "text/plain": [
       "0.0011956144860651133"
      ]
     },
     "execution_count": 9,
     "metadata": {},
     "output_type": "execute_result"
    }
   ],
   "source": [
    "(2/167278)*100"
   ]
  },
  {
   "cell_type": "code",
   "execution_count": null,
   "id": "d6057660",
   "metadata": {},
   "outputs": [],
   "source": [
    "SELECT COUNT(job_title_subgroup)\n",
    "FROM salary_data_states_corrected\n",
    "WHERE job_title_subgroup = 'management consultant'\n",
    "##770"
   ]
  },
  {
   "cell_type": "code",
   "execution_count": 14,
   "id": "1011ce00",
   "metadata": {},
   "outputs": [
    {
     "data": {
      "text/plain": [
       "0.2597402597402597"
      ]
     },
     "execution_count": 14,
     "metadata": {},
     "output_type": "execute_result"
    }
   ],
   "source": [
    "(2/770)*100"
   ]
  },
  {
   "cell_type": "markdown",
   "id": "fffa6cbb",
   "metadata": {},
   "source": [
    "### Software Engineer"
   ]
  },
  {
   "cell_type": "code",
   "execution_count": null,
   "id": "7885aa03",
   "metadata": {},
   "outputs": [],
   "source": [
    "SELECT employer_name,work_state, job_title_subgroup, paid_wage_per_year, prevailing_wage_per_year, paid_wage_per_year-prevailing_wage_per_year AS Diff\n",
    "FROM salary_data_states_corrected\n",
    "WHERE job_title_subgroup = \"software engineer\"\n",
    "ORDER BY paid_wage_per_year-prevailing_wage_per_year ASC\n",
    "LIMIT 310\n",
    "##307"
   ]
  },
  {
   "cell_type": "code",
   "execution_count": 10,
   "id": "a90d759a",
   "metadata": {},
   "outputs": [
    {
     "data": {
      "text/plain": [
       "0.18352682361099487"
      ]
     },
     "execution_count": 10,
     "metadata": {},
     "output_type": "execute_result"
    }
   ],
   "source": [
    "(307/167278)*100"
   ]
  },
  {
   "cell_type": "code",
   "execution_count": null,
   "id": "462c21ec",
   "metadata": {},
   "outputs": [],
   "source": [
    "SELECT COUNT(job_title_subgroup)\n",
    "FROM salary_data_states_corrected\n",
    "WHERE job_title_subgroup = 'software engineer'\n",
    "##99364"
   ]
  },
  {
   "cell_type": "code",
   "execution_count": 12,
   "id": "c6a04827",
   "metadata": {},
   "outputs": [
    {
     "data": {
      "text/plain": [
       "0.30896501751137234"
      ]
     },
     "execution_count": 12,
     "metadata": {},
     "output_type": "execute_result"
    }
   ],
   "source": [
    "(307/99364)*100"
   ]
  },
  {
   "cell_type": "markdown",
   "id": "c8c5efe0",
   "metadata": {},
   "source": [
    "### Teacher"
   ]
  },
  {
   "cell_type": "code",
   "execution_count": null,
   "id": "2f884ce6",
   "metadata": {},
   "outputs": [],
   "source": [
    "SELECT employer_name,work_state, job_title_subgroup, paid_wage_per_year, prevailing_wage_per_year, paid_wage_per_year-prevailing_wage_per_year AS Diff\n",
    "FROM salary_data_states_corrected\n",
    "WHERE job_title_subgroup = \"teacher\"\n",
    "ORDER BY paid_wage_per_year-prevailing_wage_per_year ASC\n",
    "LIMIT 105\n",
    "##101"
   ]
  },
  {
   "cell_type": "code",
   "execution_count": 11,
   "id": "21216976",
   "metadata": {},
   "outputs": [
    {
     "data": {
      "text/plain": [
       "0.060378531546288215"
      ]
     },
     "execution_count": 11,
     "metadata": {},
     "output_type": "execute_result"
    }
   ],
   "source": [
    "(101/167278)*100"
   ]
  },
  {
   "cell_type": "code",
   "execution_count": null,
   "id": "9dd5aab8",
   "metadata": {},
   "outputs": [],
   "source": [
    "SELECT COUNT(job_title_subgroup)\n",
    "FROM salary_data_states_corrected\n",
    "WHERE job_title_subgroup = 'teacher'\n",
    "##13912"
   ]
  },
  {
   "cell_type": "code",
   "execution_count": 13,
   "id": "51a0e189",
   "metadata": {},
   "outputs": [
    {
     "data": {
      "text/plain": [
       "0.7259919493962047"
      ]
     },
     "execution_count": 13,
     "metadata": {},
     "output_type": "execute_result"
    }
   ],
   "source": [
    "(101/13912)*100"
   ]
  },
  {
   "cell_type": "markdown",
   "id": "51f322f9",
   "metadata": {},
   "source": [
    "## Interpretation"
   ]
  },
  {
   "cell_type": "markdown",
   "id": "de39001d",
   "metadata": {},
   "source": [
    "What does this all reveal?\n",
    "Well overall, 0.63% of all jobs underpay their workers (the difference between paid wage per year and prevailing wage per year being negative).\n",
    "\n",
    "Within the assistant professor job subgroup, 2.90% of jobs underpay their workers.\n",
    "    (Overall Dataset 0.3270%)\n",
    "\n",
    "Within the teachers, 0.73% of jobs underpay their workers.\n",
    "    (Overall Dataset 0.604%)\n",
    "\n",
    "Within the attorney job subgroup, 0.47% of jobs underpay their workers.\n",
    "    (Overall Dataset 0.0042%)\n",
    "\n",
    "Within the data scientist subgroup, 0.33% of jobs underpay their workers.\n",
    "    (Overall Dataset 0.0024%)\n",
    "\n",
    "Within the software engineer, 0.31% of jobs underpay their workers.\n",
    "    (Overall Dataset 0.1835%)\n",
    "\n",
    "Within the business analyst subgroup, 0.28 % of jobs underpay their workers.\n",
    "    (Overall Dataset 0.0460%)\n",
    "\n",
    "-Within the data analyst subgroup, 0.26% of jobs underpay their workers.\n",
    "    (Overall Dataset 0.0060%)\n",
    "-Within the management consultant subgroup, 0.26% of jobs underpay their workers.\n",
    "    (Overall Dataset 0.0012%)\n"
   ]
  }
 ],
 "metadata": {
  "kernelspec": {
   "display_name": "Python 3 (ipykernel)",
   "language": "python",
   "name": "python3"
  },
  "language_info": {
   "codemirror_mode": {
    "name": "ipython",
    "version": 3
   },
   "file_extension": ".py",
   "mimetype": "text/x-python",
   "name": "python",
   "nbconvert_exporter": "python",
   "pygments_lexer": "ipython3",
   "version": "3.9.7"
  }
 },
 "nbformat": 4,
 "nbformat_minor": 5
}
