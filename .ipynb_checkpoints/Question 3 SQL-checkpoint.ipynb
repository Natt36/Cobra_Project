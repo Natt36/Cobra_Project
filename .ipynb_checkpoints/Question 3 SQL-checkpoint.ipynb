{
 "cells": [
  {
   "cell_type": "markdown",
   "id": "ec1468be",
   "metadata": {},
   "source": [
    "# III. How do offered salaries compare to the prevailing wage?\n",
    "\n",
    "## Are there job sub-categories that tend to get over-paid or under-paid?\n",
    "## Are there companies that tend to over-pay or under-pay?\n"
   ]
  },
  {
   "cell_type": "code",
   "execution_count": null,
   "id": "839afd0c",
   "metadata": {},
   "outputs": [],
   "source": [
    "SELECT employer_name,work_state, job_title_subgroup, paid_wage_per_year, prevailing_wage_per_year, paid_wage_per_year-prevailing_wage_per_year AS Diff\n",
    "FROM salary_data_states_corrected\n",
    "WHERE job_title_subgroup = \"attorney\"\n",
    "ORDER BY paid_wage_per_year-prevailing_wage_per_year ASC\n",
    "LIMIT 10"
   ]
  },
  {
   "cell_type": "code",
   "execution_count": null,
   "id": "b18aae80",
   "metadata": {},
   "outputs": [],
   "source": [
    "SELECT employer_name,work_state, job_title_subgroup, paid_wage_per_year, prevailing_wage_per_year, paid_wage_per_year-prevailing_wage_per_year AS Diff\n",
    "FROM salary_data_states_corrected\n",
    "WHERE job_title_subgroup = \"assistant professor\"\n",
    "ORDER BY paid_wage_per_year-prevailing_wage_per_year ASC\n",
    "LIMIT 547"
   ]
  },
  {
   "cell_type": "code",
   "execution_count": null,
   "id": "5895e85f",
   "metadata": {},
   "outputs": [],
   "source": [
    "SELECT employer_name,work_state, job_title_subgroup, paid_wage_per_year, prevailing_wage_per_year, paid_wage_per_year-prevailing_wage_per_year AS Diff\n",
    "FROM salary_data_states_corrected\n",
    "WHERE job_title_subgroup = \"business analyst\"\n",
    "ORDER BY paid_wage_per_year DESC"
   ]
  },
  {
   "cell_type": "code",
   "execution_count": null,
   "id": "ce61a26c",
   "metadata": {},
   "outputs": [],
   "source": [
    "SELECT employer_name,work_state, job_title_subgroup, paid_wage_per_year, prevailing_wage_per_year, paid_wage_per_year-prevailing_wage_per_year AS Diff\n",
    "FROM salary_data_states_corrected\n",
    "WHERE job_title_subgroup = \"data analyst\"\n",
    "ORDER BY paid_wage_per_year DESC"
   ]
  },
  {
   "cell_type": "code",
   "execution_count": null,
   "id": "891e5a0c",
   "metadata": {},
   "outputs": [],
   "source": [
    "SELECT employer_name,work_state, job_title_subgroup, paid_wage_per_year, prevailing_wage_per_year, paid_wage_per_year-prevailing_wage_per_year AS Diff\n",
    "FROM salary_data_states_corrected\n",
    "WHERE job_title_subgroup = \"data scientist\"\n",
    "ORDER BY paid_wage_per_year DESC"
   ]
  },
  {
   "cell_type": "code",
   "execution_count": null,
   "id": "17a2fb0f",
   "metadata": {},
   "outputs": [],
   "source": [
    "SELECT employer_name,work_state, job_title_subgroup, paid_wage_per_year, prevailing_wage_per_year, paid_wage_per_year-prevailing_wage_per_year AS Diff\n",
    "FROM salary_data_states_corrected\n",
    "WHERE job_title_subgroup = \"management consultant\"\n",
    "ORDER BY paid_wage_per_year DESC"
   ]
  },
  {
   "cell_type": "code",
   "execution_count": null,
   "id": "8d1f9800",
   "metadata": {},
   "outputs": [],
   "source": [
    "SELECT employer_name,work_state, job_title_subgroup, paid_wage_per_year, prevailing_wage_per_year, paid_wage_per_year-prevailing_wage_per_year AS Diff\n",
    "FROM salary_data_states_corrected\n",
    "WHERE job_title_subgroup = \"software engineer\"\n",
    "ORDER BY paid_wage_per_year DESC"
   ]
  },
  {
   "cell_type": "code",
   "execution_count": null,
   "id": "3caa5590",
   "metadata": {},
   "outputs": [],
   "source": [
    "SELECT employer_name,work_state, job_title_subgroup, paid_wage_per_year, prevailing_wage_per_year, paid_wage_per_year-prevailing_wage_per_year AS Diff\n",
    "FROM salary_data_states_corrected\n",
    "WHERE job_title_subgroup = \"teacher\"\n",
    "ORDER BY paid_wage_per_year DESC"
   ]
  }
 ],
 "metadata": {
  "kernelspec": {
   "display_name": "Python 3 (ipykernel)",
   "language": "python",
   "name": "python3"
  },
  "language_info": {
   "codemirror_mode": {
    "name": "ipython",
    "version": 3
   },
   "file_extension": ".py",
   "mimetype": "text/x-python",
   "name": "python",
   "nbconvert_exporter": "python",
   "pygments_lexer": "ipython3",
   "version": "3.9.7"
  }
 },
 "nbformat": 4,
 "nbformat_minor": 5
}
