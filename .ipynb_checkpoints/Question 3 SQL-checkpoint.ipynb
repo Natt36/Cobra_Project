{
 "cells": [
  {
   "cell_type": "markdown",
   "id": "038b5040",
   "metadata": {},
   "source": [
    "# III. How do offered salaries compare to the prevailing wage?\n",
    "\n",
    "## 3a: Are there job sub-categories that tend to get over-paid or under-paid?\n",
    "## 3b: Are there companies that tend to over-pay or under-pay?\n"
   ]
  },
  {
   "cell_type": "code",
   "execution_count": 21,
   "id": "4b797bf9",
   "metadata": {},
   "outputs": [
    {
     "data": {
      "text/plain": [
       "0.6306866413993472"
      ]
     },
     "execution_count": 21,
     "metadata": {},
     "output_type": "execute_result"
    }
   ],
   "source": [
    "((7+547+77+10+4+2+307+101)/167278)*100"
   ]
  },
  {
   "cell_type": "markdown",
   "id": "160eab6e",
   "metadata": {},
   "source": [
    "### Attorney"
   ]
  },
  {
   "cell_type": "markdown",
   "id": "513cf686",
   "metadata": {},
   "source": [
    "#### 3a"
   ]
  },
  {
   "cell_type": "code",
   "execution_count": null,
   "id": "28e8e43c",
   "metadata": {},
   "outputs": [],
   "source": [
    "SELECT employer_name,work_state, job_title_subgroup, paid_wage_per_year, prevailing_wage_per_year, paid_wage_per_year-prevailing_wage_per_year AS Diff\n",
    "FROM salary_data_states_corrected\n",
    "WHERE job_title_subgroup = \"attorney\"\n",
    "ORDER BY paid_wage_per_year-prevailing_wage_per_year ASC\n",
    "LIMIT 10\n",
    "##7"
   ]
  },
  {
   "cell_type": "code",
   "execution_count": 3,
   "id": "094d69d9",
   "metadata": {},
   "outputs": [
    {
     "data": {
      "text/plain": [
       "0.004184650701227896"
      ]
     },
     "execution_count": 3,
     "metadata": {},
     "output_type": "execute_result"
    }
   ],
   "source": [
    "(7/167278)*100"
   ]
  },
  {
   "cell_type": "code",
   "execution_count": null,
   "id": "1226fda5",
   "metadata": {},
   "outputs": [],
   "source": [
    "SELECT COUNT(job_title_subgroup)\n",
    "FROM salary_data_states_corrected\n",
    "WHERE job_title_subgroup = 'attorney'\n",
    "##1488"
   ]
  },
  {
   "cell_type": "code",
   "execution_count": 19,
   "id": "ded27685",
   "metadata": {},
   "outputs": [
    {
     "data": {
      "text/plain": [
       "0.47043010752688175"
      ]
     },
     "execution_count": 19,
     "metadata": {},
     "output_type": "execute_result"
    }
   ],
   "source": [
    "(7/1488)*100"
   ]
  },
  {
   "cell_type": "markdown",
   "id": "c1bd407f",
   "metadata": {},
   "source": [
    "#### 3b"
   ]
  },
  {
   "cell_type": "code",
   "execution_count": null,
   "id": "8d161ca0",
   "metadata": {},
   "outputs": [],
   "source": [
    "#Companies tending to overpay\n",
    "SELECT employer_name,work_state,paid_wage_per_year-prevailing_wage_per_year AS Diff,COUNT(paid_wage_per_year-prevailing_wage_per_year)\n",
    "FROM salary_data_states_corrected\n",
    "WHERE job_title_subgroup = \"attorney\" AND paid_wage_per_year-prevailing_wage_per_year>0\n",
    "GROUP BY employer_name\n",
    "ORDER BY COUNT(paid_wage_per_year-prevailing_wage_per_year) DESC\n",
    "LIMIT 5"
   ]
  },
  {
   "cell_type": "markdown",
   "id": "f4833d5f",
   "metadata": {},
   "source": [
    "![t_overpay](images/q3_at_overpay.png)"
   ]
  },
  {
   "cell_type": "code",
   "execution_count": null,
   "id": "8a756e4f",
   "metadata": {},
   "outputs": [],
   "source": [
    "#Companies tending to underpay\n",
    "SELECT employer_name,work_state,paid_wage_per_year-prevailing_wage_per_year AS Diff,COUNT(paid_wage_per_year-prevailing_wage_per_year)\n",
    "FROM salary_data_states_corrected\n",
    "WHERE job_title_subgroup = \"attorney\" AND paid_wage_per_year-prevailing_wage_per_year<0\n",
    "GROUP BY employer_name\n",
    "ORDER BY COUNT(paid_wage_per_year-prevailing_wage_per_year) DESC\n",
    "LIMIT 5"
   ]
  },
  {
   "cell_type": "markdown",
   "id": "5d4749f4",
   "metadata": {},
   "source": [
    "![t_overpay](images/q3_at_underpay.png)"
   ]
  },
  {
   "cell_type": "markdown",
   "id": "5d448727",
   "metadata": {},
   "source": [
    "### Assistant Professor"
   ]
  },
  {
   "cell_type": "markdown",
   "id": "109aab8f",
   "metadata": {},
   "source": [
    "#### 3a"
   ]
  },
  {
   "cell_type": "code",
   "execution_count": null,
   "id": "0636ecea",
   "metadata": {},
   "outputs": [],
   "source": [
    "SELECT employer_name,work_state, job_title_subgroup, paid_wage_per_year, prevailing_wage_per_year, paid_wage_per_year-prevailing_wage_per_year AS Diff\n",
    "FROM salary_data_states_corrected\n",
    "WHERE job_title_subgroup = \"assistant professor\"\n",
    "ORDER BY paid_wage_per_year-prevailing_wage_per_year ASC\n",
    "LIMIT 560\n",
    "##547"
   ]
  },
  {
   "cell_type": "code",
   "execution_count": 4,
   "id": "501a8c93",
   "metadata": {},
   "outputs": [
    {
     "data": {
      "text/plain": [
       "0.32700056193880844"
      ]
     },
     "execution_count": 4,
     "metadata": {},
     "output_type": "execute_result"
    }
   ],
   "source": [
    "(547/167278)*100"
   ]
  },
  {
   "cell_type": "code",
   "execution_count": null,
   "id": "56606b28",
   "metadata": {},
   "outputs": [],
   "source": [
    "SELECT COUNT(job_title_subgroup)\n",
    "FROM salary_data_states_corrected\n",
    "WHERE job_title_subgroup = 'assistant professor'\n",
    "##18866"
   ]
  },
  {
   "cell_type": "code",
   "execution_count": 18,
   "id": "205b301d",
   "metadata": {},
   "outputs": [
    {
     "data": {
      "text/plain": [
       "2.8993957383653135"
      ]
     },
     "execution_count": 18,
     "metadata": {},
     "output_type": "execute_result"
    }
   ],
   "source": [
    "(547/18866)*100"
   ]
  },
  {
   "cell_type": "markdown",
   "id": "53399e72",
   "metadata": {},
   "source": [
    "#### 3b"
   ]
  },
  {
   "cell_type": "code",
   "execution_count": null,
   "id": "01a5993a",
   "metadata": {},
   "outputs": [],
   "source": [
    "#Companies tending to overpay\n",
    "SELECT employer_name,work_state,paid_wage_per_year-prevailing_wage_per_year AS Diff,COUNT(paid_wage_per_year-prevailing_wage_per_year)\n",
    "FROM salary_data_states_corrected\n",
    "WHERE job_title_subgroup = \"assistant professor\" AND paid_wage_per_year-prevailing_wage_per_year>0\n",
    "GROUP BY employer_name\n",
    "ORDER BY COUNT(paid_wage_per_year-prevailing_wage_per_year) DESC\n",
    "LIMIT 5"
   ]
  },
  {
   "cell_type": "markdown",
   "id": "86831b88",
   "metadata": {},
   "source": [
    "![t_overpay](images/q3_ap_overpay.png)"
   ]
  },
  {
   "cell_type": "code",
   "execution_count": null,
   "id": "db72cd0d",
   "metadata": {},
   "outputs": [],
   "source": [
    "#Companies tending to underpay\n",
    "SELECT employer_name,work_state,paid_wage_per_year-prevailing_wage_per_year AS Diff,COUNT(paid_wage_per_year-prevailing_wage_per_year)\n",
    "FROM salary_data_states_corrected\n",
    "WHERE job_title_subgroup = \"assistant professor\" AND paid_wage_per_year-prevailing_wage_per_year<0\n",
    "GROUP BY employer_name\n",
    "ORDER BY COUNT(paid_wage_per_year-prevailing_wage_per_year) DESC\n",
    "LIMIT 5"
   ]
  },
  {
   "cell_type": "markdown",
   "id": "9fc091ad",
   "metadata": {},
   "source": [
    "![t_overpay](images/q3_ap_underpay.png)"
   ]
  },
  {
   "cell_type": "markdown",
   "id": "59dfd6a0",
   "metadata": {},
   "source": [
    "### Business Analyst"
   ]
  },
  {
   "cell_type": "markdown",
   "id": "93357e73",
   "metadata": {},
   "source": [
    "#### 3a"
   ]
  },
  {
   "cell_type": "code",
   "execution_count": null,
   "id": "12a10fb0",
   "metadata": {},
   "outputs": [],
   "source": [
    "SELECT employer_name,work_state, job_title_subgroup, paid_wage_per_year, prevailing_wage_per_year, paid_wage_per_year-prevailing_wage_per_year AS Diff\n",
    "FROM salary_data_states_corrected\n",
    "WHERE job_title_subgroup = \"business analyst\"\n",
    "ORDER BY paid_wage_per_year-prevailing_wage_per_year ASC\n",
    "LIMIT 80\n",
    "##77"
   ]
  },
  {
   "cell_type": "code",
   "execution_count": 5,
   "id": "98ad163f",
   "metadata": {},
   "outputs": [
    {
     "data": {
      "text/plain": [
       "0.046031157713506854"
      ]
     },
     "execution_count": 5,
     "metadata": {},
     "output_type": "execute_result"
    }
   ],
   "source": [
    "(77/167278)*100"
   ]
  },
  {
   "cell_type": "code",
   "execution_count": null,
   "id": "e6dbe6d7",
   "metadata": {},
   "outputs": [],
   "source": [
    "SELECT COUNT(job_title_subgroup)\n",
    "FROM salary_data_states_corrected\n",
    "WHERE job_title_subgroup = 'business analyst'\n",
    "##27811"
   ]
  },
  {
   "cell_type": "code",
   "execution_count": 17,
   "id": "298a2b25",
   "metadata": {},
   "outputs": [
    {
     "data": {
      "text/plain": [
       "0.27686886483765416"
      ]
     },
     "execution_count": 17,
     "metadata": {},
     "output_type": "execute_result"
    }
   ],
   "source": [
    "(77/27811)*100"
   ]
  },
  {
   "cell_type": "markdown",
   "id": "4535c49c",
   "metadata": {},
   "source": [
    "#### 3b"
   ]
  },
  {
   "cell_type": "code",
   "execution_count": null,
   "id": "87150a3d",
   "metadata": {},
   "outputs": [],
   "source": [
    "#Companies tending to overpay\n",
    "SELECT employer_name,work_state,paid_wage_per_year-prevailing_wage_per_year AS Diff,COUNT(paid_wage_per_year-prevailing_wage_per_year)\n",
    "FROM salary_data_states_corrected\n",
    "WHERE job_title_subgroup = \"business analyst\" AND paid_wage_per_year-prevailing_wage_per_year>0\n",
    "GROUP BY employer_name\n",
    "ORDER BY COUNT(paid_wage_per_year-prevailing_wage_per_year) DESC\n",
    "LIMIT 5"
   ]
  },
  {
   "cell_type": "markdown",
   "id": "032c0267",
   "metadata": {},
   "source": [
    "![t_overpay](images/q3_ba_overpay.png)"
   ]
  },
  {
   "cell_type": "code",
   "execution_count": null,
   "id": "499d9a25",
   "metadata": {},
   "outputs": [],
   "source": [
    "#Companies tending to underpay\n",
    "SELECT employer_name,work_state,paid_wage_per_year-prevailing_wage_per_year AS Diff,COUNT(paid_wage_per_year-prevailing_wage_per_year)\n",
    "FROM salary_data_states_corrected\n",
    "WHERE job_title_subgroup = \"business analyst\" AND paid_wage_per_year-prevailing_wage_per_year<0\n",
    "GROUP BY employer_name\n",
    "ORDER BY COUNT(paid_wage_per_year-prevailing_wage_per_year) DESC\n",
    "LIMIT 5"
   ]
  },
  {
   "cell_type": "markdown",
   "id": "c04e8462",
   "metadata": {},
   "source": [
    "![t_overpay](images/q3_ba_underpay.png)"
   ]
  },
  {
   "cell_type": "markdown",
   "id": "08ea62c7",
   "metadata": {},
   "source": [
    "### Data Analyst"
   ]
  },
  {
   "cell_type": "markdown",
   "id": "c099297e",
   "metadata": {},
   "source": [
    "#### 3a"
   ]
  },
  {
   "cell_type": "code",
   "execution_count": null,
   "id": "8560ceb6",
   "metadata": {},
   "outputs": [],
   "source": [
    "SELECT employer_name,work_state, job_title_subgroup, paid_wage_per_year, prevailing_wage_per_year, paid_wage_per_year-prevailing_wage_per_year AS Diff\n",
    "FROM salary_data_states_corrected\n",
    "WHERE job_title_subgroup = \"data analyst\"\n",
    "ORDER BY paid_wage_per_year-prevailing_wage_per_year ASC\n",
    "LIMIT 10\n",
    "##10"
   ]
  },
  {
   "cell_type": "code",
   "execution_count": 6,
   "id": "e555f1a7",
   "metadata": {},
   "outputs": [
    {
     "data": {
      "text/plain": [
       "0.005978072430325566"
      ]
     },
     "execution_count": 6,
     "metadata": {},
     "output_type": "execute_result"
    }
   ],
   "source": [
    "(10/167278)*100"
   ]
  },
  {
   "cell_type": "code",
   "execution_count": null,
   "id": "aa55ea34",
   "metadata": {},
   "outputs": [],
   "source": [
    "SELECT COUNT(job_title_subgroup)\n",
    "FROM salary_data_states_corrected\n",
    "WHERE job_title_subgroup = 'data analyst'\n",
    "##3840"
   ]
  },
  {
   "cell_type": "code",
   "execution_count": 16,
   "id": "fb72f7a1",
   "metadata": {},
   "outputs": [
    {
     "data": {
      "text/plain": [
       "0.26041666666666663"
      ]
     },
     "execution_count": 16,
     "metadata": {},
     "output_type": "execute_result"
    }
   ],
   "source": [
    "(10/3840)*100"
   ]
  },
  {
   "cell_type": "markdown",
   "id": "a13a8d37",
   "metadata": {},
   "source": [
    "#### 3b"
   ]
  },
  {
   "cell_type": "code",
   "execution_count": null,
   "id": "ba4f8fd6",
   "metadata": {},
   "outputs": [],
   "source": [
    "#Companies tending to overpay\n",
    "SELECT employer_name,work_state,paid_wage_per_year-prevailing_wage_per_year AS Diff,COUNT(paid_wage_per_year-prevailing_wage_per_year)\n",
    "FROM salary_data_states_corrected\n",
    "WHERE job_title_subgroup = \"data analyst\" AND paid_wage_per_year-prevailing_wage_per_year>0\n",
    "GROUP BY employer_name\n",
    "ORDER BY COUNT(paid_wage_per_year-prevailing_wage_per_year) DESC\n",
    "LIMIT 5"
   ]
  },
  {
   "cell_type": "markdown",
   "id": "f8f85e43",
   "metadata": {},
   "source": [
    "![t_overpay](images/q3_da_overpay.png)"
   ]
  },
  {
   "cell_type": "code",
   "execution_count": null,
   "id": "de4670d3",
   "metadata": {},
   "outputs": [],
   "source": [
    "#Companies tending to underpay\n",
    "SELECT employer_name,work_state,paid_wage_per_year-prevailing_wage_per_year AS Diff,COUNT(paid_wage_per_year-prevailing_wage_per_year)\n",
    "FROM salary_data_states_corrected\n",
    "WHERE job_title_subgroup = \"data analyst\" AND paid_wage_per_year-prevailing_wage_per_year<0\n",
    "GROUP BY employer_name\n",
    "ORDER BY COUNT(paid_wage_per_year-prevailing_wage_per_year) DESC\n",
    "LIMIT 5"
   ]
  },
  {
   "cell_type": "markdown",
   "id": "beccf9e5",
   "metadata": {},
   "source": [
    "![t_overpay](images/q3_da_underpay.png)"
   ]
  },
  {
   "cell_type": "markdown",
   "id": "5d4ff3e9",
   "metadata": {},
   "source": [
    "### Data Scientist"
   ]
  },
  {
   "cell_type": "markdown",
   "id": "f1fd66c6",
   "metadata": {},
   "source": [
    "#### 3a"
   ]
  },
  {
   "cell_type": "code",
   "execution_count": null,
   "id": "3d5b7700",
   "metadata": {},
   "outputs": [],
   "source": [
    "SELECT employer_name,work_state, job_title_subgroup, paid_wage_per_year, prevailing_wage_per_year, paid_wage_per_year-prevailing_wage_per_year AS Diff\n",
    "FROM salary_data_states_corrected\n",
    "WHERE job_title_subgroup = \"data scientist\"\n",
    "ORDER BY paid_wage_per_year-prevailing_wage_per_year ASC\n",
    "LIMIT 5\n",
    "##4"
   ]
  },
  {
   "cell_type": "code",
   "execution_count": 8,
   "id": "5a953cda",
   "metadata": {},
   "outputs": [
    {
     "data": {
      "text/plain": [
       "0.0023912289721302266"
      ]
     },
     "execution_count": 8,
     "metadata": {},
     "output_type": "execute_result"
    }
   ],
   "source": [
    "(4/167278)*100"
   ]
  },
  {
   "cell_type": "code",
   "execution_count": null,
   "id": "c7fd72a2",
   "metadata": {},
   "outputs": [],
   "source": [
    "SELECT COUNT(job_title_subgroup)\n",
    "FROM salary_data_states_corrected\n",
    "WHERE job_title_subgroup = 'data scientist'\n",
    "##1227"
   ]
  },
  {
   "cell_type": "code",
   "execution_count": 15,
   "id": "4ac64528",
   "metadata": {},
   "outputs": [
    {
     "data": {
      "text/plain": [
       "0.32599837000814996"
      ]
     },
     "execution_count": 15,
     "metadata": {},
     "output_type": "execute_result"
    }
   ],
   "source": [
    "(4/1227)*100"
   ]
  },
  {
   "cell_type": "markdown",
   "id": "c6345757",
   "metadata": {},
   "source": [
    "#### 3b"
   ]
  },
  {
   "cell_type": "code",
   "execution_count": null,
   "id": "0bdae4fe",
   "metadata": {},
   "outputs": [],
   "source": [
    "#Companies tending to overpay\n",
    "SELECT employer_name,work_state,paid_wage_per_year-prevailing_wage_per_year AS Diff,COUNT(paid_wage_per_year-prevailing_wage_per_year)\n",
    "FROM salary_data_states_corrected\n",
    "WHERE job_title_subgroup = \"data scientist\" AND paid_wage_per_year-prevailing_wage_per_year>0\n",
    "GROUP BY employer_name\n",
    "ORDER BY COUNT(paid_wage_per_year-prevailing_wage_per_year) DESC\n",
    "LIMIT 5"
   ]
  },
  {
   "cell_type": "markdown",
   "id": "31182b11",
   "metadata": {},
   "source": [
    "![t_overpay](images/q3_ds_overpay.png)"
   ]
  },
  {
   "cell_type": "code",
   "execution_count": 27,
   "id": "df574c81",
   "metadata": {},
   "outputs": [],
   "source": [
    "#Companies tending to underpay\n",
    "SELECT employer_name,work_state,paid_wage_per_year-prevailing_wage_per_year AS Diff,COUNT(paid_wage_per_year-prevailing_wage_per_year)\n",
    "FROM salary_data_states_corrected\n",
    "WHERE job_title_subgroup = \"data scientist\" AND paid_wage_per_year-prevailing_wage_per_year<0\n",
    "GROUP BY employer_name\n",
    "ORDER BY COUNT(paid_wage_per_year-prevailing_wage_per_year) DESC\n",
    "LIMIT 5"
   ]
  },
  {
   "cell_type": "markdown",
   "id": "baf410a4",
   "metadata": {},
   "source": [
    "![t_overpay](images/q3_ds_underpay.png)"
   ]
  },
  {
   "cell_type": "markdown",
   "id": "96f2f8e1",
   "metadata": {},
   "source": [
    "### Management Consultant"
   ]
  },
  {
   "cell_type": "markdown",
   "id": "2231b6b4",
   "metadata": {},
   "source": [
    "#### 3a"
   ]
  },
  {
   "cell_type": "code",
   "execution_count": null,
   "id": "37f6d2de",
   "metadata": {},
   "outputs": [],
   "source": [
    "SELECT employer_name,work_state, job_title_subgroup, paid_wage_per_year, prevailing_wage_per_year, paid_wage_per_year-prevailing_wage_per_year AS Diff\n",
    "FROM salary_data_states_corrected\n",
    "WHERE job_title_subgroup = \"management consultant\"\n",
    "ORDER BY paid_wage_per_year-prevailing_wage_per_year ASC\n",
    "LIMIT 5\n",
    "##2"
   ]
  },
  {
   "cell_type": "code",
   "execution_count": 9,
   "id": "f5b352d3",
   "metadata": {},
   "outputs": [
    {
     "data": {
      "text/plain": [
       "0.0011956144860651133"
      ]
     },
     "execution_count": 9,
     "metadata": {},
     "output_type": "execute_result"
    }
   ],
   "source": [
    "(2/167278)*100"
   ]
  },
  {
   "cell_type": "code",
   "execution_count": null,
   "id": "771c6ad6",
   "metadata": {},
   "outputs": [],
   "source": [
    "SELECT COUNT(job_title_subgroup)\n",
    "FROM salary_data_states_corrected\n",
    "WHERE job_title_subgroup = 'management consultant'\n",
    "##770"
   ]
  },
  {
   "cell_type": "code",
   "execution_count": 14,
   "id": "a0f2872e",
   "metadata": {},
   "outputs": [
    {
     "data": {
      "text/plain": [
       "0.2597402597402597"
      ]
     },
     "execution_count": 14,
     "metadata": {},
     "output_type": "execute_result"
    }
   ],
   "source": [
    "(2/770)*100"
   ]
  },
  {
   "cell_type": "markdown",
   "id": "e98cf894",
   "metadata": {},
   "source": [
    "#### 3b"
   ]
  },
  {
   "cell_type": "code",
   "execution_count": 28,
   "id": "1500d5c2",
   "metadata": {},
   "outputs": [
    {
     "ename": "SyntaxError",
     "evalue": "invalid syntax (23924318.py, line 2)",
     "output_type": "error",
     "traceback": [
      "\u001b[0;36m  File \u001b[0;32m\"/var/folders/3q/trr9t1d56vz2mp16z5bqm9480000gn/T/ipykernel_28632/23924318.py\"\u001b[0;36m, line \u001b[0;32m2\u001b[0m\n\u001b[0;31m    SELECT employer_name,work_state,paid_wage_per_year-prevailing_wage_per_year AS Diff,COUNT(paid_wage_per_year-prevailing_wage_per_year)\u001b[0m\n\u001b[0m           ^\u001b[0m\n\u001b[0;31mSyntaxError\u001b[0m\u001b[0;31m:\u001b[0m invalid syntax\n"
     ]
    }
   ],
   "source": [
    "#Companies tending to overpay\n",
    "SELECT employer_name,work_state,paid_wage_per_year-prevailing_wage_per_year AS Diff,COUNT(paid_wage_per_year-prevailing_wage_per_year)\n",
    "FROM salary_data_states_corrected\n",
    "WHERE job_title_subgroup = \"management consultant\" AND paid_wage_per_year-prevailing_wage_per_year>0\n",
    "GROUP BY employer_name\n",
    "ORDER BY COUNT(paid_wage_per_year-prevailing_wage_per_year) DESC\n",
    "LIMIT 5"
   ]
  },
  {
   "cell_type": "markdown",
   "id": "5501a79e",
   "metadata": {},
   "source": [
    "![t_overpay](images/q3_m_overpay.png)"
   ]
  },
  {
   "cell_type": "code",
   "execution_count": null,
   "id": "a1d8581a",
   "metadata": {},
   "outputs": [],
   "source": [
    "#Companies tending to underpay\n",
    "SELECT employer_name,work_state,paid_wage_per_year-prevailing_wage_per_year AS Diff,COUNT(paid_wage_per_year-prevailing_wage_per_year)\n",
    "FROM salary_data_states_corrected\n",
    "WHERE job_title_subgroup = \"management consultant\" AND paid_wage_per_year-prevailing_wage_per_year<0\n",
    "GROUP BY employer_name\n",
    "ORDER BY COUNT(paid_wage_per_year-prevailing_wage_per_year) DESC\n",
    "LIMIT 5"
   ]
  },
  {
   "cell_type": "markdown",
   "id": "32ad5e0e",
   "metadata": {},
   "source": [
    "![t_overpay](images/q3_m_underpay.png)"
   ]
  },
  {
   "cell_type": "markdown",
   "id": "494702f6",
   "metadata": {},
   "source": [
    "### Software Engineer"
   ]
  },
  {
   "cell_type": "markdown",
   "id": "84b01aa7",
   "metadata": {},
   "source": [
    "#### 3a"
   ]
  },
  {
   "cell_type": "code",
   "execution_count": null,
   "id": "e4abdc10",
   "metadata": {},
   "outputs": [],
   "source": [
    "SELECT employer_name,work_state, job_title_subgroup, paid_wage_per_year, prevailing_wage_per_year, paid_wage_per_year-prevailing_wage_per_year AS Diff\n",
    "FROM salary_data_states_corrected\n",
    "WHERE job_title_subgroup = \"software engineer\"\n",
    "ORDER BY paid_wage_per_year-prevailing_wage_per_year ASC\n",
    "LIMIT 310\n",
    "##307"
   ]
  },
  {
   "cell_type": "code",
   "execution_count": 10,
   "id": "5a5c5e53",
   "metadata": {},
   "outputs": [
    {
     "data": {
      "text/plain": [
       "0.18352682361099487"
      ]
     },
     "execution_count": 10,
     "metadata": {},
     "output_type": "execute_result"
    }
   ],
   "source": [
    "(307/167278)*100"
   ]
  },
  {
   "cell_type": "code",
   "execution_count": null,
   "id": "d165ce3d",
   "metadata": {},
   "outputs": [],
   "source": [
    "SELECT COUNT(job_title_subgroup)\n",
    "FROM salary_data_states_corrected\n",
    "WHERE job_title_subgroup = 'software engineer'\n",
    "##99364"
   ]
  },
  {
   "cell_type": "code",
   "execution_count": 12,
   "id": "5a2fc3c0",
   "metadata": {},
   "outputs": [
    {
     "data": {
      "text/plain": [
       "0.30896501751137234"
      ]
     },
     "execution_count": 12,
     "metadata": {},
     "output_type": "execute_result"
    }
   ],
   "source": [
    "(307/99364)*100"
   ]
  },
  {
   "cell_type": "markdown",
   "id": "034587fe",
   "metadata": {},
   "source": [
    "#### 3b"
   ]
  },
  {
   "cell_type": "code",
   "execution_count": null,
   "id": "512bd06f",
   "metadata": {},
   "outputs": [],
   "source": [
    "#Companies tending to overpay\n",
    "SELECT employer_name,work_state,paid_wage_per_year-prevailing_wage_per_year AS Diff,COUNT(paid_wage_per_year-prevailing_wage_per_year)\n",
    "FROM salary_data_states_corrected\n",
    "WHERE job_title_subgroup = \"software engineer\" AND paid_wage_per_year-prevailing_wage_per_year>0\n",
    "GROUP BY employer_name\n",
    "ORDER BY COUNT(paid_wage_per_year-prevailing_wage_per_year) DESC\n",
    "LIMIT 5"
   ]
  },
  {
   "cell_type": "markdown",
   "id": "67cb933d",
   "metadata": {},
   "source": [
    "![t_overpay](images/q3_s_overpay.png)"
   ]
  },
  {
   "cell_type": "code",
   "execution_count": null,
   "id": "967d97a8",
   "metadata": {},
   "outputs": [],
   "source": [
    "#Companies tending to underpay\n",
    "SELECT employer_name,work_state,paid_wage_per_year-prevailing_wage_per_year AS Diff,COUNT(paid_wage_per_year-prevailing_wage_per_year)\n",
    "FROM salary_data_states_corrected\n",
    "WHERE job_title_subgroup = \"software engineer\" AND paid_wage_per_year-prevailing_wage_per_year<0\n",
    "GROUP BY employer_name\n",
    "ORDER BY COUNT(paid_wage_per_year-prevailing_wage_per_year) DESC\n",
    "LIMIT 5"
   ]
  },
  {
   "cell_type": "markdown",
   "id": "5fa0f425",
   "metadata": {},
   "source": [
    "![t_overpay](images/q3_s_underpay.png)"
   ]
  },
  {
   "cell_type": "markdown",
   "id": "13bc9515",
   "metadata": {},
   "source": [
    "### Teacher"
   ]
  },
  {
   "cell_type": "markdown",
   "id": "58f2ce4a",
   "metadata": {},
   "source": [
    "#### 3a"
   ]
  },
  {
   "cell_type": "code",
   "execution_count": null,
   "id": "66fcbbe7",
   "metadata": {},
   "outputs": [],
   "source": [
    "SELECT employer_name,work_state, job_title_subgroup, paid_wage_per_year, prevailing_wage_per_year, paid_wage_per_year-prevailing_wage_per_year AS Diff\n",
    "FROM salary_data_states_corrected\n",
    "WHERE job_title_subgroup = \"teacher\"\n",
    "ORDER BY paid_wage_per_year-prevailing_wage_per_year ASC\n",
    "LIMIT 105\n",
    "##101"
   ]
  },
  {
   "cell_type": "code",
   "execution_count": 11,
   "id": "613207f7",
   "metadata": {},
   "outputs": [
    {
     "data": {
      "text/plain": [
       "0.060378531546288215"
      ]
     },
     "execution_count": 11,
     "metadata": {},
     "output_type": "execute_result"
    }
   ],
   "source": [
    "(101/167278)*100"
   ]
  },
  {
   "cell_type": "code",
   "execution_count": null,
   "id": "056b83cb",
   "metadata": {},
   "outputs": [],
   "source": [
    "SELECT COUNT(job_title_subgroup)\n",
    "FROM salary_data_states_corrected\n",
    "WHERE job_title_subgroup = 'teacher'\n",
    "##13912"
   ]
  },
  {
   "cell_type": "code",
   "execution_count": 13,
   "id": "612fc84e",
   "metadata": {},
   "outputs": [
    {
     "data": {
      "text/plain": [
       "0.7259919493962047"
      ]
     },
     "execution_count": 13,
     "metadata": {},
     "output_type": "execute_result"
    }
   ],
   "source": [
    "(101/13912)*100"
   ]
  },
  {
   "cell_type": "markdown",
   "id": "e534c6f4",
   "metadata": {},
   "source": [
    "#### 3b"
   ]
  },
  {
   "cell_type": "code",
   "execution_count": null,
   "id": "09d933df",
   "metadata": {},
   "outputs": [],
   "source": [
    "#Companies tending to overpay\n",
    "SELECT employer_name,work_state,paid_wage_per_year-prevailing_wage_per_year AS Diff,COUNT(paid_wage_per_year-prevailing_wage_per_year)\n",
    "FROM salary_data_states_corrected\n",
    "WHERE job_title_subgroup = \"teacher\" AND paid_wage_per_year-prevailing_wage_per_year>0\n",
    "GROUP BY employer_name\n",
    "ORDER BY COUNT(paid_wage_per_year-prevailing_wage_per_year) DESC\n",
    "LIMIT 5"
   ]
  },
  {
   "cell_type": "markdown",
   "id": "d04493f4",
   "metadata": {},
   "source": [
    "![t_overpay](images/q3_t_overpay.png)"
   ]
  },
  {
   "cell_type": "code",
   "execution_count": null,
   "id": "0812410e",
   "metadata": {},
   "outputs": [],
   "source": [
    "#Companies tending to underpay\n",
    "SELECT employer_name,work_state,paid_wage_per_year-prevailing_wage_per_year AS Diff,COUNT(paid_wage_per_year-prevailing_wage_per_year)\n",
    "FROM salary_data_states_corrected\n",
    "WHERE job_title_subgroup = \"teacher\" AND paid_wage_per_year-prevailing_wage_per_year<0\n",
    "GROUP BY employer_name\n",
    "ORDER BY COUNT(paid_wage_per_year-prevailing_wage_per_year) DESC\n",
    "LIMIT 5"
   ]
  },
  {
   "cell_type": "markdown",
   "id": "b51392e3",
   "metadata": {},
   "source": [
    "![t_underpay](images/q3_t_underpay.png)"
   ]
  },
  {
   "cell_type": "markdown",
   "id": "26b7934e",
   "metadata": {},
   "source": [
    "## Interpretation"
   ]
  },
  {
   "cell_type": "markdown",
   "id": "0ec998fc",
   "metadata": {},
   "source": [
    "### What does this all reveal?\n",
    "\n",
    "#### 3a: Are there job sub-categories that tend to get over-paid or under-paid?\n",
    "Well overall, 0.63% of all jobs underpay their workers (the difference between paid wage per year and prevailing wage per year being negative).\n",
    "\n",
    "Within the assistant professor job subgroup, 2.90% of jobs underpay their workers.\n",
    "    (Overall Dataset 0.3270%)\n",
    "\n",
    "Within the teachers, 0.73% of jobs underpay their workers.\n",
    "    (Overall Dataset 0.604%)\n",
    "\n",
    "Within the attorney job subgroup, 0.47% of jobs underpay their workers.\n",
    "    (Overall Dataset 0.0042%)\n",
    "\n",
    "Within the data scientist subgroup, 0.33% of jobs underpay their workers.\n",
    "    (Overall Dataset 0.0024%)\n",
    "\n",
    "Within the software engineer, 0.31% of jobs underpay their workers.\n",
    "    (Overall Dataset 0.1835%)\n",
    "\n",
    "Within the business analyst subgroup, 0.28 % of jobs underpay their workers.\n",
    "    (Overall Dataset 0.0460%)\n",
    "\n",
    "-Within the data analyst subgroup, 0.26% of jobs underpay their workers.\n",
    "    (Overall Dataset 0.0060%)\n",
    "-Within the management consultant subgroup, 0.26% of jobs underpay their workers.\n",
    "    (Overall Dataset 0.0012%)\n",
    "#### 3b: Are there companies that tend to over-pay or under-pay?\n",
    "The top 5 companies that overpay assitant professors are the Univeristy of Illinois, Purdue Univeristy, the University of Arizona, Pennsylvania State University, and the Univeristy of Michigan.\n",
    "The top 5 companies that underpay assitant professors are the Univeristy of Tennessee Health Science Center, the University of Alabama, the Univeristy of Virginia Health Services Foundation, and Purdue University.\n",
    "\n",
    "The top 5 companies that overpay attorneys are Skadden, Arps, Slate, Meagher & Flom LLP, Simpson Thacher & Bartlett LLP, Shearman & Sterling LLP, White & Case LLP, and Sidely Austin (US) LLP.\n",
    "The top 5 companies that underpay attorneys are DRC Emergency Services, LLC, McCormack & Mattei, P.C., Intelisip Networks, LLC. Sidley Austin (US) LLC, and Georgia Law Center on Homelessness and Poverty.\n",
    "\n",
    "The top 5 companies that overpay business analysts are Deloitte Consulting LLP, Accenture LLP, SCM Data, Inc., Igate Technollogies Inc., and Hitachi Consulting Corporation.\n",
    "The top 5 companies that underpay business analysts are Akvarr Inc., Itech Us, Inc., Ana-Data Consulting Inc., Radus Tek Services, Inc., and Vigiboss, Inc..\n",
    "\n",
    "The top 5 companies that overpay data analysts are Capital One Services, LLC, Ulab Inc., Bell Info Solutions, LLC., Comscore, zinc., and Hanusoft Inc..\n",
    "The top 5 companies that underpay data analysts are Zoosk, Inc., Capgemini U.S. LLC, Inovalon, Inc., Square, Inc., and Genesis Research LLC.\n",
    "\n",
    "The top 5 companies that overpay data scientists are Micorsoft Corporation, Facebook, Inc., Linkedin Corporation, Twitter, Inc., and Groupon, Inc..\n",
    "The top 5 companies that underpay data scientists are Hi-Tech Solutions, Inc., Groupon, Inc., EMC Corporation, and the Advanced Information Management Technology Partner.\n",
    "\n",
    "The top 5 companies that overpay management consultants are McKinsey & Company, Inc. United States, IBM India Private Limited, IBM Corporation, Dell USA L.P., and Gopa IT Consultants Inc..\n",
    "The top 5 companies that underpay management consultants are Joe S. Fish Market Inc. and Global Security Solution USA Inc..\n",
    "\n",
    "The top 5 companies that overpay software engineers are Google Inc., Micorsoft Corporation, Facebook, Inc., Cerner Corporation, and VMWare, Inc.\n",
    "The top 5 companies that underpay software engineers are Sudhi Informatics Inc., IBM India Private Limited, IBM Corporation, Google Inc., and the Software Paradigms International Group, LLC.\n",
    "\n",
    "The top 5 companies that overpay teachers are Dallas Independent School District, Houston Independent School District, Global Teachers Research & Resources, Inc., Fort Worth Independent School District, and the Garland Independent School District.\n",
    "The top 5 companies that underpay teachers are Global Teachers Research & Resources, Inc., Teaching House Inc., Progreso Independent School District, Kodomono Kuni, and the Forest Hill Public Schools. "
   ]
  },
  {
   "cell_type": "code",
   "execution_count": null,
   "id": "4cce651b",
   "metadata": {},
   "outputs": [],
   "source": []
  }
 ],
 "metadata": {
  "kernelspec": {
   "display_name": "Python 3 (ipykernel)",
   "language": "python",
   "name": "python3"
  },
  "language_info": {
   "codemirror_mode": {
    "name": "ipython",
    "version": 3
   },
   "file_extension": ".py",
   "mimetype": "text/x-python",
   "name": "python",
   "nbconvert_exporter": "python",
   "pygments_lexer": "ipython3",
   "version": "3.9.7"
  }
 },
 "nbformat": 4,
 "nbformat_minor": 5
}
