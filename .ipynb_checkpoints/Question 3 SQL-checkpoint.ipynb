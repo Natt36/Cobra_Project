{
 "cells": [
  {
   "cell_type": "markdown",
   "id": "64ab880a",
   "metadata": {},
   "source": [
    "# III. How do offered salaries compare to the prevailing wage?\n",
    "\n",
    "## Are there job sub-categories that tend to get over-paid or under-paid?\n",
    "## Are there companies that tend to over-pay or under-pay?\n"
   ]
  },
  {
   "cell_type": "code",
   "execution_count": null,
   "id": "106aca47",
   "metadata": {},
   "outputs": [],
   "source": [
    "SELECT employer_name,work_state, job_title_subgroup, paid_wage_per_year, prevailing_wage_per_year, paid_wage_per_year-prevailing_wage_per_year AS Diff\n",
    "FROM salary_data_states_corrected\n",
    "WHERE job_title_subgroup = \"attorney\"\n",
    "ORDER BY paid_wage_per_year-prevailing_wage_per_year ASC\n",
    "LIMIT 10\n",
    "##7"
   ]
  },
  {
   "cell_type": "code",
   "execution_count": 3,
   "id": "911512c2",
   "metadata": {},
   "outputs": [
    {
     "data": {
      "text/plain": [
       "0.004184650701227896"
      ]
     },
     "execution_count": 3,
     "metadata": {},
     "output_type": "execute_result"
    }
   ],
   "source": [
    "(7/167278)*100"
   ]
  },
  {
   "cell_type": "code",
   "execution_count": null,
   "id": "52629c50",
   "metadata": {},
   "outputs": [],
   "source": [
    "SELECT employer_name,work_state, job_title_subgroup, paid_wage_per_year, prevailing_wage_per_year, paid_wage_per_year-prevailing_wage_per_year AS Diff\n",
    "FROM salary_data_states_corrected\n",
    "WHERE job_title_subgroup = \"assistant professor\"\n",
    "ORDER BY paid_wage_per_year-prevailing_wage_per_year ASC\n",
    "LIMIT 560\n",
    "##547"
   ]
  },
  {
   "cell_type": "code",
   "execution_count": 4,
   "id": "722b70d7",
   "metadata": {},
   "outputs": [
    {
     "data": {
      "text/plain": [
       "0.32700056193880844"
      ]
     },
     "execution_count": 4,
     "metadata": {},
     "output_type": "execute_result"
    }
   ],
   "source": [
    "(547/167278)*100"
   ]
  },
  {
   "cell_type": "code",
   "execution_count": null,
   "id": "4e54c95c",
   "metadata": {},
   "outputs": [],
   "source": [
    "SELECT employer_name,work_state, job_title_subgroup, paid_wage_per_year, prevailing_wage_per_year, paid_wage_per_year-prevailing_wage_per_year AS Diff\n",
    "FROM salary_data_states_corrected\n",
    "WHERE job_title_subgroup = \"business analyst\"\n",
    "ORDER BY paid_wage_per_year-prevailing_wage_per_year ASC\n",
    "LIMIT 80\n",
    "##77"
   ]
  },
  {
   "cell_type": "code",
   "execution_count": 5,
   "id": "b4356f62",
   "metadata": {},
   "outputs": [
    {
     "data": {
      "text/plain": [
       "0.046031157713506854"
      ]
     },
     "execution_count": 5,
     "metadata": {},
     "output_type": "execute_result"
    }
   ],
   "source": [
    "(77/167278)*100"
   ]
  },
  {
   "cell_type": "code",
   "execution_count": null,
   "id": "6e2a29f7",
   "metadata": {},
   "outputs": [],
   "source": [
    "SELECT employer_name,work_state, job_title_subgroup, paid_wage_per_year, prevailing_wage_per_year, paid_wage_per_year-prevailing_wage_per_year AS Diff\n",
    "FROM salary_data_states_corrected\n",
    "WHERE job_title_subgroup = \"data analyst\"\n",
    "ORDER BY paid_wage_per_year-prevailing_wage_per_year ASC\n",
    "LIMIT 10\n",
    "##10"
   ]
  },
  {
   "cell_type": "code",
   "execution_count": 6,
   "id": "cdf25068",
   "metadata": {},
   "outputs": [
    {
     "data": {
      "text/plain": [
       "0.005978072430325566"
      ]
     },
     "execution_count": 6,
     "metadata": {},
     "output_type": "execute_result"
    }
   ],
   "source": [
    "(10/167278)*100"
   ]
  },
  {
   "cell_type": "code",
   "execution_count": null,
   "id": "1e80c0fc",
   "metadata": {},
   "outputs": [],
   "source": [
    "SELECT employer_name,work_state, job_title_subgroup, paid_wage_per_year, prevailing_wage_per_year, paid_wage_per_year-prevailing_wage_per_year AS Diff\n",
    "FROM salary_data_states_corrected\n",
    "WHERE job_title_subgroup = \"data scientist\"\n",
    "ORDER BY paid_wage_per_year-prevailing_wage_per_year ASC\n",
    "LIMIT 5\n",
    "##4"
   ]
  },
  {
   "cell_type": "code",
   "execution_count": 8,
   "id": "a34c7d86",
   "metadata": {},
   "outputs": [
    {
     "data": {
      "text/plain": [
       "0.0023912289721302266"
      ]
     },
     "execution_count": 8,
     "metadata": {},
     "output_type": "execute_result"
    }
   ],
   "source": [
    "(4/167278)*100"
   ]
  },
  {
   "cell_type": "code",
   "execution_count": null,
   "id": "cd08c45c",
   "metadata": {},
   "outputs": [],
   "source": [
    "SELECT employer_name,work_state, job_title_subgroup, paid_wage_per_year, prevailing_wage_per_year, paid_wage_per_year-prevailing_wage_per_year AS Diff\n",
    "FROM salary_data_states_corrected\n",
    "WHERE job_title_subgroup = \"management consultant\"\n",
    "ORDER BY paid_wage_per_year-prevailing_wage_per_year ASC\n",
    "LIMIT 5\n",
    "##2"
   ]
  },
  {
   "cell_type": "code",
   "execution_count": 9,
   "id": "ff04801d",
   "metadata": {},
   "outputs": [
    {
     "data": {
      "text/plain": [
       "0.0011956144860651133"
      ]
     },
     "execution_count": 9,
     "metadata": {},
     "output_type": "execute_result"
    }
   ],
   "source": [
    "(2/167278)*100"
   ]
  },
  {
   "cell_type": "code",
   "execution_count": null,
   "id": "f681db41",
   "metadata": {},
   "outputs": [],
   "source": [
    "SELECT employer_name,work_state, job_title_subgroup, paid_wage_per_year, prevailing_wage_per_year, paid_wage_per_year-prevailing_wage_per_year AS Diff\n",
    "FROM salary_data_states_corrected\n",
    "WHERE job_title_subgroup = \"software engineer\"\n",
    "ORDER BY paid_wage_per_year-prevailing_wage_per_year ASC\n",
    "LIMIT 310\n",
    "##307"
   ]
  },
  {
   "cell_type": "code",
   "execution_count": 10,
   "id": "25efe280",
   "metadata": {},
   "outputs": [
    {
     "data": {
      "text/plain": [
       "0.18352682361099487"
      ]
     },
     "execution_count": 10,
     "metadata": {},
     "output_type": "execute_result"
    }
   ],
   "source": [
    "(307/167278)*100"
   ]
  },
  {
   "cell_type": "code",
   "execution_count": null,
   "id": "127517dd",
   "metadata": {},
   "outputs": [],
   "source": [
    "SELECT employer_name,work_state, job_title_subgroup, paid_wage_per_year, prevailing_wage_per_year, paid_wage_per_year-prevailing_wage_per_year AS Diff\n",
    "FROM salary_data_states_corrected\n",
    "WHERE job_title_subgroup = \"teacher\"\n",
    "ORDER BY paid_wage_per_year-prevailing_wage_per_year ASC\n",
    "LIMIT 105\n",
    "##101"
   ]
  },
  {
   "cell_type": "code",
   "execution_count": 11,
   "id": "f9ccf604",
   "metadata": {},
   "outputs": [
    {
     "data": {
      "text/plain": [
       "0.060378531546288215"
      ]
     },
     "execution_count": 11,
     "metadata": {},
     "output_type": "execute_result"
    }
   ],
   "source": [
    "(101/167278)*100"
   ]
  },
  {
   "cell_type": "markdown",
   "id": "3a0db3f3",
   "metadata": {},
   "source": [
    "What does this all reveal?\n",
    "Well,there are 167,278 rows in the data set. \n",
    "\n",
    "\n",
    "\n",
    "\n"
   ]
  }
 ],
 "metadata": {
  "kernelspec": {
   "display_name": "Python 3 (ipykernel)",
   "language": "python",
   "name": "python3"
  },
  "language_info": {
   "codemirror_mode": {
    "name": "ipython",
    "version": 3
   },
   "file_extension": ".py",
   "mimetype": "text/x-python",
   "name": "python",
   "nbconvert_exporter": "python",
   "pygments_lexer": "ipython3",
   "version": "3.9.7"
  }
 },
 "nbformat": 4,
 "nbformat_minor": 5
}
