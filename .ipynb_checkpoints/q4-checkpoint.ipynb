{
 "cells": [
  {
   "cell_type": "markdown",
   "id": "9a3a0d7e",
   "metadata": {},
   "source": [
    "# How does country of citizenship impact certification rates within a couple of states?"
   ]
  },
  {
   "cell_type": "markdown",
   "id": "15c16ef1",
   "metadata": {},
   "source": [
    "## Arizona"
   ]
  },
  {
   "cell_type": "code",
   "execution_count": null,
   "id": "68769fe4",
   "metadata": {},
   "outputs": [],
   "source": [
    "### Count of Certified, Sorted by country of citizenship"
   ]
  },
  {
   "cell_type": "code",
   "execution_count": null,
   "id": "e1e2ac37",
   "metadata": {},
   "outputs": [],
   "source": [
    "SELECT case_status, country_of_citizenship, COUNT(country_of_citizenship), job_title_subgroup\n",
    "FROM salary_data_states_corrected\n",
    "WHERE work_state='Arizona' AND country_of_citizenship <> 'NA' AND case_status = 'certified'\n",
    "GROUP BY country_of_citizenship, job_title_subgroup\n",
    "ORDER BY COUNT(country_of_citizenship) DESC"
   ]
  },
  {
   "cell_type": "code",
   "execution_count": null,
   "id": "c963a13c",
   "metadata": {},
   "outputs": [],
   "source": []
  },
  {
   "cell_type": "code",
   "execution_count": null,
   "id": "3dbe7888",
   "metadata": {},
   "outputs": [],
   "source": [
    "### Count of Certfied-Expired, Sorted by country of citizenship"
   ]
  },
  {
   "cell_type": "code",
   "execution_count": null,
   "id": "bc43fdc7",
   "metadata": {},
   "outputs": [],
   "source": [
    "SELECT case_status, country_of_citizenship, COUNT(country_of_citizenship), job_title_subgroup\n",
    "FROM salary_data_states_corrected\n",
    "WHERE work_state='Arizona' AND country_of_citizenship <> 'NA' AND case_status = 'certified-expired'\n",
    "GROUP BY country_of_citizenship, job_title_subgroup\n",
    "ORDER BY COUNT(country_of_citizenship) DESC"
   ]
  },
  {
   "cell_type": "code",
   "execution_count": null,
   "id": "28ea327d",
   "metadata": {},
   "outputs": [],
   "source": []
  },
  {
   "cell_type": "code",
   "execution_count": null,
   "id": "3a83006c",
   "metadata": {},
   "outputs": [],
   "source": [
    "### Count of Withdrawn, Sorted by country of citizenship"
   ]
  },
  {
   "cell_type": "code",
   "execution_count": null,
   "id": "9f0e052e",
   "metadata": {},
   "outputs": [],
   "source": [
    "SELECT case_status, country_of_citizenship, COUNT(country_of_citizenship), job_title_subgroup\n",
    "FROM salary_data_states_corrected\n",
    "WHERE work_state='Arizona' AND country_of_citizenship <> 'NA' AND case_status = 'withdrawn'\n",
    "GROUP BY country_of_citizenship, job_title_subgroup\n",
    "ORDER BY COUNT(country_of_citizenship) DESC"
   ]
  },
  {
   "cell_type": "code",
   "execution_count": null,
   "id": "fa768af1",
   "metadata": {},
   "outputs": [],
   "source": []
  },
  {
   "cell_type": "code",
   "execution_count": null,
   "id": "10030b62",
   "metadata": {},
   "outputs": [],
   "source": [
    "#### Count of Denied, Sorted by country of citizenship"
   ]
  },
  {
   "cell_type": "code",
   "execution_count": null,
   "id": "4a7af273",
   "metadata": {},
   "outputs": [],
   "source": [
    "SELECT case_status, country_of_citizenship, COUNT(country_of_citizenship), job_title_subgroup\n",
    "FROM salary_data_states_corrected\n",
    "WHERE work_state='Arizona' AND country_of_citizenship <> 'NA' AND case_status = 'denied'\n",
    "GROUP BY country_of_citizenship, job_title_subgroup\n",
    "ORDER BY COUNT(country_of_citizenship) DESC"
   ]
  },
  {
   "cell_type": "code",
   "execution_count": null,
   "id": "1818d019",
   "metadata": {},
   "outputs": [],
   "source": []
  },
  {
   "cell_type": "markdown",
   "id": "4cf7ff68",
   "metadata": {},
   "source": [
    "## California"
   ]
  },
  {
   "cell_type": "code",
   "execution_count": null,
   "id": "0a226ee0",
   "metadata": {},
   "outputs": [],
   "source": [
    "### Count of Certified, Sorted by country of citizenship"
   ]
  },
  {
   "cell_type": "code",
   "execution_count": null,
   "id": "0edbc86a",
   "metadata": {},
   "outputs": [],
   "source": [
    "SELECT case_status, country_of_citizenship, COUNT(country_of_citizenship), job_title_subgroup\n",
    "FROM salary_data_states_corrected\n",
    "WHERE work_state='California' AND country_of_citizenship <> 'NA' AND case_status = 'certified'\n",
    "GROUP BY country_of_citizenship, job_title_subgroup\n",
    "ORDER BY COUNT(country_of_citizenship) DESC"
   ]
  },
  {
   "cell_type": "code",
   "execution_count": null,
   "id": "77700269",
   "metadata": {},
   "outputs": [],
   "source": []
  },
  {
   "cell_type": "code",
   "execution_count": null,
   "id": "019e660f",
   "metadata": {},
   "outputs": [],
   "source": [
    "### Count of Certified-Expired, Sorted by country of citizenship"
   ]
  },
  {
   "cell_type": "code",
   "execution_count": null,
   "id": "15954092",
   "metadata": {},
   "outputs": [],
   "source": [
    "SELECT case_status, country_of_citizenship, COUNT(country_of_citizenship), job_title_subgroup\n",
    "FROM salary_data_states_corrected\n",
    "WHERE work_state='California' AND country_of_citizenship <> 'NA' AND case_status = 'certified-expired'\n",
    "GROUP BY country_of_citizenship, job_title_subgroup\n",
    "ORDER BY COUNT(country_of_citizenship) DESC"
   ]
  },
  {
   "cell_type": "code",
   "execution_count": null,
   "id": "181d90b4",
   "metadata": {},
   "outputs": [],
   "source": []
  },
  {
   "cell_type": "code",
   "execution_count": null,
   "id": "0162655d",
   "metadata": {},
   "outputs": [],
   "source": [
    "### Count of Withdrawn, Sorted by country of citizenship"
   ]
  },
  {
   "cell_type": "code",
   "execution_count": null,
   "id": "12a49881",
   "metadata": {},
   "outputs": [],
   "source": [
    "SELECT case_status, country_of_citizenship, COUNT(country_of_citizenship), job_title_subgroup\n",
    "FROM salary_data_states_corrected\n",
    "WHERE work_state='California' AND country_of_citizenship <> 'NA' AND case_status = 'withdrawn'\n",
    "GROUP BY country_of_citizenship, job_title_subgroup\n",
    "ORDER BY COUNT(country_of_citizenship) DESC"
   ]
  },
  {
   "cell_type": "code",
   "execution_count": null,
   "id": "8375e1e2",
   "metadata": {},
   "outputs": [],
   "source": []
  },
  {
   "cell_type": "code",
   "execution_count": null,
   "id": "4e3f6b99",
   "metadata": {},
   "outputs": [],
   "source": [
    "### Count of Denied, Sorted by country of citizenship"
   ]
  },
  {
   "cell_type": "code",
   "execution_count": null,
   "id": "b25c1b0e",
   "metadata": {},
   "outputs": [],
   "source": [
    "SELECT case_status, country_of_citizenship, COUNT(country_of_citizenship), job_title_subgroup\n",
    "FROM salary_data_states_corrected\n",
    "WHERE work_state='California' AND country_of_citizenship <> 'NA' AND case_status = 'denied'\n",
    "GROUP BY country_of_citizenship, job_title_subgroup\n",
    "ORDER BY COUNT(country_of_citizenship) DESC"
   ]
  },
  {
   "cell_type": "code",
   "execution_count": null,
   "id": "37f6aa71",
   "metadata": {},
   "outputs": [],
   "source": []
  },
  {
   "cell_type": "markdown",
   "id": "e1d4f50a",
   "metadata": {},
   "source": [
    "## Massachusetts"
   ]
  },
  {
   "cell_type": "code",
   "execution_count": null,
   "id": "901a432c",
   "metadata": {},
   "outputs": [],
   "source": [
    "### Count of Certified, Sorted by country of citizenship"
   ]
  },
  {
   "cell_type": "code",
   "execution_count": null,
   "id": "5c216891",
   "metadata": {},
   "outputs": [],
   "source": [
    "SELECT case_status, country_of_citizenship, COUNT(country_of_citizenship), job_title_subgroup\n",
    "FROM salary_data_states_corrected\n",
    "WHERE work_state='Massachusetts' AND country_of_citizenship <> 'NA' AND case_status = 'certified'\n",
    "GROUP BY country_of_citizenship, job_title_subgroup\n",
    "ORDER BY COUNT(country_of_citizenship) DESC"
   ]
  },
  {
   "cell_type": "code",
   "execution_count": null,
   "id": "f450a2ef",
   "metadata": {},
   "outputs": [],
   "source": []
  },
  {
   "cell_type": "code",
   "execution_count": null,
   "id": "5a0cb812",
   "metadata": {},
   "outputs": [],
   "source": [
    "### Count of Certified-Expired, Sorted by country of citizenship"
   ]
  },
  {
   "cell_type": "code",
   "execution_count": null,
   "id": "f32049c9",
   "metadata": {},
   "outputs": [],
   "source": [
    "SELECT case_status, country_of_citizenship, COUNT(country_of_citizenship), job_title_subgroup\n",
    "FROM salary_data_states_corrected\n",
    "WHERE work_state='Massachusetts' AND country_of_citizenship <> 'NA' AND case_status = 'certified-expired'\n",
    "GROUP BY country_of_citizenship, job_title_subgroup\n",
    "ORDER BY COUNT(country_of_citizenship) DESC"
   ]
  },
  {
   "cell_type": "code",
   "execution_count": null,
   "id": "0c78a238",
   "metadata": {},
   "outputs": [],
   "source": []
  },
  {
   "cell_type": "code",
   "execution_count": null,
   "id": "cba9b3cf",
   "metadata": {},
   "outputs": [],
   "source": [
    "### Count of Withdrawn, Sorted by country of citizenship"
   ]
  },
  {
   "cell_type": "code",
   "execution_count": null,
   "id": "e1310cdc",
   "metadata": {},
   "outputs": [],
   "source": [
    "SELECT case_status, country_of_citizenship, COUNT(country_of_citizenship), job_title_subgroup\n",
    "FROM salary_data_states_corrected\n",
    "WHERE work_state='Massachusetts' AND country_of_citizenship <> 'NA' AND case_status = 'withdrawn'\n",
    "GROUP BY country_of_citizenship, job_title_subgroup\n",
    "ORDER BY COUNT(country_of_citizenship) DESC"
   ]
  },
  {
   "cell_type": "code",
   "execution_count": null,
   "id": "d46c5ec9",
   "metadata": {},
   "outputs": [],
   "source": []
  },
  {
   "cell_type": "code",
   "execution_count": null,
   "id": "9f01e476",
   "metadata": {},
   "outputs": [],
   "source": [
    "### Count of Denied, Sorted by country of citizenship"
   ]
  },
  {
   "cell_type": "code",
   "execution_count": null,
   "id": "a0218c5b",
   "metadata": {},
   "outputs": [],
   "source": [
    "SELECT case_status, country_of_citizenship, COUNT(country_of_citizenship), job_title_subgroup\n",
    "FROM salary_data_states_corrected\n",
    "WHERE work_state='Massachusetts' AND country_of_citizenship <> 'NA' AND case_status = 'denied'\n",
    "GROUP BY country_of_citizenship, job_title_subgroup\n",
    "ORDER BY COUNT(country_of_citizenship) DESC"
   ]
  },
  {
   "cell_type": "code",
   "execution_count": null,
   "id": "6410988e",
   "metadata": {},
   "outputs": [],
   "source": []
  },
  {
   "cell_type": "markdown",
   "id": "2610c84f",
   "metadata": {},
   "source": [
    "## Texas"
   ]
  },
  {
   "cell_type": "code",
   "execution_count": null,
   "id": "756c45d0",
   "metadata": {},
   "outputs": [],
   "source": [
    "### Count of Certified, Sorted by country of citizenship"
   ]
  },
  {
   "cell_type": "code",
   "execution_count": null,
   "id": "f862e89b",
   "metadata": {},
   "outputs": [],
   "source": [
    "SELECT case_status, country_of_citizenship, COUNT(country_of_citizenship), job_title_subgroup\n",
    "FROM salary_data_states_corrected\n",
    "WHERE work_state='Texas' AND country_of_citizenship <> 'NA' AND case_status = 'certified'\n",
    "GROUP BY country_of_citizenship, job_title_subgroup\n",
    "ORDER BY COUNT(country_of_citizenship) DESC"
   ]
  },
  {
   "cell_type": "code",
   "execution_count": null,
   "id": "f5480faf",
   "metadata": {},
   "outputs": [],
   "source": []
  },
  {
   "cell_type": "code",
   "execution_count": null,
   "id": "8923d434",
   "metadata": {},
   "outputs": [],
   "source": [
    "### Count of Certified-Expired, Sorted by country of citizenship"
   ]
  },
  {
   "cell_type": "code",
   "execution_count": null,
   "id": "106b6e61",
   "metadata": {},
   "outputs": [],
   "source": [
    "SELECT case_status, country_of_citizenship, COUNT(country_of_citizenship), job_title_subgroup\n",
    "FROM salary_data_states_corrected\n",
    "WHERE work_state='Texas' AND country_of_citizenship <> 'NA' AND case_status = 'certified-expired'\n",
    "GROUP BY country_of_citizenship, job_title_subgroup\n",
    "ORDER BY COUNT(country_of_citizenship) DESC"
   ]
  },
  {
   "cell_type": "code",
   "execution_count": null,
   "id": "d3ef39eb",
   "metadata": {},
   "outputs": [],
   "source": []
  },
  {
   "cell_type": "code",
   "execution_count": null,
   "id": "17098d81",
   "metadata": {},
   "outputs": [],
   "source": [
    "### Count of Withdrawn, Sorted by country of citizenship"
   ]
  },
  {
   "cell_type": "code",
   "execution_count": null,
   "id": "ae03d31d",
   "metadata": {},
   "outputs": [],
   "source": [
    "SELECT case_status, country_of_citizenship, COUNT(country_of_citizenship), job_title_subgroup\n",
    "FROM salary_data_states_corrected\n",
    "WHERE work_state='Texas' AND country_of_citizenship <> 'NA' AND case_status = 'withdrawn'\n",
    "GROUP BY country_of_citizenship, job_title_subgroup\n",
    "ORDER BY COUNT(country_of_citizenship) DESC"
   ]
  },
  {
   "cell_type": "code",
   "execution_count": null,
   "id": "3126afa3",
   "metadata": {},
   "outputs": [],
   "source": []
  },
  {
   "cell_type": "code",
   "execution_count": null,
   "id": "5988f9c5",
   "metadata": {},
   "outputs": [],
   "source": [
    "### Count of Denied, Sorted by country of citizenship"
   ]
  },
  {
   "cell_type": "code",
   "execution_count": null,
   "id": "254d24e2",
   "metadata": {},
   "outputs": [],
   "source": [
    "SELECT case_status, country_of_citizenship, COUNT(country_of_citizenship), job_title_subgroup\n",
    "FROM salary_data_states_corrected\n",
    "WHERE work_state='Texas' AND country_of_citizenship <> 'NA' AND case_status = 'denied'\n",
    "GROUP BY country_of_citizenship, job_title_subgroup\n",
    "ORDER BY COUNT(country_of_citizenship) DESC"
   ]
  },
  {
   "cell_type": "code",
   "execution_count": null,
   "id": "4c23c98f",
   "metadata": {},
   "outputs": [],
   "source": []
  },
  {
   "cell_type": "markdown",
   "id": "502fedcb",
   "metadata": {},
   "source": [
    "# Summary"
   ]
  },
  {
   "cell_type": "code",
   "execution_count": null,
   "id": "2979ca68",
   "metadata": {},
   "outputs": [],
   "source": []
  }
 ],
 "metadata": {
  "kernelspec": {
   "display_name": "Python 3 (ipykernel)",
   "language": "python",
   "name": "python3"
  },
  "language_info": {
   "codemirror_mode": {
    "name": "ipython",
    "version": 3
   },
   "file_extension": ".py",
   "mimetype": "text/x-python",
   "name": "python",
   "nbconvert_exporter": "python",
   "pygments_lexer": "ipython3",
   "version": "3.9.7"
  }
 },
 "nbformat": 4,
 "nbformat_minor": 5
}
