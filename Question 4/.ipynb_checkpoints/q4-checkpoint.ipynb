{
 "cells": [
  {
   "cell_type": "markdown",
   "id": "9a3a0d7e",
   "metadata": {},
   "source": [
    "# How does country of citizenship impact certification rates within a couple of states?"
   ]
  },
  {
   "cell_type": "markdown",
   "id": "15c16ef1",
   "metadata": {},
   "source": [
    "## Arizona"
   ]
  },
  {
   "cell_type": "markdown",
   "id": "b4273edc",
   "metadata": {},
   "source": [
    "### Count of Certified, Sorted by country of citizenship"
   ]
  },
  {
   "cell_type": "code",
   "execution_count": null,
   "id": "e1e2ac37",
   "metadata": {},
   "outputs": [],
   "source": [
    "SELECT case_status, country_of_citizenship, COUNT(country_of_citizenship), job_title_subgroup\n",
    "FROM salary_data_states_corrected\n",
    "WHERE work_state='Arizona' AND country_of_citizenship <> 'NA' AND case_status = 'certified'\n",
    "GROUP BY country_of_citizenship, job_title_subgroup\n",
    "ORDER BY COUNT(country_of_citizenship) DESC\n",
    "LIMIT 10"
   ]
  },
  {
   "cell_type": "markdown",
   "id": "e1f489e2",
   "metadata": {},
   "source": [
    "![ac](Images/a_c.png)"
   ]
  },
  {
   "cell_type": "markdown",
   "id": "4888fc9c",
   "metadata": {},
   "source": [
    "### Count of Certfied-Expired, Sorted by country of citizenship"
   ]
  },
  {
   "cell_type": "code",
   "execution_count": null,
   "id": "bc43fdc7",
   "metadata": {},
   "outputs": [],
   "source": [
    "SELECT case_status, country_of_citizenship, COUNT(country_of_citizenship), job_title_subgroup\n",
    "FROM salary_data_states_corrected\n",
    "WHERE work_state='Arizona' AND country_of_citizenship <> 'NA' AND case_status = 'certified-expired'\n",
    "GROUP BY country_of_citizenship, job_title_subgroup\n",
    "ORDER BY COUNT(country_of_citizenship) DESC\n",
    "LIMIT 10"
   ]
  },
  {
   "cell_type": "markdown",
   "id": "ade67898",
   "metadata": {},
   "source": [
    "![ace](Images/a_ce.png)"
   ]
  },
  {
   "cell_type": "markdown",
   "id": "909213aa",
   "metadata": {},
   "source": [
    "### Count of Withdrawn, Sorted by country of citizenship"
   ]
  },
  {
   "cell_type": "code",
   "execution_count": null,
   "id": "9f0e052e",
   "metadata": {},
   "outputs": [],
   "source": [
    "SELECT case_status, country_of_citizenship, COUNT(country_of_citizenship), job_title_subgroup\n",
    "FROM salary_data_states_corrected\n",
    "WHERE work_state='Arizona' AND country_of_citizenship <> 'NA' AND case_status = 'withdrawn'\n",
    "GROUP BY country_of_citizenship, job_title_subgroup\n",
    "ORDER BY COUNT(country_of_citizenship) DESC\n",
    "LIMIT 10"
   ]
  },
  {
   "cell_type": "markdown",
   "id": "44615800",
   "metadata": {},
   "source": [
    "![aw](Images/a_w.png)"
   ]
  },
  {
   "cell_type": "markdown",
   "id": "aaa39ae5",
   "metadata": {},
   "source": [
    "### Count of Denied, Sorted by country of citizenship"
   ]
  },
  {
   "cell_type": "code",
   "execution_count": null,
   "id": "4a7af273",
   "metadata": {},
   "outputs": [],
   "source": [
    "SELECT case_status, country_of_citizenship, COUNT(country_of_citizenship), job_title_subgroup\n",
    "FROM salary_data_states_corrected\n",
    "WHERE work_state='Arizona' AND country_of_citizenship <> 'NA' AND case_status = 'denied'\n",
    "GROUP BY country_of_citizenship, job_title_subgroup\n",
    "ORDER BY COUNT(country_of_citizenship) DESC\n",
    "LIMIT 10"
   ]
  },
  {
   "cell_type": "markdown",
   "id": "8014b88e",
   "metadata": {},
   "source": [
    "![ad](Images/a_d.png)"
   ]
  },
  {
   "cell_type": "markdown",
   "id": "4cf7ff68",
   "metadata": {},
   "source": [
    "## California"
   ]
  },
  {
   "cell_type": "markdown",
   "id": "11f370b3",
   "metadata": {},
   "source": [
    "### Count of Certified, Sorted by country of citizenship"
   ]
  },
  {
   "cell_type": "code",
   "execution_count": null,
   "id": "0edbc86a",
   "metadata": {},
   "outputs": [],
   "source": [
    "SELECT case_status, country_of_citizenship, COUNT(country_of_citizenship), job_title_subgroup\n",
    "FROM salary_data_states_corrected\n",
    "WHERE work_state='California' AND country_of_citizenship <> 'NA' AND case_status = 'certified'\n",
    "GROUP BY country_of_citizenship, job_title_subgroup\n",
    "ORDER BY COUNT(country_of_citizenship) DESC\n",
    "LIMIT 10"
   ]
  },
  {
   "cell_type": "markdown",
   "id": "9e52094b",
   "metadata": {},
   "source": [
    "![cc](Images/c_c.png)"
   ]
  },
  {
   "cell_type": "markdown",
   "id": "b7ed6295",
   "metadata": {},
   "source": [
    "### Count of Certified-Expired, Sorted by country of citizenship"
   ]
  },
  {
   "cell_type": "code",
   "execution_count": null,
   "id": "15954092",
   "metadata": {},
   "outputs": [],
   "source": [
    "SELECT case_status, country_of_citizenship, COUNT(country_of_citizenship), job_title_subgroup\n",
    "FROM salary_data_states_corrected\n",
    "WHERE work_state='California' AND country_of_citizenship <> 'NA' AND case_status = 'certified-expired'\n",
    "GROUP BY country_of_citizenship, job_title_subgroup\n",
    "ORDER BY COUNT(country_of_citizenship) DESC\n",
    "LIMIT 10"
   ]
  },
  {
   "cell_type": "markdown",
   "id": "c31b2222",
   "metadata": {},
   "source": [
    "![cce](Images/c_ce.png)"
   ]
  },
  {
   "cell_type": "markdown",
   "id": "47086e92",
   "metadata": {},
   "source": [
    "### Count of Withdrawn, Sorted by country of citizenship"
   ]
  },
  {
   "cell_type": "code",
   "execution_count": null,
   "id": "12a49881",
   "metadata": {},
   "outputs": [],
   "source": [
    "SELECT case_status, country_of_citizenship, COUNT(country_of_citizenship), job_title_subgroup\n",
    "FROM salary_data_states_corrected\n",
    "WHERE work_state='California' AND country_of_citizenship <> 'NA' AND case_status = 'withdrawn'\n",
    "GROUP BY country_of_citizenship, job_title_subgroup\n",
    "ORDER BY COUNT(country_of_citizenship) DESC\n",
    "LIMIT 10"
   ]
  },
  {
   "cell_type": "markdown",
   "id": "ee594d3c",
   "metadata": {},
   "source": [
    "![cw](Images/c_w.png)"
   ]
  },
  {
   "cell_type": "markdown",
   "id": "aebfadcf",
   "metadata": {},
   "source": [
    "### Count of Denied, Sorted by country of citizenship"
   ]
  },
  {
   "cell_type": "code",
   "execution_count": null,
   "id": "b25c1b0e",
   "metadata": {},
   "outputs": [],
   "source": [
    "SELECT case_status, country_of_citizenship, COUNT(country_of_citizenship), job_title_subgroup\n",
    "FROM salary_data_states_corrected\n",
    "WHERE work_state='California' AND country_of_citizenship <> 'NA' AND case_status = 'denied'\n",
    "GROUP BY country_of_citizenship, job_title_subgroup\n",
    "ORDER BY COUNT(country_of_citizenship) DESC\n",
    "LIMIT 10"
   ]
  },
  {
   "cell_type": "markdown",
   "id": "57022c87",
   "metadata": {},
   "source": [
    "![cd](Images/c_d.png)"
   ]
  },
  {
   "cell_type": "markdown",
   "id": "e1d4f50a",
   "metadata": {},
   "source": [
    "## Massachusetts"
   ]
  },
  {
   "cell_type": "markdown",
   "id": "a84a3de0",
   "metadata": {},
   "source": [
    "### Count of Certified, Sorted by country of citizenship"
   ]
  },
  {
   "cell_type": "code",
   "execution_count": null,
   "id": "5c216891",
   "metadata": {},
   "outputs": [],
   "source": [
    "SELECT case_status, country_of_citizenship, COUNT(country_of_citizenship), job_title_subgroup\n",
    "FROM salary_data_states_corrected\n",
    "WHERE work_state='Massachusetts' AND country_of_citizenship <> 'NA' AND case_status = 'certified'\n",
    "GROUP BY country_of_citizenship, job_title_subgroup\n",
    "ORDER BY COUNT(country_of_citizenship) DESC\n",
    "LIMIT 10"
   ]
  },
  {
   "cell_type": "markdown",
   "id": "ec1f9dbf",
   "metadata": {},
   "source": [
    "![mc](Images/m_c.png)"
   ]
  },
  {
   "cell_type": "markdown",
   "id": "94f6b0e9",
   "metadata": {},
   "source": [
    "### Count of Certified-Expired, Sorted by country of citizenship"
   ]
  },
  {
   "cell_type": "code",
   "execution_count": null,
   "id": "f32049c9",
   "metadata": {},
   "outputs": [],
   "source": [
    "SELECT case_status, country_of_citizenship, COUNT(country_of_citizenship), job_title_subgroup\n",
    "FROM salary_data_states_corrected\n",
    "WHERE work_state='Massachusetts' AND country_of_citizenship <> 'NA' AND case_status = 'certified-expired'\n",
    "GROUP BY country_of_citizenship, job_title_subgroup\n",
    "ORDER BY COUNT(country_of_citizenship) DESC\n",
    "LIMIT 10"
   ]
  },
  {
   "cell_type": "markdown",
   "id": "e48e59a5",
   "metadata": {},
   "source": [
    "![mce](Images/m_ce.png)"
   ]
  },
  {
   "cell_type": "markdown",
   "id": "9db80ac3",
   "metadata": {},
   "source": [
    "### Count of Withdrawn, Sorted by country of citizenship"
   ]
  },
  {
   "cell_type": "code",
   "execution_count": null,
   "id": "e1310cdc",
   "metadata": {},
   "outputs": [],
   "source": [
    "SELECT case_status, country_of_citizenship, COUNT(country_of_citizenship), job_title_subgroup\n",
    "FROM salary_data_states_corrected\n",
    "WHERE work_state='Massachusetts' AND country_of_citizenship <> 'NA' AND case_status = 'withdrawn'\n",
    "GROUP BY country_of_citizenship, job_title_subgroup\n",
    "ORDER BY COUNT(country_of_citizenship) DESC\n",
    "LIMIT 10"
   ]
  },
  {
   "cell_type": "markdown",
   "id": "20503d04",
   "metadata": {},
   "source": [
    "![mw](Images/m_w.png)"
   ]
  },
  {
   "cell_type": "markdown",
   "id": "323a6d70",
   "metadata": {},
   "source": [
    "### Count of Denied, Sorted by country of citizenship"
   ]
  },
  {
   "cell_type": "code",
   "execution_count": null,
   "id": "a0218c5b",
   "metadata": {},
   "outputs": [],
   "source": [
    "SELECT case_status, country_of_citizenship, COUNT(country_of_citizenship), job_title_subgroup\n",
    "FROM salary_data_states_corrected\n",
    "WHERE work_state='Massachusetts' AND country_of_citizenship <> 'NA' AND case_status = 'denied'\n",
    "GROUP BY country_of_citizenship, job_title_subgroup\n",
    "ORDER BY COUNT(country_of_citizenship) DESC\n",
    "LIMIT 10"
   ]
  },
  {
   "cell_type": "markdown",
   "id": "b49df1f8",
   "metadata": {},
   "source": [
    "![md](Images/m_d.png)"
   ]
  },
  {
   "cell_type": "markdown",
   "id": "2610c84f",
   "metadata": {},
   "source": [
    "## Texas"
   ]
  },
  {
   "cell_type": "markdown",
   "id": "8fce8d96",
   "metadata": {},
   "source": [
    "### Count of Certified, Sorted by country of citizenship"
   ]
  },
  {
   "cell_type": "code",
   "execution_count": null,
   "id": "f862e89b",
   "metadata": {},
   "outputs": [],
   "source": [
    "SELECT case_status, country_of_citizenship, COUNT(country_of_citizenship), job_title_subgroup\n",
    "FROM salary_data_states_corrected\n",
    "WHERE work_state='Texas' AND country_of_citizenship <> 'NA' AND case_status = 'certified'\n",
    "GROUP BY country_of_citizenship, job_title_subgroup\n",
    "ORDER BY COUNT(country_of_citizenship) DESC\n",
    "LIMIT 10"
   ]
  },
  {
   "cell_type": "markdown",
   "id": "8916ad7f",
   "metadata": {},
   "source": [
    "![txc](Images/tx_c.png)"
   ]
  },
  {
   "cell_type": "markdown",
   "id": "01ea5ed5",
   "metadata": {},
   "source": [
    "### Count of Certified-Expired, Sorted by country of citizenship"
   ]
  },
  {
   "cell_type": "code",
   "execution_count": null,
   "id": "106b6e61",
   "metadata": {},
   "outputs": [],
   "source": [
    "SELECT case_status, country_of_citizenship, COUNT(country_of_citizenship), job_title_subgroup\n",
    "FROM salary_data_states_corrected\n",
    "WHERE work_state='Texas' AND country_of_citizenship <> 'NA' AND case_status = 'certified-expired'\n",
    "GROUP BY country_of_citizenship, job_title_subgroup\n",
    "ORDER BY COUNT(country_of_citizenship) DESC\n",
    "LIMIT 10"
   ]
  },
  {
   "cell_type": "markdown",
   "id": "5b4c8663",
   "metadata": {},
   "source": [
    "![txce](Images/tx_ce.png)"
   ]
  },
  {
   "cell_type": "markdown",
   "id": "7f1d440f",
   "metadata": {},
   "source": [
    "### Count of Withdrawn, Sorted by country of citizenship"
   ]
  },
  {
   "cell_type": "code",
   "execution_count": null,
   "id": "ae03d31d",
   "metadata": {},
   "outputs": [],
   "source": [
    "SELECT case_status, country_of_citizenship, COUNT(country_of_citizenship), job_title_subgroup\n",
    "FROM salary_data_states_corrected\n",
    "WHERE work_state='Texas' AND country_of_citizenship <> 'NA' AND case_status = 'withdrawn'\n",
    "GROUP BY country_of_citizenship, job_title_subgroup\n",
    "ORDER BY COUNT(country_of_citizenship) DESC\n",
    "LIMIT 10"
   ]
  },
  {
   "cell_type": "markdown",
   "id": "c0305112",
   "metadata": {},
   "source": [
    "![txw](Images/tx_w.png)"
   ]
  },
  {
   "cell_type": "markdown",
   "id": "bdde0af6",
   "metadata": {},
   "source": [
    "### Count of Denied, Sorted by country of citizenship"
   ]
  },
  {
   "cell_type": "code",
   "execution_count": null,
   "id": "254d24e2",
   "metadata": {},
   "outputs": [],
   "source": [
    "SELECT case_status, country_of_citizenship, COUNT(country_of_citizenship), job_title_subgroup\n",
    "FROM salary_data_states_corrected\n",
    "WHERE work_state='Texas' AND country_of_citizenship <> 'NA' AND case_status = 'denied'\n",
    "GROUP BY country_of_citizenship, job_title_subgroup\n",
    "ORDER BY COUNT(country_of_citizenship) DESC\n",
    "LIMIT 10"
   ]
  },
  {
   "cell_type": "markdown",
   "id": "9adc0aa0",
   "metadata": {},
   "source": [
    "![td](Images/tx_d.png)"
   ]
  },
  {
   "cell_type": "markdown",
   "id": "502fedcb",
   "metadata": {},
   "source": [
    "# Summary"
   ]
  },
  {
   "cell_type": "code",
   "execution_count": null,
   "id": "2979ca68",
   "metadata": {},
   "outputs": [],
   "source": []
  }
 ],
 "metadata": {
  "kernelspec": {
   "display_name": "Python 3 (ipykernel)",
   "language": "python",
   "name": "python3"
  },
  "language_info": {
   "codemirror_mode": {
    "name": "ipython",
    "version": 3
   },
   "file_extension": ".py",
   "mimetype": "text/x-python",
   "name": "python",
   "nbconvert_exporter": "python",
   "pygments_lexer": "ipython3",
   "version": "3.9.7"
  }
 },
 "nbformat": 4,
 "nbformat_minor": 5
}
