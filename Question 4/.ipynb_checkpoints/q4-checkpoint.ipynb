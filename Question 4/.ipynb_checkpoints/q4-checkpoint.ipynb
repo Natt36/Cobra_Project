{
 "cells": [
  {
   "cell_type": "markdown",
   "id": "9a3a0d7e",
   "metadata": {},
   "source": [
    "# How does country of citizenship impact certification rates within a couple of states?"
   ]
  },
  {
   "cell_type": "markdown",
   "id": "15c16ef1",
   "metadata": {},
   "source": [
    "## Arizona"
   ]
  },
  {
   "cell_type": "code",
   "execution_count": 9,
   "id": "bc87fdca",
   "metadata": {},
   "outputs": [
    {
     "data": {
      "text/plain": [
       "46"
      ]
     },
     "execution_count": 9,
     "metadata": {},
     "output_type": "execute_result"
    }
   ],
   "source": [
    "#Total number of cases in Arizona, 46\n",
    "23+18+3+2"
   ]
  },
  {
   "cell_type": "markdown",
   "id": "b4273edc",
   "metadata": {},
   "source": [
    "### Count of Certified, Sorted by country of citizenship"
   ]
  },
  {
   "cell_type": "code",
   "execution_count": null,
   "id": "e1e2ac37",
   "metadata": {},
   "outputs": [],
   "source": [
    "SELECT case_status, country_of_citizenship, COUNT(country_of_citizenship), job_title_subgroup\n",
    "FROM salary_data_states_corrected\n",
    "WHERE work_state='Arizona' AND country_of_citizenship <> 'NA' AND case_status = 'certified'\n",
    "GROUP BY country_of_citizenship, job_title_subgroup\n",
    "ORDER BY COUNT(country_of_citizenship) DESC\n",
    "LIMIT 10"
   ]
  },
  {
   "cell_type": "markdown",
   "id": "e1f489e2",
   "metadata": {},
   "source": [
    "![ac](Images/a_c.png)"
   ]
  },
  {
   "cell_type": "code",
   "execution_count": 13,
   "id": "81eedc22",
   "metadata": {},
   "outputs": [
    {
     "data": {
      "text/plain": [
       "50.0"
      ]
     },
     "execution_count": 13,
     "metadata": {},
     "output_type": "execute_result"
    }
   ],
   "source": [
    "#Total Amount of Cases Certified in Arizona\n",
    "ac = (23/46)*100\n",
    "ac"
   ]
  },
  {
   "cell_type": "markdown",
   "id": "4888fc9c",
   "metadata": {},
   "source": [
    "### Count of Certfied-Expired, Sorted by country of citizenship"
   ]
  },
  {
   "cell_type": "code",
   "execution_count": null,
   "id": "bc43fdc7",
   "metadata": {},
   "outputs": [],
   "source": [
    "SELECT case_status, country_of_citizenship, COUNT(country_of_citizenship), job_title_subgroup\n",
    "FROM salary_data_states_corrected\n",
    "WHERE work_state='Arizona' AND country_of_citizenship <> 'NA' AND case_status = 'certified-expired'\n",
    "GROUP BY country_of_citizenship, job_title_subgroup\n",
    "ORDER BY COUNT(country_of_citizenship) DESC\n",
    "LIMIT 10"
   ]
  },
  {
   "cell_type": "markdown",
   "id": "ade67898",
   "metadata": {},
   "source": [
    "![ace](Images/a_ce.png)"
   ]
  },
  {
   "cell_type": "code",
   "execution_count": 12,
   "id": "eeeed0d6",
   "metadata": {},
   "outputs": [
    {
     "data": {
      "text/plain": [
       "39.130434782608695"
      ]
     },
     "execution_count": 12,
     "metadata": {},
     "output_type": "execute_result"
    }
   ],
   "source": [
    "#Total Amount of Cases Certified-Expired in Arizona\n",
    "ace = (18/46)*100\n",
    "ace"
   ]
  },
  {
   "cell_type": "markdown",
   "id": "909213aa",
   "metadata": {},
   "source": [
    "### Count of Withdrawn, Sorted by country of citizenship"
   ]
  },
  {
   "cell_type": "code",
   "execution_count": null,
   "id": "9f0e052e",
   "metadata": {},
   "outputs": [],
   "source": [
    "SELECT case_status, country_of_citizenship, COUNT(country_of_citizenship), job_title_subgroup\n",
    "FROM salary_data_states_corrected\n",
    "WHERE work_state='Arizona' AND country_of_citizenship <> 'NA' AND case_status = 'withdrawn'\n",
    "GROUP BY country_of_citizenship, job_title_subgroup\n",
    "ORDER BY COUNT(country_of_citizenship) DESC\n",
    "LIMIT 10"
   ]
  },
  {
   "cell_type": "markdown",
   "id": "44615800",
   "metadata": {},
   "source": [
    "![aw](Images/a_w.png)"
   ]
  },
  {
   "cell_type": "code",
   "execution_count": 11,
   "id": "fe4190f4",
   "metadata": {},
   "outputs": [
    {
     "data": {
      "text/plain": [
       "6.521739130434782"
      ]
     },
     "execution_count": 11,
     "metadata": {},
     "output_type": "execute_result"
    }
   ],
   "source": [
    "#Total Amount of Cases Withdrawn in Arizona\n",
    "aw = (3/46)*100\n",
    "aw"
   ]
  },
  {
   "cell_type": "markdown",
   "id": "aaa39ae5",
   "metadata": {},
   "source": [
    "### Count of Denied, Sorted by country of citizenship"
   ]
  },
  {
   "cell_type": "code",
   "execution_count": null,
   "id": "4a7af273",
   "metadata": {},
   "outputs": [],
   "source": [
    "SELECT case_status, country_of_citizenship, COUNT(country_of_citizenship), job_title_subgroup\n",
    "FROM salary_data_states_corrected\n",
    "WHERE work_state='Arizona' AND country_of_citizenship <> 'NA' AND case_status = 'denied'\n",
    "GROUP BY country_of_citizenship, job_title_subgroup\n",
    "ORDER BY COUNT(country_of_citizenship) DESC\n",
    "LIMIT 10"
   ]
  },
  {
   "cell_type": "markdown",
   "id": "8014b88e",
   "metadata": {},
   "source": [
    "![ad](Images/a_d.png)"
   ]
  },
  {
   "cell_type": "code",
   "execution_count": 10,
   "id": "9be3de6f",
   "metadata": {},
   "outputs": [
    {
     "data": {
      "text/plain": [
       "4.3478260869565215"
      ]
     },
     "execution_count": 10,
     "metadata": {},
     "output_type": "execute_result"
    }
   ],
   "source": [
    "#Total Amount of Cases Denied in Arizona\n",
    "ad = (2/46)*100\n",
    "ad"
   ]
  },
  {
   "cell_type": "markdown",
   "id": "4cf7ff68",
   "metadata": {},
   "source": [
    "## California"
   ]
  },
  {
   "cell_type": "code",
   "execution_count": 14,
   "id": "910170dc",
   "metadata": {},
   "outputs": [
    {
     "data": {
      "text/plain": [
       "309"
      ]
     },
     "execution_count": 14,
     "metadata": {},
     "output_type": "execute_result"
    }
   ],
   "source": [
    "#Total Number of Cases in California, 309\n",
    "140+102+38+29"
   ]
  },
  {
   "cell_type": "markdown",
   "id": "11f370b3",
   "metadata": {},
   "source": [
    "### Count of Certified, Sorted by country of citizenship"
   ]
  },
  {
   "cell_type": "code",
   "execution_count": null,
   "id": "0edbc86a",
   "metadata": {},
   "outputs": [],
   "source": [
    "SELECT case_status, country_of_citizenship, COUNT(country_of_citizenship), job_title_subgroup\n",
    "FROM salary_data_states_corrected\n",
    "WHERE work_state='California' AND country_of_citizenship <> 'NA' AND case_status = 'certified'\n",
    "GROUP BY country_of_citizenship, job_title_subgroup\n",
    "ORDER BY COUNT(country_of_citizenship) DESC\n",
    "LIMIT 10"
   ]
  },
  {
   "cell_type": "markdown",
   "id": "9e52094b",
   "metadata": {},
   "source": [
    "![cc](Images/c_c.png)"
   ]
  },
  {
   "cell_type": "code",
   "execution_count": 17,
   "id": "eb4b5e5f",
   "metadata": {},
   "outputs": [
    {
     "data": {
      "text/plain": [
       "45.307443365695796"
      ]
     },
     "execution_count": 17,
     "metadata": {},
     "output_type": "execute_result"
    }
   ],
   "source": [
    "#Total Amount of Cases Certified in California\n",
    "cc = (140/309)*100\n",
    "cc"
   ]
  },
  {
   "cell_type": "markdown",
   "id": "b7ed6295",
   "metadata": {},
   "source": [
    "### Count of Certified-Expired, Sorted by country of citizenship"
   ]
  },
  {
   "cell_type": "code",
   "execution_count": null,
   "id": "15954092",
   "metadata": {},
   "outputs": [],
   "source": [
    "SELECT case_status, country_of_citizenship, COUNT(country_of_citizenship), job_title_subgroup\n",
    "FROM salary_data_states_corrected\n",
    "WHERE work_state='California' AND country_of_citizenship <> 'NA' AND case_status = 'certified-expired'\n",
    "GROUP BY country_of_citizenship, job_title_subgroup\n",
    "ORDER BY COUNT(country_of_citizenship) DESC\n",
    "LIMIT 10"
   ]
  },
  {
   "cell_type": "markdown",
   "id": "c31b2222",
   "metadata": {},
   "source": [
    "![cce](Images/c_ce.png)"
   ]
  },
  {
   "cell_type": "code",
   "execution_count": 18,
   "id": "e5adf08a",
   "metadata": {},
   "outputs": [
    {
     "data": {
      "text/plain": [
       "33.00970873786408"
      ]
     },
     "execution_count": 18,
     "metadata": {},
     "output_type": "execute_result"
    }
   ],
   "source": [
    "#Total Amount of Cases Certified Expired in California\n",
    "cce = (102/309)*100\n",
    "cce"
   ]
  },
  {
   "cell_type": "markdown",
   "id": "47086e92",
   "metadata": {},
   "source": [
    "### Count of Withdrawn, Sorted by country of citizenship"
   ]
  },
  {
   "cell_type": "code",
   "execution_count": null,
   "id": "12a49881",
   "metadata": {},
   "outputs": [],
   "source": [
    "SELECT case_status, country_of_citizenship, COUNT(country_of_citizenship), job_title_subgroup\n",
    "FROM salary_data_states_corrected\n",
    "WHERE work_state='California' AND country_of_citizenship <> 'NA' AND case_status = 'withdrawn'\n",
    "GROUP BY country_of_citizenship, job_title_subgroup\n",
    "ORDER BY COUNT(country_of_citizenship) DESC\n",
    "LIMIT 10"
   ]
  },
  {
   "cell_type": "markdown",
   "id": "ee594d3c",
   "metadata": {},
   "source": [
    "![cw](Images/c_w.png)"
   ]
  },
  {
   "cell_type": "code",
   "execution_count": 20,
   "id": "6b318d97",
   "metadata": {},
   "outputs": [
    {
     "data": {
      "text/plain": [
       "12.297734627831716"
      ]
     },
     "execution_count": 20,
     "metadata": {},
     "output_type": "execute_result"
    }
   ],
   "source": [
    "#Total Amount of Cases Withdrawn in California\n",
    "cw = (38/309)*100\n",
    "cw"
   ]
  },
  {
   "cell_type": "markdown",
   "id": "aebfadcf",
   "metadata": {},
   "source": [
    "### Count of Denied, Sorted by country of citizenship"
   ]
  },
  {
   "cell_type": "code",
   "execution_count": null,
   "id": "b25c1b0e",
   "metadata": {},
   "outputs": [],
   "source": [
    "SELECT case_status, country_of_citizenship, COUNT(country_of_citizenship), job_title_subgroup\n",
    "FROM salary_data_states_corrected\n",
    "WHERE work_state='California' AND country_of_citizenship <> 'NA' AND case_status = 'denied'\n",
    "GROUP BY country_of_citizenship, job_title_subgroup\n",
    "ORDER BY COUNT(country_of_citizenship) DESC\n",
    "LIMIT 10"
   ]
  },
  {
   "cell_type": "markdown",
   "id": "57022c87",
   "metadata": {},
   "source": [
    "![cd](Images/c_d.png)"
   ]
  },
  {
   "cell_type": "code",
   "execution_count": 19,
   "id": "c29d72d6",
   "metadata": {},
   "outputs": [
    {
     "data": {
      "text/plain": [
       "9.385113268608414"
      ]
     },
     "execution_count": 19,
     "metadata": {},
     "output_type": "execute_result"
    }
   ],
   "source": [
    "#Total Amount of Cases Denied in California\n",
    "cd = (29/309)*100\n",
    "cd"
   ]
  },
  {
   "cell_type": "markdown",
   "id": "e1d4f50a",
   "metadata": {},
   "source": [
    "## Massachusetts"
   ]
  },
  {
   "cell_type": "code",
   "execution_count": 15,
   "id": "df2e3d92",
   "metadata": {},
   "outputs": [
    {
     "data": {
      "text/plain": [
       "104"
      ]
     },
     "execution_count": 15,
     "metadata": {},
     "output_type": "execute_result"
    }
   ],
   "source": [
    "#Total Number of Cases in Massachusetts, 104\n",
    "59+33+6+6"
   ]
  },
  {
   "cell_type": "markdown",
   "id": "a84a3de0",
   "metadata": {},
   "source": [
    "### Count of Certified, Sorted by country of citizenship"
   ]
  },
  {
   "cell_type": "code",
   "execution_count": null,
   "id": "5c216891",
   "metadata": {},
   "outputs": [],
   "source": [
    "SELECT case_status, country_of_citizenship, COUNT(country_of_citizenship), job_title_subgroup\n",
    "FROM salary_data_states_corrected\n",
    "WHERE work_state='Massachusetts' AND country_of_citizenship <> 'NA' AND case_status = 'certified'\n",
    "GROUP BY country_of_citizenship, job_title_subgroup\n",
    "ORDER BY COUNT(country_of_citizenship) DESC\n",
    "LIMIT 10"
   ]
  },
  {
   "cell_type": "markdown",
   "id": "ec1f9dbf",
   "metadata": {},
   "source": [
    "![mc](Images/m_c.png)"
   ]
  },
  {
   "cell_type": "code",
   "execution_count": 21,
   "id": "f6e7ec48",
   "metadata": {},
   "outputs": [
    {
     "data": {
      "text/plain": [
       "56.730769230769226"
      ]
     },
     "execution_count": 21,
     "metadata": {},
     "output_type": "execute_result"
    }
   ],
   "source": [
    "#Total Amount of Cases Certified in Massachusetts \n",
    "mc = (59/104)*100\n",
    "mc"
   ]
  },
  {
   "cell_type": "markdown",
   "id": "94f6b0e9",
   "metadata": {},
   "source": [
    "### Count of Certified-Expired, Sorted by country of citizenship"
   ]
  },
  {
   "cell_type": "code",
   "execution_count": null,
   "id": "f32049c9",
   "metadata": {},
   "outputs": [],
   "source": [
    "SELECT case_status, country_of_citizenship, COUNT(country_of_citizenship), job_title_subgroup\n",
    "FROM salary_data_states_corrected\n",
    "WHERE work_state='Massachusetts' AND country_of_citizenship <> 'NA' AND case_status = 'certified-expired'\n",
    "GROUP BY country_of_citizenship, job_title_subgroup\n",
    "ORDER BY COUNT(country_of_citizenship) DESC\n",
    "LIMIT 10"
   ]
  },
  {
   "cell_type": "markdown",
   "id": "e48e59a5",
   "metadata": {},
   "source": [
    "![mce](Images/m_ce.png)"
   ]
  },
  {
   "cell_type": "code",
   "execution_count": 22,
   "id": "a7de7821",
   "metadata": {},
   "outputs": [
    {
     "data": {
      "text/plain": [
       "31.73076923076923"
      ]
     },
     "execution_count": 22,
     "metadata": {},
     "output_type": "execute_result"
    }
   ],
   "source": [
    "#Total Amount of Cases Certified Expired in Massachusetts \n",
    "mce = (33/104)*100\n",
    "mce"
   ]
  },
  {
   "cell_type": "markdown",
   "id": "9db80ac3",
   "metadata": {},
   "source": [
    "### Count of Withdrawn, Sorted by country of citizenship"
   ]
  },
  {
   "cell_type": "code",
   "execution_count": null,
   "id": "e1310cdc",
   "metadata": {},
   "outputs": [],
   "source": [
    "SELECT case_status, country_of_citizenship, COUNT(country_of_citizenship), job_title_subgroup\n",
    "FROM salary_data_states_corrected\n",
    "WHERE work_state='Massachusetts' AND country_of_citizenship <> 'NA' AND case_status = 'withdrawn'\n",
    "GROUP BY country_of_citizenship, job_title_subgroup\n",
    "ORDER BY COUNT(country_of_citizenship) DESC\n",
    "LIMIT 10"
   ]
  },
  {
   "cell_type": "markdown",
   "id": "20503d04",
   "metadata": {},
   "source": [
    "![mw](Images/m_w.png)"
   ]
  },
  {
   "cell_type": "code",
   "execution_count": 29,
   "id": "1df6073b",
   "metadata": {},
   "outputs": [
    {
     "data": {
      "text/plain": [
       "5.769230769230769"
      ]
     },
     "execution_count": 29,
     "metadata": {},
     "output_type": "execute_result"
    }
   ],
   "source": [
    "#Total Amount of Cases Withdrawn in Massachusetts \n",
    "mw = (6/104)*100\n",
    "mw"
   ]
  },
  {
   "cell_type": "markdown",
   "id": "323a6d70",
   "metadata": {},
   "source": [
    "### Count of Denied, Sorted by country of citizenship"
   ]
  },
  {
   "cell_type": "code",
   "execution_count": null,
   "id": "a0218c5b",
   "metadata": {},
   "outputs": [],
   "source": [
    "SELECT case_status, country_of_citizenship, COUNT(country_of_citizenship), job_title_subgroup\n",
    "FROM salary_data_states_corrected\n",
    "WHERE work_state='Massachusetts' AND country_of_citizenship <> 'NA' AND case_status = 'denied'\n",
    "GROUP BY country_of_citizenship, job_title_subgroup\n",
    "ORDER BY COUNT(country_of_citizenship) DESC\n",
    "LIMIT 10"
   ]
  },
  {
   "cell_type": "markdown",
   "id": "b49df1f8",
   "metadata": {},
   "source": [
    "![md](Images/m_d.png)"
   ]
  },
  {
   "cell_type": "code",
   "execution_count": 24,
   "id": "00875e89",
   "metadata": {},
   "outputs": [
    {
     "data": {
      "text/plain": [
       "5.769230769230769"
      ]
     },
     "execution_count": 24,
     "metadata": {},
     "output_type": "execute_result"
    }
   ],
   "source": [
    "#Total Amount of Cases Denied in Massachusetts \n",
    "md = (6/104)*100\n",
    "md"
   ]
  },
  {
   "cell_type": "markdown",
   "id": "2610c84f",
   "metadata": {},
   "source": [
    "## Texas"
   ]
  },
  {
   "cell_type": "code",
   "execution_count": 16,
   "id": "c0cd1cd3",
   "metadata": {},
   "outputs": [
    {
     "data": {
      "text/plain": [
       "176"
      ]
     },
     "execution_count": 16,
     "metadata": {},
     "output_type": "execute_result"
    }
   ],
   "source": [
    "#Total Number of Cases in Texas, 176\n",
    "79+56+18+23"
   ]
  },
  {
   "cell_type": "markdown",
   "id": "8fce8d96",
   "metadata": {},
   "source": [
    "### Count of Certified, Sorted by country of citizenship"
   ]
  },
  {
   "cell_type": "code",
   "execution_count": null,
   "id": "f862e89b",
   "metadata": {},
   "outputs": [],
   "source": [
    "SELECT case_status, country_of_citizenship, COUNT(country_of_citizenship), job_title_subgroup\n",
    "FROM salary_data_states_corrected\n",
    "WHERE work_state='Texas' AND country_of_citizenship <> 'NA' AND case_status = 'certified'\n",
    "GROUP BY country_of_citizenship, job_title_subgroup\n",
    "ORDER BY COUNT(country_of_citizenship) DESC\n",
    "LIMIT 10"
   ]
  },
  {
   "cell_type": "markdown",
   "id": "8916ad7f",
   "metadata": {},
   "source": [
    "![txc](Images/tx_c.png)"
   ]
  },
  {
   "cell_type": "code",
   "execution_count": 25,
   "id": "48fc17d9",
   "metadata": {},
   "outputs": [
    {
     "data": {
      "text/plain": [
       "44.88636363636363"
      ]
     },
     "execution_count": 25,
     "metadata": {},
     "output_type": "execute_result"
    }
   ],
   "source": [
    "#Total Amount of Cases Certified in Texas\n",
    "tc = (79/176)*100\n",
    "tc"
   ]
  },
  {
   "cell_type": "markdown",
   "id": "01ea5ed5",
   "metadata": {},
   "source": [
    "### Count of Certified-Expired, Sorted by country of citizenship"
   ]
  },
  {
   "cell_type": "code",
   "execution_count": null,
   "id": "106b6e61",
   "metadata": {},
   "outputs": [],
   "source": [
    "SELECT case_status, country_of_citizenship, COUNT(country_of_citizenship), job_title_subgroup\n",
    "FROM salary_data_states_corrected\n",
    "WHERE work_state='Texas' AND country_of_citizenship <> 'NA' AND case_status = 'certified-expired'\n",
    "GROUP BY country_of_citizenship, job_title_subgroup\n",
    "ORDER BY COUNT(country_of_citizenship) DESC\n",
    "LIMIT 10"
   ]
  },
  {
   "cell_type": "markdown",
   "id": "5b4c8663",
   "metadata": {},
   "source": [
    "![txce](Images/tx_ce.png)"
   ]
  },
  {
   "cell_type": "code",
   "execution_count": 26,
   "id": "55009e9a",
   "metadata": {},
   "outputs": [
    {
     "data": {
      "text/plain": [
       "31.818181818181817"
      ]
     },
     "execution_count": 26,
     "metadata": {},
     "output_type": "execute_result"
    }
   ],
   "source": [
    "#Total Amount of Cases Certified in Texas\n",
    "tce = (56/176)*100\n",
    "tce"
   ]
  },
  {
   "cell_type": "markdown",
   "id": "7f1d440f",
   "metadata": {},
   "source": [
    "### Count of Withdrawn, Sorted by country of citizenship"
   ]
  },
  {
   "cell_type": "code",
   "execution_count": null,
   "id": "ae03d31d",
   "metadata": {},
   "outputs": [],
   "source": [
    "SELECT case_status, country_of_citizenship, COUNT(country_of_citizenship), job_title_subgroup\n",
    "FROM salary_data_states_corrected\n",
    "WHERE work_state='Texas' AND country_of_citizenship <> 'NA' AND case_status = 'withdrawn'\n",
    "GROUP BY country_of_citizenship, job_title_subgroup\n",
    "ORDER BY COUNT(country_of_citizenship) DESC\n",
    "LIMIT 10"
   ]
  },
  {
   "cell_type": "markdown",
   "id": "c0305112",
   "metadata": {},
   "source": [
    "![txw](Images/tx_w.png)"
   ]
  },
  {
   "cell_type": "code",
   "execution_count": 28,
   "id": "2f1660d3",
   "metadata": {},
   "outputs": [
    {
     "data": {
      "text/plain": [
       "10.227272727272728"
      ]
     },
     "execution_count": 28,
     "metadata": {},
     "output_type": "execute_result"
    }
   ],
   "source": [
    "#Total Amount of Cases Withdrawn in Texas\n",
    "tw = (18/176)*100\n",
    "tw"
   ]
  },
  {
   "cell_type": "markdown",
   "id": "bdde0af6",
   "metadata": {},
   "source": [
    "### Count of Denied, Sorted by country of citizenship"
   ]
  },
  {
   "cell_type": "code",
   "execution_count": null,
   "id": "254d24e2",
   "metadata": {},
   "outputs": [],
   "source": [
    "SELECT case_status, country_of_citizenship, COUNT(country_of_citizenship), job_title_subgroup\n",
    "FROM salary_data_states_corrected\n",
    "WHERE work_state='Texas' AND country_of_citizenship <> 'NA' AND case_status = 'denied'\n",
    "GROUP BY country_of_citizenship, job_title_subgroup\n",
    "ORDER BY COUNT(country_of_citizenship) DESC\n",
    "LIMIT 10"
   ]
  },
  {
   "cell_type": "markdown",
   "id": "9adc0aa0",
   "metadata": {},
   "source": [
    "![td](Images/tx_d.png)"
   ]
  },
  {
   "cell_type": "code",
   "execution_count": 27,
   "id": "e06305c2",
   "metadata": {},
   "outputs": [
    {
     "data": {
      "text/plain": [
       "13.068181818181818"
      ]
     },
     "execution_count": 27,
     "metadata": {},
     "output_type": "execute_result"
    }
   ],
   "source": [
    "#Total Amount of Cases Denied in Texas\n",
    "td = (23/176)*100\n",
    "td"
   ]
  },
  {
   "cell_type": "markdown",
   "id": "502fedcb",
   "metadata": {},
   "source": [
    "# Summary"
   ]
  },
  {
   "cell_type": "markdown",
   "id": "d3a35b80",
   "metadata": {},
   "source": [
    "Note: ('_' indicates no value)\n",
    "\n",
    "### In Arizona: \n",
    "50% of cases were certified, 39.13% were certified-expired, 6.52% were wtihdrawn, and 4.35% were denied.\n",
    "\n",
    "-most applicants from India and the Philippines\n",
    "\n",
    "-software engineer from India case status--> 72:22:2:13\n",
    "\n",
    "-teacher from the Philippines cases staus--> 11:6:8:14\n",
    "\n",
    "### In California:\n",
    "45.31% of cases were certified, 33.01% were certified-expired, 12.3% were wtihdrawn, and 9.39% were denied.\n",
    "\n",
    "-most applicants from India, China, and Canada\n",
    "\n",
    "-software engineer from India case status--> 1501:603:85:64\n",
    "\n",
    "-software engineer from China case status--> 408:181:30:9\n",
    "\n",
    "-software engineer from Canada case status--> 93:47:8:5\n",
    "\n",
    "### In Massachusetts:\n",
    "56.73% of cases were certified, 31.73% were certified-expired, 5.77% were wtihdrawn, and 5.77% were denied.\n",
    "\n",
    "-most applicants from India and China\n",
    "\n",
    "-software engineer from India case status--> 141:86:12:5\n",
    "\n",
    "-software engineer from China case status--> 19:12:3:_\n",
    "\n",
    "### In Texas:\n",
    "44.89% of cases were certified, 31.82% were certified-expired, 10.23% were wtihdrawn, and 13.07% were denied.\n",
    "\n",
    "-most applicants from India, Mexico, and the Philippines \n",
    "\n",
    "-software engineer from India case status--> 229:152:19:10\n",
    "\n",
    "-teacher from Mexico case status--> 61:27:5:57\n",
    "\n",
    "-teacher from the Philippines cases staus--> 13:_:5:20 \n",
    "\n",
    "\n"
   ]
  },
  {
   "cell_type": "code",
   "execution_count": null,
   "id": "2ea7191d",
   "metadata": {},
   "outputs": [],
   "source": []
  }
 ],
 "metadata": {
  "kernelspec": {
   "display_name": "Python 3 (ipykernel)",
   "language": "python",
   "name": "python3"
  },
  "language_info": {
   "codemirror_mode": {
    "name": "ipython",
    "version": 3
   },
   "file_extension": ".py",
   "mimetype": "text/x-python",
   "name": "python",
   "nbconvert_exporter": "python",
   "pygments_lexer": "ipython3",
   "version": "3.9.7"
  }
 },
 "nbformat": 4,
 "nbformat_minor": 5
}
