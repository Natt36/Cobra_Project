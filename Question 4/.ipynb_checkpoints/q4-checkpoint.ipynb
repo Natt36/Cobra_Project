{
 "cells": [
  {
   "cell_type": "markdown",
   "id": "9a3a0d7e",
   "metadata": {},
   "source": [
    "# How does country of citizenship impact certification rates within a couple of states?"
   ]
  },
  {
   "cell_type": "markdown",
   "id": "15c16ef1",
   "metadata": {},
   "source": [
    "## Arizona"
   ]
  },
  {
   "cell_type": "markdown",
   "id": "ee24960e",
   "metadata": {},
   "source": [
    "### Count of Certified, Sorted by country of citizenship"
   ]
  },
  {
   "cell_type": "code",
   "execution_count": null,
   "id": "e1e2ac37",
   "metadata": {},
   "outputs": [],
   "source": [
    "SELECT case_status, country_of_citizenship, COUNT(country_of_citizenship), job_title_subgroup\n",
    "FROM salary_data_states_corrected\n",
    "WHERE work_state='Arizona' AND country_of_citizenship <> 'NA' AND case_status = 'certified'\n",
    "GROUP BY country_of_citizenship, job_title_subgroup\n",
    "ORDER BY COUNT(country_of_citizenship) DESC\n",
    "LIMIT 10"
   ]
  },
  {
   "cell_type": "code",
   "execution_count": 5,
   "id": "c963a13c",
   "metadata": {},
   "outputs": [
    {
     "name": "stdout",
     "output_type": "stream",
     "text": [
      "zsh:1: number expected\r\n"
     ]
    }
   ],
   "source": [
    "![ac](\"Images/a_c.png\")"
   ]
  },
  {
   "cell_type": "markdown",
   "id": "09328b06",
   "metadata": {},
   "source": [
    "### Count of Certfied-Expired, Sorted by country of citizenship"
   ]
  },
  {
   "cell_type": "code",
   "execution_count": null,
   "id": "bc43fdc7",
   "metadata": {},
   "outputs": [],
   "source": [
    "SELECT case_status, country_of_citizenship, COUNT(country_of_citizenship), job_title_subgroup\n",
    "FROM salary_data_states_corrected\n",
    "WHERE work_state='Arizona' AND country_of_citizenship <> 'NA' AND case_status = 'certified-expired'\n",
    "GROUP BY country_of_citizenship, job_title_subgroup\n",
    "ORDER BY COUNT(country_of_citizenship) DESC\n",
    "LIMIT 10"
   ]
  },
  {
   "cell_type": "code",
   "execution_count": null,
   "id": "28ea327d",
   "metadata": {},
   "outputs": [],
   "source": [
    "![ace](Images/a_ce.png)"
   ]
  },
  {
   "cell_type": "markdown",
   "id": "cfe633f5",
   "metadata": {},
   "source": [
    "### Count of Withdrawn, Sorted by country of citizenship"
   ]
  },
  {
   "cell_type": "code",
   "execution_count": null,
   "id": "9f0e052e",
   "metadata": {},
   "outputs": [],
   "source": [
    "SELECT case_status, country_of_citizenship, COUNT(country_of_citizenship), job_title_subgroup\n",
    "FROM salary_data_states_corrected\n",
    "WHERE work_state='Arizona' AND country_of_citizenship <> 'NA' AND case_status = 'withdrawn'\n",
    "GROUP BY country_of_citizenship, job_title_subgroup\n",
    "ORDER BY COUNT(country_of_citizenship) DESC\n",
    "LIMIT 10"
   ]
  },
  {
   "cell_type": "code",
   "execution_count": null,
   "id": "fa768af1",
   "metadata": {},
   "outputs": [],
   "source": [
    "![aw](Images/a_w.png)"
   ]
  },
  {
   "cell_type": "markdown",
   "id": "7a9596b3",
   "metadata": {},
   "source": [
    "### Count of Denied, Sorted by country of citizenship"
   ]
  },
  {
   "cell_type": "code",
   "execution_count": null,
   "id": "4a7af273",
   "metadata": {},
   "outputs": [],
   "source": [
    "SELECT case_status, country_of_citizenship, COUNT(country_of_citizenship), job_title_subgroup\n",
    "FROM salary_data_states_corrected\n",
    "WHERE work_state='Arizona' AND country_of_citizenship <> 'NA' AND case_status = 'denied'\n",
    "GROUP BY country_of_citizenship, job_title_subgroup\n",
    "ORDER BY COUNT(country_of_citizenship) DESC\n",
    "LIMIT 10"
   ]
  },
  {
   "cell_type": "code",
   "execution_count": null,
   "id": "1818d019",
   "metadata": {},
   "outputs": [],
   "source": [
    "![ad](Images/a_d.png)"
   ]
  },
  {
   "cell_type": "markdown",
   "id": "4cf7ff68",
   "metadata": {},
   "source": [
    "## California"
   ]
  },
  {
   "cell_type": "code",
   "execution_count": null,
   "id": "0a226ee0",
   "metadata": {},
   "outputs": [],
   "source": [
    "### Count of Certified, Sorted by country of citizenship"
   ]
  },
  {
   "cell_type": "code",
   "execution_count": null,
   "id": "0edbc86a",
   "metadata": {},
   "outputs": [],
   "source": [
    "SELECT case_status, country_of_citizenship, COUNT(country_of_citizenship), job_title_subgroup\n",
    "FROM salary_data_states_corrected\n",
    "WHERE work_state='California' AND country_of_citizenship <> 'NA' AND case_status = 'certified'\n",
    "GROUP BY country_of_citizenship, job_title_subgroup\n",
    "ORDER BY COUNT(country_of_citizenship) DESC\n",
    "LIMIT 10"
   ]
  },
  {
   "cell_type": "code",
   "execution_count": null,
   "id": "77700269",
   "metadata": {},
   "outputs": [],
   "source": [
    "![cc](Images/c_c.png)"
   ]
  },
  {
   "cell_type": "code",
   "execution_count": null,
   "id": "019e660f",
   "metadata": {},
   "outputs": [],
   "source": [
    "### Count of Certified-Expired, Sorted by country of citizenship"
   ]
  },
  {
   "cell_type": "code",
   "execution_count": null,
   "id": "15954092",
   "metadata": {},
   "outputs": [],
   "source": [
    "SELECT case_status, country_of_citizenship, COUNT(country_of_citizenship), job_title_subgroup\n",
    "FROM salary_data_states_corrected\n",
    "WHERE work_state='California' AND country_of_citizenship <> 'NA' AND case_status = 'certified-expired'\n",
    "GROUP BY country_of_citizenship, job_title_subgroup\n",
    "ORDER BY COUNT(country_of_citizenship) DESC\n",
    "LIMIT 10"
   ]
  },
  {
   "cell_type": "code",
   "execution_count": null,
   "id": "181d90b4",
   "metadata": {},
   "outputs": [],
   "source": [
    "![cce](Images/c_ce.png)"
   ]
  },
  {
   "cell_type": "code",
   "execution_count": null,
   "id": "0162655d",
   "metadata": {},
   "outputs": [],
   "source": [
    "### Count of Withdrawn, Sorted by country of citizenship"
   ]
  },
  {
   "cell_type": "code",
   "execution_count": null,
   "id": "12a49881",
   "metadata": {},
   "outputs": [],
   "source": [
    "SELECT case_status, country_of_citizenship, COUNT(country_of_citizenship), job_title_subgroup\n",
    "FROM salary_data_states_corrected\n",
    "WHERE work_state='California' AND country_of_citizenship <> 'NA' AND case_status = 'withdrawn'\n",
    "GROUP BY country_of_citizenship, job_title_subgroup\n",
    "ORDER BY COUNT(country_of_citizenship) DESC\n",
    "LIMIT 10"
   ]
  },
  {
   "cell_type": "code",
   "execution_count": null,
   "id": "8375e1e2",
   "metadata": {},
   "outputs": [],
   "source": [
    "![cw](Images/c_w.png)"
   ]
  },
  {
   "cell_type": "code",
   "execution_count": null,
   "id": "4e3f6b99",
   "metadata": {},
   "outputs": [],
   "source": [
    "### Count of Denied, Sorted by country of citizenship"
   ]
  },
  {
   "cell_type": "code",
   "execution_count": null,
   "id": "b25c1b0e",
   "metadata": {},
   "outputs": [],
   "source": [
    "SELECT case_status, country_of_citizenship, COUNT(country_of_citizenship), job_title_subgroup\n",
    "FROM salary_data_states_corrected\n",
    "WHERE work_state='California' AND country_of_citizenship <> 'NA' AND case_status = 'denied'\n",
    "GROUP BY country_of_citizenship, job_title_subgroup\n",
    "ORDER BY COUNT(country_of_citizenship) DESC\n",
    "LIMIT 10"
   ]
  },
  {
   "cell_type": "code",
   "execution_count": null,
   "id": "37f6aa71",
   "metadata": {},
   "outputs": [],
   "source": [
    "![cd](Images/c_d.png)"
   ]
  },
  {
   "cell_type": "markdown",
   "id": "e1d4f50a",
   "metadata": {},
   "source": [
    "## Massachusetts"
   ]
  },
  {
   "cell_type": "code",
   "execution_count": null,
   "id": "901a432c",
   "metadata": {},
   "outputs": [],
   "source": [
    "### Count of Certified, Sorted by country of citizenship"
   ]
  },
  {
   "cell_type": "code",
   "execution_count": null,
   "id": "5c216891",
   "metadata": {},
   "outputs": [],
   "source": [
    "SELECT case_status, country_of_citizenship, COUNT(country_of_citizenship), job_title_subgroup\n",
    "FROM salary_data_states_corrected\n",
    "WHERE work_state='Massachusetts' AND country_of_citizenship <> 'NA' AND case_status = 'certified'\n",
    "GROUP BY country_of_citizenship, job_title_subgroup\n",
    "ORDER BY COUNT(country_of_citizenship) DESC\n",
    "LIMIT 10"
   ]
  },
  {
   "cell_type": "code",
   "execution_count": null,
   "id": "f450a2ef",
   "metadata": {},
   "outputs": [],
   "source": [
    "![mc](Images/m_c.png)"
   ]
  },
  {
   "cell_type": "code",
   "execution_count": null,
   "id": "5a0cb812",
   "metadata": {},
   "outputs": [],
   "source": [
    "### Count of Certified-Expired, Sorted by country of citizenship"
   ]
  },
  {
   "cell_type": "code",
   "execution_count": null,
   "id": "f32049c9",
   "metadata": {},
   "outputs": [],
   "source": [
    "SELECT case_status, country_of_citizenship, COUNT(country_of_citizenship), job_title_subgroup\n",
    "FROM salary_data_states_corrected\n",
    "WHERE work_state='Massachusetts' AND country_of_citizenship <> 'NA' AND case_status = 'certified-expired'\n",
    "GROUP BY country_of_citizenship, job_title_subgroup\n",
    "ORDER BY COUNT(country_of_citizenship) DESC\n",
    "LIMIT 10"
   ]
  },
  {
   "cell_type": "code",
   "execution_count": null,
   "id": "0c78a238",
   "metadata": {},
   "outputs": [],
   "source": [
    "![mce](Images/m_ce.png)"
   ]
  },
  {
   "cell_type": "code",
   "execution_count": null,
   "id": "cba9b3cf",
   "metadata": {},
   "outputs": [],
   "source": [
    "### Count of Withdrawn, Sorted by country of citizenship"
   ]
  },
  {
   "cell_type": "code",
   "execution_count": null,
   "id": "e1310cdc",
   "metadata": {},
   "outputs": [],
   "source": [
    "SELECT case_status, country_of_citizenship, COUNT(country_of_citizenship), job_title_subgroup\n",
    "FROM salary_data_states_corrected\n",
    "WHERE work_state='Massachusetts' AND country_of_citizenship <> 'NA' AND case_status = 'withdrawn'\n",
    "GROUP BY country_of_citizenship, job_title_subgroup\n",
    "ORDER BY COUNT(country_of_citizenship) DESC\n",
    "LIMIT 10"
   ]
  },
  {
   "cell_type": "code",
   "execution_count": null,
   "id": "d46c5ec9",
   "metadata": {},
   "outputs": [],
   "source": [
    "![mw](Images/m_w.png)"
   ]
  },
  {
   "cell_type": "code",
   "execution_count": null,
   "id": "9f01e476",
   "metadata": {},
   "outputs": [],
   "source": [
    "### Count of Denied, Sorted by country of citizenship"
   ]
  },
  {
   "cell_type": "code",
   "execution_count": null,
   "id": "a0218c5b",
   "metadata": {},
   "outputs": [],
   "source": [
    "SELECT case_status, country_of_citizenship, COUNT(country_of_citizenship), job_title_subgroup\n",
    "FROM salary_data_states_corrected\n",
    "WHERE work_state='Massachusetts' AND country_of_citizenship <> 'NA' AND case_status = 'denied'\n",
    "GROUP BY country_of_citizenship, job_title_subgroup\n",
    "ORDER BY COUNT(country_of_citizenship) DESC\n",
    "LIMIT 10"
   ]
  },
  {
   "cell_type": "code",
   "execution_count": null,
   "id": "6410988e",
   "metadata": {},
   "outputs": [],
   "source": [
    "![md](Images/m_d.png)"
   ]
  },
  {
   "cell_type": "markdown",
   "id": "2610c84f",
   "metadata": {},
   "source": [
    "## Texas"
   ]
  },
  {
   "cell_type": "code",
   "execution_count": null,
   "id": "756c45d0",
   "metadata": {},
   "outputs": [],
   "source": [
    "### Count of Certified, Sorted by country of citizenship"
   ]
  },
  {
   "cell_type": "code",
   "execution_count": null,
   "id": "f862e89b",
   "metadata": {},
   "outputs": [],
   "source": [
    "SELECT case_status, country_of_citizenship, COUNT(country_of_citizenship), job_title_subgroup\n",
    "FROM salary_data_states_corrected\n",
    "WHERE work_state='Texas' AND country_of_citizenship <> 'NA' AND case_status = 'certified'\n",
    "GROUP BY country_of_citizenship, job_title_subgroup\n",
    "ORDER BY COUNT(country_of_citizenship) DESC\n",
    "LIMIT 10"
   ]
  },
  {
   "cell_type": "markdown",
   "id": "d4e657e8",
   "metadata": {},
   "source": [
    "![txc](Images/tx_c.png)"
   ]
  },
  {
   "cell_type": "code",
   "execution_count": null,
   "id": "8923d434",
   "metadata": {},
   "outputs": [],
   "source": [
    "### Count of Certified-Expired, Sorted by country of citizenship"
   ]
  },
  {
   "cell_type": "code",
   "execution_count": null,
   "id": "106b6e61",
   "metadata": {},
   "outputs": [],
   "source": [
    "SELECT case_status, country_of_citizenship, COUNT(country_of_citizenship), job_title_subgroup\n",
    "FROM salary_data_states_corrected\n",
    "WHERE work_state='Texas' AND country_of_citizenship <> 'NA' AND case_status = 'certified-expired'\n",
    "GROUP BY country_of_citizenship, job_title_subgroup\n",
    "ORDER BY COUNT(country_of_citizenship) DESC\n",
    "LIMIT 10"
   ]
  },
  {
   "cell_type": "markdown",
   "id": "265576ec",
   "metadata": {},
   "source": [
    "![txce](Images/tx_ce.png)"
   ]
  },
  {
   "cell_type": "code",
   "execution_count": null,
   "id": "17098d81",
   "metadata": {},
   "outputs": [],
   "source": [
    "### Count of Withdrawn, Sorted by country of citizenship"
   ]
  },
  {
   "cell_type": "code",
   "execution_count": null,
   "id": "ae03d31d",
   "metadata": {},
   "outputs": [],
   "source": [
    "SELECT case_status, country_of_citizenship, COUNT(country_of_citizenship), job_title_subgroup\n",
    "FROM salary_data_states_corrected\n",
    "WHERE work_state='Texas' AND country_of_citizenship <> 'NA' AND case_status = 'withdrawn'\n",
    "GROUP BY country_of_citizenship, job_title_subgroup\n",
    "ORDER BY COUNT(country_of_citizenship) DESC\n",
    "LIMIT 10"
   ]
  },
  {
   "cell_type": "markdown",
   "id": "d377725d",
   "metadata": {},
   "source": [
    "![txw](Images/tx_w.png)"
   ]
  },
  {
   "cell_type": "code",
   "execution_count": null,
   "id": "5988f9c5",
   "metadata": {},
   "outputs": [],
   "source": [
    "### Count of Denied, Sorted by country of citizenship"
   ]
  },
  {
   "cell_type": "code",
   "execution_count": null,
   "id": "254d24e2",
   "metadata": {},
   "outputs": [],
   "source": [
    "SELECT case_status, country_of_citizenship, COUNT(country_of_citizenship), job_title_subgroup\n",
    "FROM salary_data_states_corrected\n",
    "WHERE work_state='Texas' AND country_of_citizenship <> 'NA' AND case_status = 'denied'\n",
    "GROUP BY country_of_citizenship, job_title_subgroup\n",
    "ORDER BY COUNT(country_of_citizenship) DESC\n",
    "LIMIT 10"
   ]
  },
  {
   "cell_type": "markdown",
   "id": "dd322d18",
   "metadata": {},
   "source": [
    "![td](Images/tx_d.png)"
   ]
  },
  {
   "cell_type": "markdown",
   "id": "502fedcb",
   "metadata": {},
   "source": [
    "# Summary"
   ]
  },
  {
   "cell_type": "code",
   "execution_count": null,
   "id": "2979ca68",
   "metadata": {},
   "outputs": [],
   "source": []
  }
 ],
 "metadata": {
  "kernelspec": {
   "display_name": "Python 3 (ipykernel)",
   "language": "python",
   "name": "python3"
  },
  "language_info": {
   "codemirror_mode": {
    "name": "ipython",
    "version": 3
   },
   "file_extension": ".py",
   "mimetype": "text/x-python",
   "name": "python",
   "nbconvert_exporter": "python",
   "pygments_lexer": "ipython3",
   "version": "3.9.7"
  }
 },
 "nbformat": 4,
 "nbformat_minor": 5
}
