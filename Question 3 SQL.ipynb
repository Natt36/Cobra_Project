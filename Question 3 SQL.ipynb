{
 "cells": [
  {
   "cell_type": "markdown",
   "id": "4b1f7c43",
   "metadata": {},
   "source": [
    "# III. How do offered salaries compare to the prevailing wage?\n",
    "\n",
    "## Are there job sub-categories that tend to get over-paid or under-paid?\n",
    "## Are there companies that tend to over-pay or under-pay?\n"
   ]
  },
  {
   "cell_type": "markdown",
   "id": "92985b00",
   "metadata": {},
   "source": [
    "### Attorney"
   ]
  },
  {
   "cell_type": "code",
   "execution_count": null,
   "id": "d89af296",
   "metadata": {},
   "outputs": [],
   "source": [
    "SELECT employer_name,work_state, job_title_subgroup, paid_wage_per_year, prevailing_wage_per_year, paid_wage_per_year-prevailing_wage_per_year AS Diff\n",
    "FROM salary_data_states_corrected\n",
    "WHERE job_title_subgroup = \"attorney\"\n",
    "ORDER BY paid_wage_per_year-prevailing_wage_per_year ASC\n",
    "LIMIT 10\n",
    "##7"
   ]
  },
  {
   "cell_type": "code",
   "execution_count": 3,
   "id": "9e69e00c",
   "metadata": {},
   "outputs": [
    {
     "data": {
      "text/plain": [
       "0.004184650701227896"
      ]
     },
     "execution_count": 3,
     "metadata": {},
     "output_type": "execute_result"
    }
   ],
   "source": [
    "(7/167278)*100"
   ]
  },
  {
   "cell_type": "code",
   "execution_count": null,
   "id": "a5d6d600",
   "metadata": {},
   "outputs": [],
   "source": [
    "SELECT COUNT(job_title_subgroup)\n",
    "FROM salary_data_states_corrected\n",
    "WHERE job_title_subgroup = 'attorney'\n",
    "##1488"
   ]
  },
  {
   "cell_type": "code",
   "execution_count": 19,
   "id": "b6dbc44f",
   "metadata": {},
   "outputs": [
    {
     "data": {
      "text/plain": [
       "0.47043010752688175"
      ]
     },
     "execution_count": 19,
     "metadata": {},
     "output_type": "execute_result"
    }
   ],
   "source": [
    "(7/1488)*100"
   ]
  },
  {
   "cell_type": "markdown",
   "id": "7fe967c8",
   "metadata": {},
   "source": [
    "### Assistant Professor"
   ]
  },
  {
   "cell_type": "code",
   "execution_count": null,
   "id": "0599dd8f",
   "metadata": {},
   "outputs": [],
   "source": [
    "SELECT employer_name,work_state, job_title_subgroup, paid_wage_per_year, prevailing_wage_per_year, paid_wage_per_year-prevailing_wage_per_year AS Diff\n",
    "FROM salary_data_states_corrected\n",
    "WHERE job_title_subgroup = \"assistant professor\"\n",
    "ORDER BY paid_wage_per_year-prevailing_wage_per_year ASC\n",
    "LIMIT 560\n",
    "##547"
   ]
  },
  {
   "cell_type": "code",
   "execution_count": 4,
   "id": "21390f8e",
   "metadata": {},
   "outputs": [
    {
     "data": {
      "text/plain": [
       "0.32700056193880844"
      ]
     },
     "execution_count": 4,
     "metadata": {},
     "output_type": "execute_result"
    }
   ],
   "source": [
    "(547/167278)*100"
   ]
  },
  {
   "cell_type": "code",
   "execution_count": null,
   "id": "4c75c4f1",
   "metadata": {},
   "outputs": [],
   "source": [
    "SELECT COUNT(job_title_subgroup)\n",
    "FROM salary_data_states_corrected\n",
    "WHERE job_title_subgroup = 'assistant professor'\n",
    "##18866"
   ]
  },
  {
   "cell_type": "code",
   "execution_count": 18,
   "id": "fef868d3",
   "metadata": {},
   "outputs": [
    {
     "data": {
      "text/plain": [
       "2.8993957383653135"
      ]
     },
     "execution_count": 18,
     "metadata": {},
     "output_type": "execute_result"
    }
   ],
   "source": [
    "(547/18866)*100"
   ]
  },
  {
   "cell_type": "markdown",
   "id": "6629e306",
   "metadata": {},
   "source": [
    "### Business Analyst"
   ]
  },
  {
   "cell_type": "code",
   "execution_count": null,
   "id": "2bb24745",
   "metadata": {},
   "outputs": [],
   "source": [
    "SELECT employer_name,work_state, job_title_subgroup, paid_wage_per_year, prevailing_wage_per_year, paid_wage_per_year-prevailing_wage_per_year AS Diff\n",
    "FROM salary_data_states_corrected\n",
    "WHERE job_title_subgroup = \"business analyst\"\n",
    "ORDER BY paid_wage_per_year-prevailing_wage_per_year ASC\n",
    "LIMIT 80\n",
    "##77"
   ]
  },
  {
   "cell_type": "code",
   "execution_count": 5,
   "id": "f148658e",
   "metadata": {},
   "outputs": [
    {
     "data": {
      "text/plain": [
       "0.046031157713506854"
      ]
     },
     "execution_count": 5,
     "metadata": {},
     "output_type": "execute_result"
    }
   ],
   "source": [
    "(77/167278)*100"
   ]
  },
  {
   "cell_type": "code",
   "execution_count": null,
   "id": "cf30f129",
   "metadata": {},
   "outputs": [],
   "source": [
    "SELECT COUNT(job_title_subgroup)\n",
    "FROM salary_data_states_corrected\n",
    "WHERE job_title_subgroup = 'business analyst'\n",
    "##27811"
   ]
  },
  {
   "cell_type": "code",
   "execution_count": 17,
   "id": "7f9bd7f3",
   "metadata": {},
   "outputs": [
    {
     "data": {
      "text/plain": [
       "0.27686886483765416"
      ]
     },
     "execution_count": 17,
     "metadata": {},
     "output_type": "execute_result"
    }
   ],
   "source": [
    "(77/27811)*100"
   ]
  },
  {
   "cell_type": "markdown",
   "id": "b0a5b641",
   "metadata": {},
   "source": [
    "### Data Analyst"
   ]
  },
  {
   "cell_type": "code",
   "execution_count": null,
   "id": "380af9ff",
   "metadata": {},
   "outputs": [],
   "source": [
    "SELECT employer_name,work_state, job_title_subgroup, paid_wage_per_year, prevailing_wage_per_year, paid_wage_per_year-prevailing_wage_per_year AS Diff\n",
    "FROM salary_data_states_corrected\n",
    "WHERE job_title_subgroup = \"data analyst\"\n",
    "ORDER BY paid_wage_per_year-prevailing_wage_per_year ASC\n",
    "LIMIT 10\n",
    "##10"
   ]
  },
  {
   "cell_type": "code",
   "execution_count": 6,
   "id": "a5b600e6",
   "metadata": {},
   "outputs": [
    {
     "data": {
      "text/plain": [
       "0.005978072430325566"
      ]
     },
     "execution_count": 6,
     "metadata": {},
     "output_type": "execute_result"
    }
   ],
   "source": [
    "(10/167278)*100"
   ]
  },
  {
   "cell_type": "code",
   "execution_count": null,
   "id": "131c34e1",
   "metadata": {},
   "outputs": [],
   "source": [
    "SELECT COUNT(job_title_subgroup)\n",
    "FROM salary_data_states_corrected\n",
    "WHERE job_title_subgroup = 'data analyst'\n",
    "##3840"
   ]
  },
  {
   "cell_type": "code",
   "execution_count": 16,
   "id": "0356fed7",
   "metadata": {},
   "outputs": [
    {
     "data": {
      "text/plain": [
       "0.26041666666666663"
      ]
     },
     "execution_count": 16,
     "metadata": {},
     "output_type": "execute_result"
    }
   ],
   "source": [
    "(10/3840)*100"
   ]
  },
  {
   "cell_type": "markdown",
   "id": "eff4fad8",
   "metadata": {},
   "source": [
    "### Data Scientist"
   ]
  },
  {
   "cell_type": "code",
   "execution_count": null,
   "id": "72f7bf48",
   "metadata": {},
   "outputs": [],
   "source": [
    "SELECT employer_name,work_state, job_title_subgroup, paid_wage_per_year, prevailing_wage_per_year, paid_wage_per_year-prevailing_wage_per_year AS Diff\n",
    "FROM salary_data_states_corrected\n",
    "WHERE job_title_subgroup = \"data scientist\"\n",
    "ORDER BY paid_wage_per_year-prevailing_wage_per_year ASC\n",
    "LIMIT 5\n",
    "##4"
   ]
  },
  {
   "cell_type": "code",
   "execution_count": 8,
   "id": "0359d27b",
   "metadata": {},
   "outputs": [
    {
     "data": {
      "text/plain": [
       "0.0023912289721302266"
      ]
     },
     "execution_count": 8,
     "metadata": {},
     "output_type": "execute_result"
    }
   ],
   "source": [
    "(4/167278)*100"
   ]
  },
  {
   "cell_type": "code",
   "execution_count": null,
   "id": "e460d6ac",
   "metadata": {},
   "outputs": [],
   "source": [
    "SELECT COUNT(job_title_subgroup)\n",
    "FROM salary_data_states_corrected\n",
    "WHERE job_title_subgroup = 'data scientist'\n",
    "##1227"
   ]
  },
  {
   "cell_type": "code",
   "execution_count": 15,
   "id": "758f7648",
   "metadata": {},
   "outputs": [
    {
     "data": {
      "text/plain": [
       "0.32599837000814996"
      ]
     },
     "execution_count": 15,
     "metadata": {},
     "output_type": "execute_result"
    }
   ],
   "source": [
    "(4/1227)*100"
   ]
  },
  {
   "cell_type": "markdown",
   "id": "0fc188e9",
   "metadata": {},
   "source": [
    "### Management Consultant"
   ]
  },
  {
   "cell_type": "code",
   "execution_count": null,
   "id": "8592a78b",
   "metadata": {},
   "outputs": [],
   "source": [
    "SELECT employer_name,work_state, job_title_subgroup, paid_wage_per_year, prevailing_wage_per_year, paid_wage_per_year-prevailing_wage_per_year AS Diff\n",
    "FROM salary_data_states_corrected\n",
    "WHERE job_title_subgroup = \"management consultant\"\n",
    "ORDER BY paid_wage_per_year-prevailing_wage_per_year ASC\n",
    "LIMIT 5\n",
    "##2"
   ]
  },
  {
   "cell_type": "code",
   "execution_count": 9,
   "id": "148e0372",
   "metadata": {},
   "outputs": [
    {
     "data": {
      "text/plain": [
       "0.0011956144860651133"
      ]
     },
     "execution_count": 9,
     "metadata": {},
     "output_type": "execute_result"
    }
   ],
   "source": [
    "(2/167278)*100"
   ]
  },
  {
   "cell_type": "code",
   "execution_count": null,
   "id": "b7c36683",
   "metadata": {},
   "outputs": [],
   "source": [
    "SELECT COUNT(job_title_subgroup)\n",
    "FROM salary_data_states_corrected\n",
    "WHERE job_title_subgroup = 'management consultant'\n",
    "##770"
   ]
  },
  {
   "cell_type": "code",
   "execution_count": 14,
   "id": "99e0a49f",
   "metadata": {},
   "outputs": [
    {
     "data": {
      "text/plain": [
       "0.2597402597402597"
      ]
     },
     "execution_count": 14,
     "metadata": {},
     "output_type": "execute_result"
    }
   ],
   "source": [
    "(2/770)*100"
   ]
  },
  {
   "cell_type": "markdown",
   "id": "6e0aa9ac",
   "metadata": {},
   "source": [
    "### Software Engineer"
   ]
  },
  {
   "cell_type": "code",
   "execution_count": null,
   "id": "ebbc792c",
   "metadata": {},
   "outputs": [],
   "source": [
    "SELECT employer_name,work_state, job_title_subgroup, paid_wage_per_year, prevailing_wage_per_year, paid_wage_per_year-prevailing_wage_per_year AS Diff\n",
    "FROM salary_data_states_corrected\n",
    "WHERE job_title_subgroup = \"software engineer\"\n",
    "ORDER BY paid_wage_per_year-prevailing_wage_per_year ASC\n",
    "LIMIT 310\n",
    "##307"
   ]
  },
  {
   "cell_type": "code",
   "execution_count": 10,
   "id": "dcbb6d61",
   "metadata": {},
   "outputs": [
    {
     "data": {
      "text/plain": [
       "0.18352682361099487"
      ]
     },
     "execution_count": 10,
     "metadata": {},
     "output_type": "execute_result"
    }
   ],
   "source": [
    "(307/167278)*100"
   ]
  },
  {
   "cell_type": "code",
   "execution_count": null,
   "id": "006b8ea7",
   "metadata": {},
   "outputs": [],
   "source": [
    "SELECT COUNT(job_title_subgroup)\n",
    "FROM salary_data_states_corrected\n",
    "WHERE job_title_subgroup = 'software engineer'\n",
    "##99364"
   ]
  },
  {
   "cell_type": "code",
   "execution_count": 12,
   "id": "375964f3",
   "metadata": {},
   "outputs": [
    {
     "data": {
      "text/plain": [
       "0.30896501751137234"
      ]
     },
     "execution_count": 12,
     "metadata": {},
     "output_type": "execute_result"
    }
   ],
   "source": [
    "(307/99364)*100"
   ]
  },
  {
   "cell_type": "markdown",
   "id": "55458a4b",
   "metadata": {},
   "source": [
    "### Teacher"
   ]
  },
  {
   "cell_type": "code",
   "execution_count": null,
   "id": "cbcc1b67",
   "metadata": {},
   "outputs": [],
   "source": [
    "SELECT employer_name,work_state, job_title_subgroup, paid_wage_per_year, prevailing_wage_per_year, paid_wage_per_year-prevailing_wage_per_year AS Diff\n",
    "FROM salary_data_states_corrected\n",
    "WHERE job_title_subgroup = \"teacher\"\n",
    "ORDER BY paid_wage_per_year-prevailing_wage_per_year ASC\n",
    "LIMIT 105\n",
    "##101"
   ]
  },
  {
   "cell_type": "code",
   "execution_count": 11,
   "id": "021e4697",
   "metadata": {},
   "outputs": [
    {
     "data": {
      "text/plain": [
       "0.060378531546288215"
      ]
     },
     "execution_count": 11,
     "metadata": {},
     "output_type": "execute_result"
    }
   ],
   "source": [
    "(101/167278)*100"
   ]
  },
  {
   "cell_type": "code",
   "execution_count": null,
   "id": "b72dd2ee",
   "metadata": {},
   "outputs": [],
   "source": [
    "SELECT COUNT(job_title_subgroup)\n",
    "FROM salary_data_states_corrected\n",
    "WHERE job_title_subgroup = 'teacher'\n",
    "##13912"
   ]
  },
  {
   "cell_type": "code",
   "execution_count": 13,
   "id": "d10f2a60",
   "metadata": {},
   "outputs": [
    {
     "data": {
      "text/plain": [
       "0.7259919493962047"
      ]
     },
     "execution_count": 13,
     "metadata": {},
     "output_type": "execute_result"
    }
   ],
   "source": [
    "(101/13912)*100"
   ]
  },
  {
   "cell_type": "markdown",
   "id": "e1736157",
   "metadata": {},
   "source": [
    "## Interpretation"
   ]
  },
  {
   "cell_type": "markdown",
   "id": "358ee4b1",
   "metadata": {},
   "source": [
    "What does this all reveal?\n",
    "Well,there are 167,278 rows in the data set. \n",
    "\n",
    "\n",
    "\n",
    "\n"
   ]
  }
 ],
 "metadata": {
  "kernelspec": {
   "display_name": "Python 3 (ipykernel)",
   "language": "python",
   "name": "python3"
  },
  "language_info": {
   "codemirror_mode": {
    "name": "ipython",
    "version": 3
   },
   "file_extension": ".py",
   "mimetype": "text/x-python",
   "name": "python",
   "nbconvert_exporter": "python",
   "pygments_lexer": "ipython3",
   "version": "3.9.7"
  }
 },
 "nbformat": 4,
 "nbformat_minor": 5
}
