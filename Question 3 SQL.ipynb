{
 "cells": [
  {
   "cell_type": "markdown",
   "id": "038b5040",
   "metadata": {},
   "source": [
    "# III. How do offered salaries compare to the prevailing wage?\n",
    "\n",
    "## 3a: Are there job sub-categories that tend to get over-paid or under-paid?\n",
    "## 3b: Are there companies that tend to over-pay or under-pay?\n"
   ]
  },
  {
   "cell_type": "code",
   "execution_count": 21,
   "id": "4b797bf9",
   "metadata": {},
   "outputs": [
    {
     "data": {
      "text/plain": [
       "0.6306866413993472"
      ]
     },
     "execution_count": 21,
     "metadata": {},
     "output_type": "execute_result"
    }
   ],
   "source": [
    "#Percentage of Underpaying Jobs\n",
    "((7+547+77+10+4+2+307+101)/167278)*100"
   ]
  },
  {
   "cell_type": "code",
   "execution_count": 44,
   "id": "7f897880",
   "metadata": {},
   "outputs": [
    {
     "data": {
      "text/plain": [
       "72.86373581702316"
      ]
     },
     "execution_count": 44,
     "metadata": {},
     "output_type": "execute_result"
    }
   ],
   "source": [
    "#Percentage of Overpaying Jobs\n",
    "((1192+16343+20713+3089+1038+649+71103+7758)/167278)*100"
   ]
  },
  {
   "cell_type": "markdown",
   "id": "160eab6e",
   "metadata": {},
   "source": [
    "### Attorney"
   ]
  },
  {
   "cell_type": "markdown",
   "id": "513cf686",
   "metadata": {},
   "source": [
    "#### 3a"
   ]
  },
  {
   "cell_type": "code",
   "execution_count": null,
   "id": "28e8e43c",
   "metadata": {},
   "outputs": [],
   "source": [
    "#Underpay\n",
    "SELECT employer_name,work_state, job_title_subgroup, paid_wage_per_year, prevailing_wage_per_year, paid_wage_per_year-prevailing_wage_per_year AS Diff\n",
    "FROM salary_data_states_corrected\n",
    "WHERE job_title_subgroup = \"attorney\"\n",
    "ORDER BY paid_wage_per_year-prevailing_wage_per_year ASC\n",
    "LIMIT 10\n",
    "##7"
   ]
  },
  {
   "cell_type": "code",
   "execution_count": null,
   "id": "1226fda5",
   "metadata": {},
   "outputs": [],
   "source": [
    "SELECT COUNT(job_title_subgroup)\n",
    "FROM salary_data_states_corrected\n",
    "WHERE job_title_subgroup = 'attorney'\n",
    "##1488"
   ]
  },
  {
   "cell_type": "code",
   "execution_count": 19,
   "id": "ded27685",
   "metadata": {},
   "outputs": [
    {
     "data": {
      "text/plain": [
       "0.47043010752688175"
      ]
     },
     "execution_count": 19,
     "metadata": {},
     "output_type": "execute_result"
    }
   ],
   "source": [
    "(7/1488)*100"
   ]
  },
  {
   "cell_type": "code",
   "execution_count": null,
   "id": "b74d9e8f",
   "metadata": {},
   "outputs": [],
   "source": [
    "#Overpay\n",
    "SELECT COUNT(paid_wage_per_year-prevailing_wage_per_year)\n",
    "FROM salary_data_states_corrected\n",
    "WHERE job_title_subgroup = \"attorney\" AND paid_wage_per_year-prevailing_wage_per_year>0"
   ]
  },
  {
   "cell_type": "code",
   "execution_count": 36,
   "id": "c59bfa7e",
   "metadata": {},
   "outputs": [
    {
     "data": {
      "text/plain": [
       "80.10752688172043"
      ]
     },
     "execution_count": 36,
     "metadata": {},
     "output_type": "execute_result"
    }
   ],
   "source": [
    "(1192/1488)*100"
   ]
  },
  {
   "cell_type": "markdown",
   "id": "c1bd407f",
   "metadata": {},
   "source": [
    "#### 3b"
   ]
  },
  {
   "cell_type": "code",
   "execution_count": null,
   "id": "8d161ca0",
   "metadata": {},
   "outputs": [],
   "source": [
    "#Companies tending to overpay\n",
    "SELECT employer_name,work_state,paid_wage_per_year-prevailing_wage_per_year AS Diff,COUNT(paid_wage_per_year-prevailing_wage_per_year)\n",
    "FROM salary_data_states_corrected\n",
    "WHERE job_title_subgroup = \"attorney\" AND paid_wage_per_year-prevailing_wage_per_year>0\n",
    "GROUP BY employer_name\n",
    "ORDER BY COUNT(paid_wage_per_year-prevailing_wage_per_year) DESC\n",
    "LIMIT 5"
   ]
  },
  {
   "cell_type": "markdown",
   "id": "f4833d5f",
   "metadata": {},
   "source": [
    "![t_overpay](images/q3_at_overpay.png)"
   ]
  },
  {
   "cell_type": "code",
   "execution_count": null,
   "id": "8a756e4f",
   "metadata": {},
   "outputs": [],
   "source": [
    "#Companies tending to underpay\n",
    "SELECT employer_name,work_state,paid_wage_per_year-prevailing_wage_per_year AS Diff,COUNT(paid_wage_per_year-prevailing_wage_per_year)\n",
    "FROM salary_data_states_corrected\n",
    "WHERE job_title_subgroup = \"attorney\" AND paid_wage_per_year-prevailing_wage_per_year<0\n",
    "GROUP BY employer_name\n",
    "ORDER BY COUNT(paid_wage_per_year-prevailing_wage_per_year) DESC\n",
    "LIMIT 5"
   ]
  },
  {
   "cell_type": "markdown",
   "id": "5d4749f4",
   "metadata": {},
   "source": [
    "![t_overpay](images/q3_at_underpay.png)"
   ]
  },
  {
   "cell_type": "markdown",
   "id": "5d448727",
   "metadata": {},
   "source": [
    "### Assistant Professor"
   ]
  },
  {
   "cell_type": "markdown",
   "id": "109aab8f",
   "metadata": {},
   "source": [
    "#### 3a"
   ]
  },
  {
   "cell_type": "code",
   "execution_count": null,
   "id": "0636ecea",
   "metadata": {},
   "outputs": [],
   "source": [
    "#Underpay\n",
    "SELECT employer_name,work_state, job_title_subgroup, paid_wage_per_year, prevailing_wage_per_year, paid_wage_per_year-prevailing_wage_per_year AS Diff\n",
    "FROM salary_data_states_corrected\n",
    "WHERE job_title_subgroup = \"assistant professor\"\n",
    "ORDER BY paid_wage_per_year-prevailing_wage_per_year ASC\n",
    "LIMIT 560\n",
    "##547"
   ]
  },
  {
   "cell_type": "code",
   "execution_count": null,
   "id": "56606b28",
   "metadata": {},
   "outputs": [],
   "source": [
    "SELECT COUNT(job_title_subgroup)\n",
    "FROM salary_data_states_corrected\n",
    "WHERE job_title_subgroup = 'assistant professor'\n",
    "##18866"
   ]
  },
  {
   "cell_type": "code",
   "execution_count": 18,
   "id": "205b301d",
   "metadata": {},
   "outputs": [
    {
     "data": {
      "text/plain": [
       "2.8993957383653135"
      ]
     },
     "execution_count": 18,
     "metadata": {},
     "output_type": "execute_result"
    }
   ],
   "source": [
    "(547/18866)*100"
   ]
  },
  {
   "cell_type": "code",
   "execution_count": null,
   "id": "45e05b81",
   "metadata": {},
   "outputs": [],
   "source": [
    "#Overpay\n",
    "SELECT COUNT(paid_wage_per_year-prevailing_wage_per_year)\n",
    "FROM salary_data_states_corrected\n",
    "WHERE job_title_subgroup = \"assistant professor\" AND paid_wage_per_year-prevailing_wage_per_year>0"
   ]
  },
  {
   "cell_type": "code",
   "execution_count": 37,
   "id": "ae1f91a8",
   "metadata": {},
   "outputs": [
    {
     "data": {
      "text/plain": [
       "86.62673592706456"
      ]
     },
     "execution_count": 37,
     "metadata": {},
     "output_type": "execute_result"
    }
   ],
   "source": [
    "(16343/18866)*100"
   ]
  },
  {
   "cell_type": "markdown",
   "id": "53399e72",
   "metadata": {},
   "source": [
    "#### 3b"
   ]
  },
  {
   "cell_type": "code",
   "execution_count": null,
   "id": "01a5993a",
   "metadata": {},
   "outputs": [],
   "source": [
    "#Companies tending to overpay\n",
    "SELECT employer_name,work_state,paid_wage_per_year-prevailing_wage_per_year AS Diff,COUNT(paid_wage_per_year-prevailing_wage_per_year)\n",
    "FROM salary_data_states_corrected\n",
    "WHERE job_title_subgroup = \"assistant professor\" AND paid_wage_per_year-prevailing_wage_per_year>0\n",
    "GROUP BY employer_name\n",
    "ORDER BY COUNT(paid_wage_per_year-prevailing_wage_per_year) DESC\n",
    "LIMIT 5"
   ]
  },
  {
   "cell_type": "markdown",
   "id": "86831b88",
   "metadata": {},
   "source": [
    "![t_overpay](images/q3_ap_overpay.png)"
   ]
  },
  {
   "cell_type": "code",
   "execution_count": null,
   "id": "db72cd0d",
   "metadata": {},
   "outputs": [],
   "source": [
    "#Companies tending to underpay\n",
    "SELECT employer_name,work_state,paid_wage_per_year-prevailing_wage_per_year AS Diff,COUNT(paid_wage_per_year-prevailing_wage_per_year)\n",
    "FROM salary_data_states_corrected\n",
    "WHERE job_title_subgroup = \"assistant professor\" AND paid_wage_per_year-prevailing_wage_per_year<0\n",
    "GROUP BY employer_name\n",
    "ORDER BY COUNT(paid_wage_per_year-prevailing_wage_per_year) DESC\n",
    "LIMIT 5"
   ]
  },
  {
   "cell_type": "markdown",
   "id": "9fc091ad",
   "metadata": {},
   "source": [
    "![t_overpay](images/q3_ap_underpay.png)"
   ]
  },
  {
   "cell_type": "markdown",
   "id": "59dfd6a0",
   "metadata": {},
   "source": [
    "### Business Analyst"
   ]
  },
  {
   "cell_type": "markdown",
   "id": "93357e73",
   "metadata": {},
   "source": [
    "#### 3a"
   ]
  },
  {
   "cell_type": "code",
   "execution_count": null,
   "id": "12a10fb0",
   "metadata": {},
   "outputs": [],
   "source": [
    "#Underpay\n",
    "SELECT employer_name,work_state, job_title_subgroup, paid_wage_per_year, prevailing_wage_per_year, paid_wage_per_year-prevailing_wage_per_year AS Diff\n",
    "FROM salary_data_states_corrected\n",
    "WHERE job_title_subgroup = \"business analyst\"\n",
    "ORDER BY paid_wage_per_year-prevailing_wage_per_year ASC\n",
    "LIMIT 80\n",
    "##77"
   ]
  },
  {
   "cell_type": "code",
   "execution_count": null,
   "id": "e6dbe6d7",
   "metadata": {},
   "outputs": [],
   "source": [
    "SELECT COUNT(job_title_subgroup)\n",
    "FROM salary_data_states_corrected\n",
    "WHERE job_title_subgroup = 'business analyst'\n",
    "##27811"
   ]
  },
  {
   "cell_type": "code",
   "execution_count": 17,
   "id": "298a2b25",
   "metadata": {},
   "outputs": [
    {
     "data": {
      "text/plain": [
       "0.27686886483765416"
      ]
     },
     "execution_count": 17,
     "metadata": {},
     "output_type": "execute_result"
    }
   ],
   "source": [
    "(77/27811)*100"
   ]
  },
  {
   "cell_type": "code",
   "execution_count": null,
   "id": "9667800d",
   "metadata": {},
   "outputs": [],
   "source": [
    "#Overpay\n",
    "SELECT COUNT(paid_wage_per_year-prevailing_wage_per_year)\n",
    "FROM salary_data_states_corrected\n",
    "WHERE job_title_subgroup = \"business analyst\" AND paid_wage_per_year-prevailing_wage_per_year>0"
   ]
  },
  {
   "cell_type": "code",
   "execution_count": 38,
   "id": "bbe9fd7d",
   "metadata": {},
   "outputs": [
    {
     "data": {
      "text/plain": [
       "74.47772464132896"
      ]
     },
     "execution_count": 38,
     "metadata": {},
     "output_type": "execute_result"
    }
   ],
   "source": [
    "(20713/27811)*100"
   ]
  },
  {
   "cell_type": "markdown",
   "id": "4535c49c",
   "metadata": {},
   "source": [
    "#### 3b"
   ]
  },
  {
   "cell_type": "code",
   "execution_count": null,
   "id": "87150a3d",
   "metadata": {},
   "outputs": [],
   "source": [
    "#Companies tending to overpay\n",
    "SELECT employer_name,work_state,paid_wage_per_year-prevailing_wage_per_year AS Diff,COUNT(paid_wage_per_year-prevailing_wage_per_year)\n",
    "FROM salary_data_states_corrected\n",
    "WHERE job_title_subgroup = \"business analyst\" AND paid_wage_per_year-prevailing_wage_per_year>0\n",
    "GROUP BY employer_name\n",
    "ORDER BY COUNT(paid_wage_per_year-prevailing_wage_per_year) DESC\n",
    "LIMIT 5"
   ]
  },
  {
   "cell_type": "markdown",
   "id": "032c0267",
   "metadata": {},
   "source": [
    "![t_overpay](images/q3_ba_overpay.png)"
   ]
  },
  {
   "cell_type": "code",
   "execution_count": null,
   "id": "499d9a25",
   "metadata": {},
   "outputs": [],
   "source": [
    "#Companies tending to underpay\n",
    "SELECT employer_name,work_state,paid_wage_per_year-prevailing_wage_per_year AS Diff,COUNT(paid_wage_per_year-prevailing_wage_per_year)\n",
    "FROM salary_data_states_corrected\n",
    "WHERE job_title_subgroup = \"business analyst\" AND paid_wage_per_year-prevailing_wage_per_year<0\n",
    "GROUP BY employer_name\n",
    "ORDER BY COUNT(paid_wage_per_year-prevailing_wage_per_year) DESC\n",
    "LIMIT 5"
   ]
  },
  {
   "cell_type": "markdown",
   "id": "c04e8462",
   "metadata": {},
   "source": [
    "![t_overpay](images/q3_ba_underpay.png)"
   ]
  },
  {
   "cell_type": "markdown",
   "id": "08ea62c7",
   "metadata": {},
   "source": [
    "### Data Analyst"
   ]
  },
  {
   "cell_type": "markdown",
   "id": "c099297e",
   "metadata": {},
   "source": [
    "#### 3a"
   ]
  },
  {
   "cell_type": "code",
   "execution_count": null,
   "id": "8560ceb6",
   "metadata": {},
   "outputs": [],
   "source": [
    "#Underpay\n",
    "SELECT employer_name,work_state, job_title_subgroup, paid_wage_per_year, prevailing_wage_per_year, paid_wage_per_year-prevailing_wage_per_year AS Diff\n",
    "FROM salary_data_states_corrected\n",
    "WHERE job_title_subgroup = \"data analyst\"\n",
    "ORDER BY paid_wage_per_year-prevailing_wage_per_year ASC\n",
    "LIMIT 10\n",
    "##10"
   ]
  },
  {
   "cell_type": "code",
   "execution_count": null,
   "id": "aa55ea34",
   "metadata": {},
   "outputs": [],
   "source": [
    "SELECT COUNT(job_title_subgroup)\n",
    "FROM salary_data_states_corrected\n",
    "WHERE job_title_subgroup = 'data analyst'\n",
    "##3840"
   ]
  },
  {
   "cell_type": "code",
   "execution_count": 16,
   "id": "fb72f7a1",
   "metadata": {},
   "outputs": [
    {
     "data": {
      "text/plain": [
       "0.26041666666666663"
      ]
     },
     "execution_count": 16,
     "metadata": {},
     "output_type": "execute_result"
    }
   ],
   "source": [
    "(10/3840)*100"
   ]
  },
  {
   "cell_type": "code",
   "execution_count": null,
   "id": "755740cc",
   "metadata": {},
   "outputs": [],
   "source": [
    "#Overpay\n",
    "SELECT COUNT(paid_wage_per_year-prevailing_wage_per_year)\n",
    "FROM salary_data_states_corrected\n",
    "WHERE job_title_subgroup = \"data analyst\" AND paid_wage_per_year-prevailing_wage_per_year>0"
   ]
  },
  {
   "cell_type": "code",
   "execution_count": 39,
   "id": "9fdb051c",
   "metadata": {},
   "outputs": [
    {
     "data": {
      "text/plain": [
       "80.44270833333333"
      ]
     },
     "execution_count": 39,
     "metadata": {},
     "output_type": "execute_result"
    }
   ],
   "source": [
    "(3089/3840)*100"
   ]
  },
  {
   "cell_type": "markdown",
   "id": "a13a8d37",
   "metadata": {},
   "source": [
    "#### 3b"
   ]
  },
  {
   "cell_type": "code",
   "execution_count": null,
   "id": "ba4f8fd6",
   "metadata": {},
   "outputs": [],
   "source": [
    "#Companies tending to overpay\n",
    "SELECT employer_name,work_state,paid_wage_per_year-prevailing_wage_per_year AS Diff,COUNT(paid_wage_per_year-prevailing_wage_per_year)\n",
    "FROM salary_data_states_corrected\n",
    "WHERE job_title_subgroup = \"data analyst\" AND paid_wage_per_year-prevailing_wage_per_year>0\n",
    "GROUP BY employer_name\n",
    "ORDER BY COUNT(paid_wage_per_year-prevailing_wage_per_year) DESC\n",
    "LIMIT 5"
   ]
  },
  {
   "cell_type": "markdown",
   "id": "f8f85e43",
   "metadata": {},
   "source": [
    "![t_overpay](images/q3_da_overpay.png)"
   ]
  },
  {
   "cell_type": "code",
   "execution_count": null,
   "id": "de4670d3",
   "metadata": {},
   "outputs": [],
   "source": [
    "#Companies tending to underpay\n",
    "SELECT employer_name,work_state,paid_wage_per_year-prevailing_wage_per_year AS Diff,COUNT(paid_wage_per_year-prevailing_wage_per_year)\n",
    "FROM salary_data_states_corrected\n",
    "WHERE job_title_subgroup = \"data analyst\" AND paid_wage_per_year-prevailing_wage_per_year<0\n",
    "GROUP BY employer_name\n",
    "ORDER BY COUNT(paid_wage_per_year-prevailing_wage_per_year) DESC\n",
    "LIMIT 5"
   ]
  },
  {
   "cell_type": "markdown",
   "id": "beccf9e5",
   "metadata": {},
   "source": [
    "![t_overpay](images/q3_da_underpay.png)"
   ]
  },
  {
   "cell_type": "markdown",
   "id": "5d4ff3e9",
   "metadata": {},
   "source": [
    "### Data Scientist"
   ]
  },
  {
   "cell_type": "markdown",
   "id": "f1fd66c6",
   "metadata": {},
   "source": [
    "#### 3a"
   ]
  },
  {
   "cell_type": "code",
   "execution_count": null,
   "id": "3d5b7700",
   "metadata": {},
   "outputs": [],
   "source": [
    "#Underpay\n",
    "SELECT employer_name,work_state, job_title_subgroup, paid_wage_per_year, prevailing_wage_per_year, paid_wage_per_year-prevailing_wage_per_year AS Diff\n",
    "FROM salary_data_states_corrected\n",
    "WHERE job_title_subgroup = \"data scientist\"\n",
    "ORDER BY paid_wage_per_year-prevailing_wage_per_year ASC\n",
    "LIMIT 5\n",
    "##4"
   ]
  },
  {
   "cell_type": "code",
   "execution_count": null,
   "id": "c7fd72a2",
   "metadata": {},
   "outputs": [],
   "source": [
    "SELECT COUNT(job_title_subgroup)\n",
    "FROM salary_data_states_corrected\n",
    "WHERE job_title_subgroup = 'data scientist'\n",
    "##1227"
   ]
  },
  {
   "cell_type": "code",
   "execution_count": 15,
   "id": "4ac64528",
   "metadata": {},
   "outputs": [
    {
     "data": {
      "text/plain": [
       "0.32599837000814996"
      ]
     },
     "execution_count": 15,
     "metadata": {},
     "output_type": "execute_result"
    }
   ],
   "source": [
    "(4/1227)*100"
   ]
  },
  {
   "cell_type": "code",
   "execution_count": null,
   "id": "aaf70334",
   "metadata": {},
   "outputs": [],
   "source": [
    "#Overpay\n",
    "SELECT COUNT(paid_wage_per_year-prevailing_wage_per_year)\n",
    "FROM salary_data_states_corrected\n",
    "WHERE job_title_subgroup = \"data scientist\" AND paid_wage_per_year-prevailing_wage_per_year>0"
   ]
  },
  {
   "cell_type": "code",
   "execution_count": 40,
   "id": "02233482",
   "metadata": {},
   "outputs": [
    {
     "data": {
      "text/plain": [
       "84.59657701711491"
      ]
     },
     "execution_count": 40,
     "metadata": {},
     "output_type": "execute_result"
    }
   ],
   "source": [
    "(1038/1227)*100"
   ]
  },
  {
   "cell_type": "markdown",
   "id": "c6345757",
   "metadata": {},
   "source": [
    "#### 3b"
   ]
  },
  {
   "cell_type": "code",
   "execution_count": null,
   "id": "0bdae4fe",
   "metadata": {},
   "outputs": [],
   "source": [
    "#Companies tending to overpay\n",
    "SELECT employer_name,work_state,paid_wage_per_year-prevailing_wage_per_year AS Diff,COUNT(paid_wage_per_year-prevailing_wage_per_year)\n",
    "FROM salary_data_states_corrected\n",
    "WHERE job_title_subgroup = \"data scientist\" AND paid_wage_per_year-prevailing_wage_per_year>0\n",
    "GROUP BY employer_name\n",
    "ORDER BY COUNT(paid_wage_per_year-prevailing_wage_per_year) DESC\n",
    "LIMIT 5"
   ]
  },
  {
   "cell_type": "markdown",
   "id": "31182b11",
   "metadata": {},
   "source": [
    "![t_overpay](images/q3_ds_overpay.png)"
   ]
  },
  {
   "cell_type": "code",
   "execution_count": 27,
   "id": "df574c81",
   "metadata": {},
   "outputs": [],
   "source": [
    "#Companies tending to underpay\n",
    "SELECT employer_name,work_state,paid_wage_per_year-prevailing_wage_per_year AS Diff,COUNT(paid_wage_per_year-prevailing_wage_per_year)\n",
    "FROM salary_data_states_corrected\n",
    "WHERE job_title_subgroup = \"data scientist\" AND paid_wage_per_year-prevailing_wage_per_year<0\n",
    "GROUP BY employer_name\n",
    "ORDER BY COUNT(paid_wage_per_year-prevailing_wage_per_year) DESC\n",
    "LIMIT 5"
   ]
  },
  {
   "cell_type": "markdown",
   "id": "baf410a4",
   "metadata": {},
   "source": [
    "![t_overpay](images/q3_ds_underpay.png)"
   ]
  },
  {
   "cell_type": "markdown",
   "id": "96f2f8e1",
   "metadata": {},
   "source": [
    "### Management Consultant"
   ]
  },
  {
   "cell_type": "markdown",
   "id": "2231b6b4",
   "metadata": {},
   "source": [
    "#### 3a"
   ]
  },
  {
   "cell_type": "code",
   "execution_count": null,
   "id": "37f6d2de",
   "metadata": {},
   "outputs": [],
   "source": [
    "#Underpay\n",
    "SELECT employer_name,work_state, job_title_subgroup, paid_wage_per_year, prevailing_wage_per_year, paid_wage_per_year-prevailing_wage_per_year AS Diff\n",
    "FROM salary_data_states_corrected\n",
    "WHERE job_title_subgroup = \"management consultant\"\n",
    "ORDER BY paid_wage_per_year-prevailing_wage_per_year ASC\n",
    "LIMIT 5\n",
    "##2"
   ]
  },
  {
   "cell_type": "code",
   "execution_count": null,
   "id": "771c6ad6",
   "metadata": {},
   "outputs": [],
   "source": [
    "SELECT COUNT(job_title_subgroup)\n",
    "FROM salary_data_states_corrected\n",
    "WHERE job_title_subgroup = 'management consultant'\n",
    "##770"
   ]
  },
  {
   "cell_type": "code",
   "execution_count": 14,
   "id": "a0f2872e",
   "metadata": {},
   "outputs": [
    {
     "data": {
      "text/plain": [
       "0.2597402597402597"
      ]
     },
     "execution_count": 14,
     "metadata": {},
     "output_type": "execute_result"
    }
   ],
   "source": [
    "(2/770)*100"
   ]
  },
  {
   "cell_type": "code",
   "execution_count": null,
   "id": "cd921b65",
   "metadata": {},
   "outputs": [],
   "source": [
    "#Overpay\n",
    "SELECT COUNT(paid_wage_per_year-prevailing_wage_per_year)\n",
    "FROM salary_data_states_corrected\n",
    "WHERE job_title_subgroup = \"management consultant\" AND paid_wage_per_year-prevailing_wage_per_year>0"
   ]
  },
  {
   "cell_type": "code",
   "execution_count": 41,
   "id": "39813bfa",
   "metadata": {},
   "outputs": [
    {
     "data": {
      "text/plain": [
       "84.28571428571429"
      ]
     },
     "execution_count": 41,
     "metadata": {},
     "output_type": "execute_result"
    }
   ],
   "source": [
    "(649/770)*100"
   ]
  },
  {
   "cell_type": "markdown",
   "id": "e98cf894",
   "metadata": {},
   "source": [
    "#### 3b"
   ]
  },
  {
   "cell_type": "code",
   "execution_count": 28,
   "id": "1500d5c2",
   "metadata": {},
   "outputs": [
    {
     "ename": "SyntaxError",
     "evalue": "invalid syntax (23924318.py, line 2)",
     "output_type": "error",
     "traceback": [
      "\u001b[0;36m  File \u001b[0;32m\"/var/folders/3q/trr9t1d56vz2mp16z5bqm9480000gn/T/ipykernel_28632/23924318.py\"\u001b[0;36m, line \u001b[0;32m2\u001b[0m\n\u001b[0;31m    SELECT employer_name,work_state,paid_wage_per_year-prevailing_wage_per_year AS Diff,COUNT(paid_wage_per_year-prevailing_wage_per_year)\u001b[0m\n\u001b[0m           ^\u001b[0m\n\u001b[0;31mSyntaxError\u001b[0m\u001b[0;31m:\u001b[0m invalid syntax\n"
     ]
    }
   ],
   "source": [
    "#Companies tending to overpay\n",
    "SELECT employer_name,work_state,paid_wage_per_year-prevailing_wage_per_year AS Diff,COUNT(paid_wage_per_year-prevailing_wage_per_year)\n",
    "FROM salary_data_states_corrected\n",
    "WHERE job_title_subgroup = \"management consultant\" AND paid_wage_per_year-prevailing_wage_per_year>0\n",
    "GROUP BY employer_name\n",
    "ORDER BY COUNT(paid_wage_per_year-prevailing_wage_per_year) DESC\n",
    "LIMIT 5"
   ]
  },
  {
   "cell_type": "markdown",
   "id": "5501a79e",
   "metadata": {},
   "source": [
    "![t_overpay](images/q3_m_overpay.png)"
   ]
  },
  {
   "cell_type": "code",
   "execution_count": null,
   "id": "a1d8581a",
   "metadata": {},
   "outputs": [],
   "source": [
    "#Companies tending to underpay\n",
    "SELECT employer_name,work_state,paid_wage_per_year-prevailing_wage_per_year AS Diff,COUNT(paid_wage_per_year-prevailing_wage_per_year)\n",
    "FROM salary_data_states_corrected\n",
    "WHERE job_title_subgroup = \"management consultant\" AND paid_wage_per_year-prevailing_wage_per_year<0\n",
    "GROUP BY employer_name\n",
    "ORDER BY COUNT(paid_wage_per_year-prevailing_wage_per_year) DESC\n",
    "LIMIT 5"
   ]
  },
  {
   "cell_type": "markdown",
   "id": "32ad5e0e",
   "metadata": {},
   "source": [
    "![t_overpay](images/q3_m_underpay.png)"
   ]
  },
  {
   "cell_type": "markdown",
   "id": "494702f6",
   "metadata": {},
   "source": [
    "### Software Engineer"
   ]
  },
  {
   "cell_type": "markdown",
   "id": "84b01aa7",
   "metadata": {},
   "source": [
    "#### 3a"
   ]
  },
  {
   "cell_type": "code",
   "execution_count": null,
   "id": "e4abdc10",
   "metadata": {},
   "outputs": [],
   "source": [
    "#Underpay\n",
    "SELECT employer_name,work_state, job_title_subgroup, paid_wage_per_year, prevailing_wage_per_year, paid_wage_per_year-prevailing_wage_per_year AS Diff\n",
    "FROM salary_data_states_corrected\n",
    "WHERE job_title_subgroup = \"software engineer\"\n",
    "ORDER BY paid_wage_per_year-prevailing_wage_per_year ASC\n",
    "LIMIT 310\n",
    "##307"
   ]
  },
  {
   "cell_type": "code",
   "execution_count": null,
   "id": "d165ce3d",
   "metadata": {},
   "outputs": [],
   "source": [
    "SELECT COUNT(job_title_subgroup)\n",
    "FROM salary_data_states_corrected\n",
    "WHERE job_title_subgroup = 'software engineer'\n",
    "##99364"
   ]
  },
  {
   "cell_type": "code",
   "execution_count": 12,
   "id": "5a2fc3c0",
   "metadata": {},
   "outputs": [
    {
     "data": {
      "text/plain": [
       "0.30896501751137234"
      ]
     },
     "execution_count": 12,
     "metadata": {},
     "output_type": "execute_result"
    }
   ],
   "source": [
    "(307/99364)*100"
   ]
  },
  {
   "cell_type": "code",
   "execution_count": 29,
   "id": "9a45c191",
   "metadata": {},
   "outputs": [
    {
     "data": {
      "text/plain": [
       "99.69103498248863"
      ]
     },
     "execution_count": 29,
     "metadata": {},
     "output_type": "execute_result"
    }
   ],
   "source": [
    "#Overpay\n",
    "SELECT COUNT(paid_wage_per_year-prevailing_wage_per_year)\n",
    "FROM salary_data_states_corrected\n",
    "WHERE job_title_subgroup = \"software engineer\" AND paid_wage_per_year-prevailing_wage_per_year>0"
   ]
  },
  {
   "cell_type": "code",
   "execution_count": 42,
   "id": "f54b6533",
   "metadata": {},
   "outputs": [
    {
     "data": {
      "text/plain": [
       "71.55810957690915"
      ]
     },
     "execution_count": 42,
     "metadata": {},
     "output_type": "execute_result"
    }
   ],
   "source": [
    "(71103/99364)*100"
   ]
  },
  {
   "cell_type": "markdown",
   "id": "034587fe",
   "metadata": {},
   "source": [
    "#### 3b"
   ]
  },
  {
   "cell_type": "code",
   "execution_count": null,
   "id": "512bd06f",
   "metadata": {},
   "outputs": [],
   "source": [
    "#Companies tending to overpay\n",
    "SELECT employer_name,work_state,paid_wage_per_year-prevailing_wage_per_year AS Diff,COUNT(paid_wage_per_year-prevailing_wage_per_year)\n",
    "FROM salary_data_states_corrected\n",
    "WHERE job_title_subgroup = \"software engineer\" AND paid_wage_per_year-prevailing_wage_per_year>0\n",
    "GROUP BY employer_name\n",
    "ORDER BY COUNT(paid_wage_per_year-prevailing_wage_per_year) DESC\n",
    "LIMIT 5"
   ]
  },
  {
   "cell_type": "markdown",
   "id": "67cb933d",
   "metadata": {},
   "source": [
    "![t_overpay](images/q3_s_overpay.png)"
   ]
  },
  {
   "cell_type": "code",
   "execution_count": null,
   "id": "967d97a8",
   "metadata": {},
   "outputs": [],
   "source": [
    "#Companies tending to underpay\n",
    "SELECT employer_name,work_state,paid_wage_per_year-prevailing_wage_per_year AS Diff,COUNT(paid_wage_per_year-prevailing_wage_per_year)\n",
    "FROM salary_data_states_corrected\n",
    "WHERE job_title_subgroup = \"software engineer\" AND paid_wage_per_year-prevailing_wage_per_year<0\n",
    "GROUP BY employer_name\n",
    "ORDER BY COUNT(paid_wage_per_year-prevailing_wage_per_year) DESC\n",
    "LIMIT 5"
   ]
  },
  {
   "cell_type": "markdown",
   "id": "5fa0f425",
   "metadata": {},
   "source": [
    "![t_overpay](images/q3_s_underpay.png)"
   ]
  },
  {
   "cell_type": "markdown",
   "id": "13bc9515",
   "metadata": {},
   "source": [
    "### Teacher"
   ]
  },
  {
   "cell_type": "markdown",
   "id": "58f2ce4a",
   "metadata": {},
   "source": [
    "#### 3a"
   ]
  },
  {
   "cell_type": "code",
   "execution_count": null,
   "id": "66fcbbe7",
   "metadata": {},
   "outputs": [],
   "source": [
    "#Underpay\n",
    "SELECT employer_name,work_state, job_title_subgroup, paid_wage_per_year, prevailing_wage_per_year, paid_wage_per_year-prevailing_wage_per_year AS Diff\n",
    "FROM salary_data_states_corrected\n",
    "WHERE job_title_subgroup = \"teacher\"\n",
    "ORDER BY paid_wage_per_year-prevailing_wage_per_year ASC\n",
    "LIMIT 105\n",
    "##101"
   ]
  },
  {
   "cell_type": "code",
   "execution_count": null,
   "id": "056b83cb",
   "metadata": {},
   "outputs": [],
   "source": [
    "SELECT COUNT(job_title_subgroup)\n",
    "FROM salary_data_states_corrected\n",
    "WHERE job_title_subgroup = 'teacher'\n",
    "##13912"
   ]
  },
  {
   "cell_type": "code",
   "execution_count": 13,
   "id": "612fc84e",
   "metadata": {},
   "outputs": [
    {
     "data": {
      "text/plain": [
       "0.7259919493962047"
      ]
     },
     "execution_count": 13,
     "metadata": {},
     "output_type": "execute_result"
    }
   ],
   "source": [
    "(101/13912)*100"
   ]
  },
  {
   "cell_type": "code",
   "execution_count": null,
   "id": "cd102b7c",
   "metadata": {},
   "outputs": [],
   "source": [
    "#Overpay\n",
    "SELECT COUNT(paid_wage_per_year-prevailing_wage_per_year)\n",
    "FROM salary_data_states_corrected\n",
    "WHERE job_title_subgroup = \"teacher\" AND paid_wage_per_year-prevailing_wage_per_year>0"
   ]
  },
  {
   "cell_type": "code",
   "execution_count": 43,
   "id": "eeed6f07",
   "metadata": {},
   "outputs": [
    {
     "data": {
      "text/plain": [
       "55.76480736055204"
      ]
     },
     "execution_count": 43,
     "metadata": {},
     "output_type": "execute_result"
    }
   ],
   "source": [
    "(7758/13912)*100"
   ]
  },
  {
   "cell_type": "markdown",
   "id": "e534c6f4",
   "metadata": {},
   "source": [
    "#### 3b"
   ]
  },
  {
   "cell_type": "code",
   "execution_count": null,
   "id": "09d933df",
   "metadata": {},
   "outputs": [],
   "source": [
    "#Companies tending to overpay\n",
    "SELECT employer_name,work_state,paid_wage_per_year-prevailing_wage_per_year AS Diff,COUNT(paid_wage_per_year-prevailing_wage_per_year)\n",
    "FROM salary_data_states_corrected\n",
    "WHERE job_title_subgroup = \"teacher\" AND paid_wage_per_year-prevailing_wage_per_year>0\n",
    "GROUP BY employer_name\n",
    "ORDER BY COUNT(paid_wage_per_year-prevailing_wage_per_year) DESC\n",
    "LIMIT 5"
   ]
  },
  {
   "cell_type": "markdown",
   "id": "d04493f4",
   "metadata": {},
   "source": [
    "![t_overpay](images/q3_t_overpay.png)"
   ]
  },
  {
   "cell_type": "code",
   "execution_count": null,
   "id": "0812410e",
   "metadata": {},
   "outputs": [],
   "source": [
    "#Companies tending to underpay\n",
    "SELECT employer_name,work_state,paid_wage_per_year-prevailing_wage_per_year AS Diff,COUNT(paid_wage_per_year-prevailing_wage_per_year)\n",
    "FROM salary_data_states_corrected\n",
    "WHERE job_title_subgroup = \"teacher\" AND paid_wage_per_year-prevailing_wage_per_year<0\n",
    "GROUP BY employer_name\n",
    "ORDER BY COUNT(paid_wage_per_year-prevailing_wage_per_year) DESC\n",
    "LIMIT 5"
   ]
  },
  {
   "cell_type": "markdown",
   "id": "b51392e3",
   "metadata": {},
   "source": [
    "![t_underpay](images/q3_t_underpay.png)"
   ]
  },
  {
   "cell_type": "markdown",
   "id": "26b7934e",
   "metadata": {},
   "source": [
    "## Interpretation"
   ]
  },
  {
   "cell_type": "markdown",
   "id": "0ec998fc",
   "metadata": {},
   "source": [
    "### What does this all reveal?\n",
    "\n",
    "#### 3a: Are there job sub-categories that tend to get over-paid or under-paid?\n",
    "Well overall, 0.63% of all jobs underpay their workers while 72.86% overpay their workers. (The difference between paid wage per year and prevailing wage per year being negative indicates underpaying, while it being positive AND above zero indicates overpaying workers).\n",
    "\n",
    "Within the assistant professor job subgroup, 2.90% of jobs underpay their workers, and 86.63% of jobs overpay.\n",
    "\n",
    "Within the teacher job subgroup, 0.73% of jobs underpay their workers, and 55.76% of jobs overpay. \n",
    "\n",
    "Within the attorney job subgroup, 0.47% of jobs underpay their workers, and 80.11% of jobs overpay.\n",
    "\n",
    "Within the data scientist job subgroup, 0.33% of jobs underpay their workers, and 84.60% of jobs overpay.\n",
    "\n",
    "Within the software engineer job subgroup, 0.31% of jobs underpay their workers, and 71.56% of jobs overpay.\n",
    "\n",
    "Within the business analyst job subgroup, 0.28 % of jobs underpay their workers, and 74.48% of jobs overpay.\n",
    "\n",
    "Within the data analyst job subgroup, 0.26% of jobs underpay their workers, and 80.44% of jobs overpay.\n",
    "\n",
    "Within the management consultant job subgroup, 0.26% of jobs underpay their workers, and 84.29% of jobs overpay.\n",
    "    \n",
    "#### 3b: Are there companies that tend to over-pay or under-pay?\n",
    "The top 5 companies that overpay assistant professors are the Univeristy of Illinois, Purdue Univeristy, the University of Arizona, Pennsylvania State University, and the Univeristy of Michigan.\n",
    "The top 5 companies that underpay assistant professors are the Univeristy of Tennessee Health Science Center, the University of Alabama, the Univeristy of Virginia Health Services Foundation, and Purdue University.\n",
    "\n",
    "The top 5 companies that overpay attorneys are Skadden, Arps, Slate, Meagher & Flom LLP, Simpson Thacher & Bartlett LLP, Shearman & Sterling LLP, White & Case LLP, and Sidely Austin (US) LLP.\n",
    "The top 5 companies that underpay attorneys are DRC Emergency Services, LLC, McCormack & Mattei, P.C., Intelisip Networks, LLC. Sidley Austin (US) LLC, and Georgia Law Center on Homelessness and Poverty.\n",
    "\n",
    "The top 5 companies that overpay business analysts are Deloitte Consulting LLP, Accenture LLP, SCM Data, Inc., Igate Technollogies Inc., and Hitachi Consulting Corporation.\n",
    "The top 5 companies that underpay business analysts are Akvarr Inc., Itech Us, Inc., Ana-Data Consulting Inc., Radus Tek Services, Inc., and Vigiboss, Inc..\n",
    "\n",
    "The top 5 companies that overpay data analysts are Capital One Services, LLC, Ulab Inc., Bell Info Solutions, LLC., Comscore, zinc., and Hanusoft Inc..\n",
    "The top 5 companies that underpay data analysts are Zoosk, Inc., Capgemini U.S. LLC, Inovalon, Inc., Square, Inc., and Genesis Research LLC.\n",
    "\n",
    "The top 5 companies that overpay data scientists are Micorsoft Corporation, Facebook, Inc., Linkedin Corporation, Twitter, Inc., and Groupon, Inc..\n",
    "The top 5 companies that underpay data scientists are Hi-Tech Solutions, Inc., Groupon, Inc., EMC Corporation, and the Advanced Information Management Technology Partner.\n",
    "\n",
    "The top 5 companies that overpay management consultants are McKinsey & Company, Inc. United States, IBM India Private Limited, IBM Corporation, Dell USA L.P., and Gopa IT Consultants Inc..\n",
    "The top 5 companies that underpay management consultants are Joe S. Fish Market Inc. and Global Security Solution USA Inc..\n",
    "\n",
    "The top 5 companies that overpay software engineers are Google Inc., Micorsoft Corporation, Facebook, Inc., Cerner Corporation, and VMWare, Inc.\n",
    "The top 5 companies that underpay software engineers are Sudhi Informatics Inc., IBM India Private Limited, IBM Corporation, Google Inc., and the Software Paradigms International Group, LLC.\n",
    "\n",
    "The top 5 companies that overpay teachers are Dallas Independent School District, Houston Independent School District, Global Teachers Research & Resources, Inc., Fort Worth Independent School District, and the Garland Independent School District.\n",
    "The top 5 companies that underpay teachers are Global Teachers Research & Resources, Inc., Teaching House Inc., Progreso Independent School District, Kodomono Kuni, and the Forest Hill Public Schools. "
   ]
  },
  {
   "cell_type": "code",
   "execution_count": null,
   "id": "4215bba4",
   "metadata": {},
   "outputs": [],
   "source": []
  }
 ],
 "metadata": {
  "kernelspec": {
   "display_name": "Python 3 (ipykernel)",
   "language": "python",
   "name": "python3"
  },
  "language_info": {
   "codemirror_mode": {
    "name": "ipython",
    "version": 3
   },
   "file_extension": ".py",
   "mimetype": "text/x-python",
   "name": "python",
   "nbconvert_exporter": "python",
   "pygments_lexer": "ipython3",
   "version": "3.9.7"
  }
 },
 "nbformat": 4,
 "nbformat_minor": 5
}
