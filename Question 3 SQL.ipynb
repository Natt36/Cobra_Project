{
 "cells": [
  {
   "cell_type": "markdown",
   "id": "7f33054d",
   "metadata": {},
   "source": [
    "# III. How do offered salaries compare to the prevailing wage?\n",
    "\n",
    "## Are there job sub-categories that tend to get over-paid or under-paid?\n",
    "## Are there companies that tend to over-pay or under-pay?\n"
   ]
  },
  {
   "cell_type": "markdown",
   "id": "e101c11b",
   "metadata": {},
   "source": [
    "### Attorney"
   ]
  },
  {
   "cell_type": "code",
   "execution_count": null,
   "id": "4279a4ef",
   "metadata": {},
   "outputs": [],
   "source": [
    "SELECT employer_name,work_state, job_title_subgroup, paid_wage_per_year, prevailing_wage_per_year, paid_wage_per_year-prevailing_wage_per_year AS Diff\n",
    "FROM salary_data_states_corrected\n",
    "WHERE job_title_subgroup = \"attorney\"\n",
    "ORDER BY paid_wage_per_year-prevailing_wage_per_year ASC\n",
    "LIMIT 10\n",
    "##7"
   ]
  },
  {
   "cell_type": "code",
   "execution_count": 3,
   "id": "3226bbe1",
   "metadata": {},
   "outputs": [
    {
     "data": {
      "text/plain": [
       "0.004184650701227896"
      ]
     },
     "execution_count": 3,
     "metadata": {},
     "output_type": "execute_result"
    }
   ],
   "source": [
    "(7/167278)*100"
   ]
  },
  {
   "cell_type": "code",
   "execution_count": null,
   "id": "a0f71c18",
   "metadata": {},
   "outputs": [],
   "source": [
    "SELECT COUNT(job_title_subgroup)\n",
    "FROM salary_data_states_corrected\n",
    "WHERE job_title_subgroup = 'attorney'\n",
    "##1488"
   ]
  },
  {
   "cell_type": "markdown",
   "id": "f762d85c",
   "metadata": {},
   "source": [
    "### Assistant Professor"
   ]
  },
  {
   "cell_type": "code",
   "execution_count": null,
   "id": "4939493a",
   "metadata": {},
   "outputs": [],
   "source": [
    "SELECT employer_name,work_state, job_title_subgroup, paid_wage_per_year, prevailing_wage_per_year, paid_wage_per_year-prevailing_wage_per_year AS Diff\n",
    "FROM salary_data_states_corrected\n",
    "WHERE job_title_subgroup = \"assistant professor\"\n",
    "ORDER BY paid_wage_per_year-prevailing_wage_per_year ASC\n",
    "LIMIT 560\n",
    "##547"
   ]
  },
  {
   "cell_type": "code",
   "execution_count": 4,
   "id": "811e5778",
   "metadata": {},
   "outputs": [
    {
     "data": {
      "text/plain": [
       "0.32700056193880844"
      ]
     },
     "execution_count": 4,
     "metadata": {},
     "output_type": "execute_result"
    }
   ],
   "source": [
    "(547/167278)*100"
   ]
  },
  {
   "cell_type": "code",
   "execution_count": null,
   "id": "4f09b354",
   "metadata": {},
   "outputs": [],
   "source": [
    "SELECT COUNT(job_title_subgroup)\n",
    "FROM salary_data_states_corrected\n",
    "WHERE job_title_subgroup = 'assistant professor'\n",
    "##18866"
   ]
  },
  {
   "cell_type": "markdown",
   "id": "3c11c99f",
   "metadata": {},
   "source": [
    "### Business Analyst"
   ]
  },
  {
   "cell_type": "code",
   "execution_count": null,
   "id": "e4c0ef63",
   "metadata": {},
   "outputs": [],
   "source": [
    "SELECT employer_name,work_state, job_title_subgroup, paid_wage_per_year, prevailing_wage_per_year, paid_wage_per_year-prevailing_wage_per_year AS Diff\n",
    "FROM salary_data_states_corrected\n",
    "WHERE job_title_subgroup = \"business analyst\"\n",
    "ORDER BY paid_wage_per_year-prevailing_wage_per_year ASC\n",
    "LIMIT 80\n",
    "##77"
   ]
  },
  {
   "cell_type": "code",
   "execution_count": 5,
   "id": "717ea144",
   "metadata": {},
   "outputs": [
    {
     "data": {
      "text/plain": [
       "0.046031157713506854"
      ]
     },
     "execution_count": 5,
     "metadata": {},
     "output_type": "execute_result"
    }
   ],
   "source": [
    "(77/167278)*100"
   ]
  },
  {
   "cell_type": "code",
   "execution_count": null,
   "id": "4ec1ea5a",
   "metadata": {},
   "outputs": [],
   "source": [
    "SELECT COUNT(job_title_subgroup)\n",
    "FROM salary_data_states_corrected\n",
    "WHERE job_title_subgroup = 'business analyst'\n",
    "##27811"
   ]
  },
  {
   "cell_type": "markdown",
   "id": "9eabb068",
   "metadata": {},
   "source": [
    "### Data Analyst"
   ]
  },
  {
   "cell_type": "code",
   "execution_count": null,
   "id": "8a827d4f",
   "metadata": {},
   "outputs": [],
   "source": [
    "SELECT employer_name,work_state, job_title_subgroup, paid_wage_per_year, prevailing_wage_per_year, paid_wage_per_year-prevailing_wage_per_year AS Diff\n",
    "FROM salary_data_states_corrected\n",
    "WHERE job_title_subgroup = \"data analyst\"\n",
    "ORDER BY paid_wage_per_year-prevailing_wage_per_year ASC\n",
    "LIMIT 10\n",
    "##10"
   ]
  },
  {
   "cell_type": "code",
   "execution_count": 6,
   "id": "f501ea62",
   "metadata": {},
   "outputs": [
    {
     "data": {
      "text/plain": [
       "0.005978072430325566"
      ]
     },
     "execution_count": 6,
     "metadata": {},
     "output_type": "execute_result"
    }
   ],
   "source": [
    "(10/167278)*100"
   ]
  },
  {
   "cell_type": "code",
   "execution_count": null,
   "id": "c72e5d78",
   "metadata": {},
   "outputs": [],
   "source": [
    "SELECT COUNT(job_title_subgroup)\n",
    "FROM salary_data_states_corrected\n",
    "WHERE job_title_subgroup = 'data analyst'\n",
    "##3840"
   ]
  },
  {
   "cell_type": "markdown",
   "id": "4d6ad6c2",
   "metadata": {},
   "source": [
    "### Data Scientist"
   ]
  },
  {
   "cell_type": "code",
   "execution_count": null,
   "id": "20230adc",
   "metadata": {},
   "outputs": [],
   "source": [
    "SELECT employer_name,work_state, job_title_subgroup, paid_wage_per_year, prevailing_wage_per_year, paid_wage_per_year-prevailing_wage_per_year AS Diff\n",
    "FROM salary_data_states_corrected\n",
    "WHERE job_title_subgroup = \"data scientist\"\n",
    "ORDER BY paid_wage_per_year-prevailing_wage_per_year ASC\n",
    "LIMIT 5\n",
    "##4"
   ]
  },
  {
   "cell_type": "code",
   "execution_count": 8,
   "id": "48e856ac",
   "metadata": {},
   "outputs": [
    {
     "data": {
      "text/plain": [
       "0.0023912289721302266"
      ]
     },
     "execution_count": 8,
     "metadata": {},
     "output_type": "execute_result"
    }
   ],
   "source": [
    "(4/167278)*100"
   ]
  },
  {
   "cell_type": "code",
   "execution_count": null,
   "id": "6c707c6b",
   "metadata": {},
   "outputs": [],
   "source": [
    "SELECT COUNT(job_title_subgroup)\n",
    "FROM salary_data_states_corrected\n",
    "WHERE job_title_subgroup = 'data scientist'\n",
    "##1227"
   ]
  },
  {
   "cell_type": "markdown",
   "id": "c0254702",
   "metadata": {},
   "source": [
    "### Management Consultant"
   ]
  },
  {
   "cell_type": "code",
   "execution_count": null,
   "id": "87a85df1",
   "metadata": {},
   "outputs": [],
   "source": [
    "SELECT employer_name,work_state, job_title_subgroup, paid_wage_per_year, prevailing_wage_per_year, paid_wage_per_year-prevailing_wage_per_year AS Diff\n",
    "FROM salary_data_states_corrected\n",
    "WHERE job_title_subgroup = \"management consultant\"\n",
    "ORDER BY paid_wage_per_year-prevailing_wage_per_year ASC\n",
    "LIMIT 5\n",
    "##2"
   ]
  },
  {
   "cell_type": "code",
   "execution_count": 9,
   "id": "2f5921f0",
   "metadata": {},
   "outputs": [
    {
     "data": {
      "text/plain": [
       "0.0011956144860651133"
      ]
     },
     "execution_count": 9,
     "metadata": {},
     "output_type": "execute_result"
    }
   ],
   "source": [
    "(2/167278)*100"
   ]
  },
  {
   "cell_type": "code",
   "execution_count": null,
   "id": "ff035d0b",
   "metadata": {},
   "outputs": [],
   "source": [
    "SELECT COUNT(job_title_subgroup)\n",
    "FROM salary_data_states_corrected\n",
    "WHERE job_title_subgroup = 'management consultant'\n",
    "##770"
   ]
  },
  {
   "cell_type": "markdown",
   "id": "c86b0236",
   "metadata": {},
   "source": [
    "### Software Engineer"
   ]
  },
  {
   "cell_type": "code",
   "execution_count": null,
   "id": "736842ae",
   "metadata": {},
   "outputs": [],
   "source": [
    "SELECT employer_name,work_state, job_title_subgroup, paid_wage_per_year, prevailing_wage_per_year, paid_wage_per_year-prevailing_wage_per_year AS Diff\n",
    "FROM salary_data_states_corrected\n",
    "WHERE job_title_subgroup = \"software engineer\"\n",
    "ORDER BY paid_wage_per_year-prevailing_wage_per_year ASC\n",
    "LIMIT 310\n",
    "##307"
   ]
  },
  {
   "cell_type": "code",
   "execution_count": 10,
   "id": "99c800d1",
   "metadata": {},
   "outputs": [
    {
     "data": {
      "text/plain": [
       "0.18352682361099487"
      ]
     },
     "execution_count": 10,
     "metadata": {},
     "output_type": "execute_result"
    }
   ],
   "source": [
    "(307/167278)*100"
   ]
  },
  {
   "cell_type": "code",
   "execution_count": null,
   "id": "9b12248b",
   "metadata": {},
   "outputs": [],
   "source": [
    "SELECT COUNT(job_title_subgroup)\n",
    "FROM salary_data_states_corrected\n",
    "WHERE job_title_subgroup = 'software engineer'\n",
    "##99364"
   ]
  },
  {
   "cell_type": "markdown",
   "id": "3b84d3e6",
   "metadata": {},
   "source": [
    "### Teacher"
   ]
  },
  {
   "cell_type": "code",
   "execution_count": null,
   "id": "a6dfdc65",
   "metadata": {},
   "outputs": [],
   "source": [
    "SELECT employer_name,work_state, job_title_subgroup, paid_wage_per_year, prevailing_wage_per_year, paid_wage_per_year-prevailing_wage_per_year AS Diff\n",
    "FROM salary_data_states_corrected\n",
    "WHERE job_title_subgroup = \"teacher\"\n",
    "ORDER BY paid_wage_per_year-prevailing_wage_per_year ASC\n",
    "LIMIT 105\n",
    "##101"
   ]
  },
  {
   "cell_type": "code",
   "execution_count": 11,
   "id": "fb9adf57",
   "metadata": {},
   "outputs": [
    {
     "data": {
      "text/plain": [
       "0.060378531546288215"
      ]
     },
     "execution_count": 11,
     "metadata": {},
     "output_type": "execute_result"
    }
   ],
   "source": [
    "(101/167278)*100"
   ]
  },
  {
   "cell_type": "code",
   "execution_count": null,
   "id": "52ac9c99",
   "metadata": {},
   "outputs": [],
   "source": [
    "SELECT COUNT(job_title_subgroup)\n",
    "FROM salary_data_states_corrected\n",
    "WHERE job_title_subgroup = 'teacher'\n",
    "##13912"
   ]
  },
  {
   "cell_type": "markdown",
   "id": "2f101d14",
   "metadata": {},
   "source": [
    "## Interpretation"
   ]
  },
  {
   "cell_type": "markdown",
   "id": "dd3aa51a",
   "metadata": {},
   "source": [
    "What does this all reveal?\n",
    "Well,there are 167,278 rows in the data set. \n",
    "\n",
    "\n",
    "\n",
    "\n"
   ]
  }
 ],
 "metadata": {
  "kernelspec": {
   "display_name": "Python 3 (ipykernel)",
   "language": "python",
   "name": "python3"
  },
  "language_info": {
   "codemirror_mode": {
    "name": "ipython",
    "version": 3
   },
   "file_extension": ".py",
   "mimetype": "text/x-python",
   "name": "python",
   "nbconvert_exporter": "python",
   "pygments_lexer": "ipython3",
   "version": "3.9.7"
  }
 },
 "nbformat": 4,
 "nbformat_minor": 5
}
